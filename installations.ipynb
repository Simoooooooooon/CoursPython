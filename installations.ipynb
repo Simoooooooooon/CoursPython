{
 "cells": [
  {
   "cell_type": "markdown",
   "id": "50be5d99-339d-43ed-a557-30139502ca6a",
   "metadata": {},
   "source": [
    "***\n",
    "# **<center>COURS PYTHON 2IMACS#0</center>**\n",
    "# ***<center>Installations</center>***\n",
    "***"
   ]
  },
  {
   "cell_type": "markdown",
   "id": "cd52f3f9-1c54-4016-9cd3-0ca8b8cb51c8",
   "metadata": {},
   "source": [
    "# 0-1 Ouverture de Google Colab"
   ]
  },
  {
   "cell_type": "markdown",
   "id": "ff4e8510-75bc-42da-9ebd-49929af915f1",
   "metadata": {},
   "source": [
    "Ouvrir [Google Colab](https://colab.research.google.com) (vous aurez besoin d'une connexion à un compte google)"
   ]
  },
  {
   "cell_type": "markdown",
   "id": "5f58c5ac-877e-4591-a4ed-c633163bb4d3",
   "metadata": {},
   "source": [
    "![colab](fichiers_cours/Install/colab1.PNG)"
   ]
  },
  {
   "cell_type": "markdown",
   "id": "a448b358-2195-411d-b05d-a9adc4c8fb33",
   "metadata": {},
   "source": [
    "![colab](fichiers_cours/Install/colab2.png)"
   ]
  },
  {
   "cell_type": "markdown",
   "id": "1515567e-889a-452b-91be-c612b377431e",
   "metadata": {},
   "source": [
    "On peut maintenant enregistrer le notebook"
   ]
  },
  {
   "cell_type": "markdown",
   "id": "e41f8f2b-20b6-491a-82f0-914dafdf40d6",
   "metadata": {},
   "source": [
    "![colab](fichiers_cours/Install/colab3.png)"
   ]
  },
  {
   "cell_type": "markdown",
   "id": "ca7c8897-0dac-4b14-a79b-14142caef692",
   "metadata": {},
   "source": [
    "Il est aussi possible d'importer un notebook existant."
   ]
  },
  {
   "cell_type": "markdown",
   "id": "46c43f8d-19d1-42ec-9fb7-c3836af35f17",
   "metadata": {},
   "source": [
    "![colab](fichiers_cours/Install/colab4.png)"
   ]
  },
  {
   "cell_type": "markdown",
   "id": "be520257-8abc-4eee-898b-c64270352da7",
   "metadata": {},
   "source": [
    "![colab](fichiers_cours/Install/colab5.png)"
   ]
  },
  {
   "cell_type": "markdown",
   "id": "f4093ad0-93ff-49fa-a878-a28cebe8f0bf",
   "metadata": {},
   "source": [
    "# 0-2 Anaconda"
   ]
  },
  {
   "cell_type": "markdown",
   "id": "e719d1c4-5309-47fe-8df1-6d341863732f",
   "metadata": {},
   "source": [
    "## 0-2-1 Installation Anaconda"
   ]
  },
  {
   "cell_type": "markdown",
   "id": "7a827a29-5d7c-48e2-a196-a04bc99867e4",
   "metadata": {},
   "source": [
    "Ouvrir le fichier d'instalation Anaconda3-2023.09-0-Windows-x86_64.exe  \n",
    "Ce fichier a été téléchargé de la maniére suivante:  \n",
    "\n",
    "\n",
    "  \n",
    "![Download](fichiers_cours/Install/Capture.png)\n",
    "![Download](fichiers_cours/Install/Capture1.png)\n",
    "![Download](fichiers_cours/Install/Capture2.png)"
   ]
  },
  {
   "cell_type": "markdown",
   "id": "2e735d88-0fa8-463e-9d83-52c4d28b46ac",
   "metadata": {},
   "source": [
    "Suivre la procédure d'installation  \n",
    "\n",
    "  "
   ]
  },
  {
   "cell_type": "markdown",
   "id": "c089452d-d754-44e1-977e-35ebb1228847",
   "metadata": {},
   "source": [
    "![Download](fichiers_cours/Install/Capture3.png)"
   ]
  },
  {
   "cell_type": "markdown",
   "id": "cafbc061-7d01-4197-acda-abec28af8461",
   "metadata": {},
   "source": [
    "![Download](fichiers_cours/Install/Capture4.png)"
   ]
  },
  {
   "cell_type": "markdown",
   "id": "e809aa19-f6e6-41d8-ae26-354afce97bb9",
   "metadata": {},
   "source": [
    "![Download](fichiers_cours/Install/Capture5.png)"
   ]
  },
  {
   "cell_type": "markdown",
   "id": "a4cc332b-0ec4-432c-9c93-859e69b5959f",
   "metadata": {},
   "source": [
    "## 0-2-1 Création d'un environnement"
   ]
  },
  {
   "cell_type": "markdown",
   "id": "1d6b99a5-252c-4fe5-abe7-80dfbd135c32",
   "metadata": {},
   "source": [
    "Dans le menu démarer, on a maintenant un racourci vers Anaconda et un autre vers Anaconda prompt. Lancer Anaconda prompt.  \n"
   ]
  },
  {
   "cell_type": "markdown",
   "id": "90139e53-06a8-4d14-aaba-ef6bfa947b19",
   "metadata": {},
   "source": [
    "![Prompt](fichiers_cours/Install/prompt.png)"
   ]
  },
  {
   "cell_type": "markdown",
   "id": "489f6e86-a1f8-4e21-9837-9d268e296627",
   "metadata": {},
   "source": [
    "Le nom entre parenthèse nous indique l'environnement dans lequel on se trouve. Ici base est l'environnement par défaut. Nous allons maintenant crééer notre propre environnement pour que chacun de nous travaille avec des configurations identiques.  \n",
    "Nous choisirons : \n",
    "-  son nom (UEE2IMACS)\n",
    "- La version de python (python=3.11)\n",
    "- Et la version d'anaconda (conda=23.11)   \n",
    " "
   ]
  },
  {
   "cell_type": "markdown",
   "id": "bacd8a82-fc62-451a-aeb3-73ab71e9956a",
   "metadata": {},
   "source": [
    "![Prompt](fichiers_cours/Install/prompt2.png)"
   ]
  },
  {
   "cell_type": "markdown",
   "id": "cb9a1cdb-8be6-4c95-a2ef-d0ba3d0f0f73",
   "metadata": {},
   "source": [
    "Une fois que l'environnement est créé on doit l'activer. Après validation, le nom UEE2IMACS doit apparaitre en début de ligne entre parenthèses."
   ]
  },
  {
   "cell_type": "markdown",
   "id": "09ccc1e4-0020-4062-a89b-4b9f3aff5951",
   "metadata": {},
   "source": [
    "![Prompt](fichiers_cours/Install/prompt3.png)"
   ]
  },
  {
   "cell_type": "markdown",
   "id": "cc0532a7-7c07-4d19-aa9a-19824054e993",
   "metadata": {},
   "source": [
    "Il nous reste maintenant à installer l'ensemble des packages en précisant leur version. Nous utiliserons pip, mais les installations de package peuvent aussi se faire avec conda. Cependant il n'est pas recommandé d'utiliser les 2 methodes dans le même environnement.  \n",
    "<pre>pip install jupyterlab==4.0.10 numpy==1.26.3 matplotlib==3.8.2 pandas==2.1.4 pyqtgraph==0.13.3 plotly=5.18.0 scipy==1.11.4 spyder==5.5.0 opencv-python==4.9.0.80 scikit-learn==1.3.2 tensorflow==2.15.0 seaborn==0.13.1 scikit-image==0.22.0</pre>"
   ]
  },
  {
   "cell_type": "markdown",
   "id": "021a3627-2a89-45cd-a5b1-3d7c9ee1ad5c",
   "metadata": {},
   "source": [
    "![Prompt](fichiers_cours/Install/prompt4.png)"
   ]
  },
  {
   "cell_type": "markdown",
   "id": "c0e0276b-a902-498d-a524-464885fe8080",
   "metadata": {},
   "source": [
    "Une fois les packages installés, on peut lancer jupyter lab par exemple."
   ]
  },
  {
   "cell_type": "markdown",
   "id": "e5c55d5e-fb49-47e8-9159-031324bdd5c6",
   "metadata": {},
   "source": [
    "![Prompt](fichiers_cours/Install/prompt5.png)"
   ]
  },
  {
   "cell_type": "code",
   "execution_count": null,
   "id": "20cdb99d-c58d-4f2b-8e99-8cf55be5dca0",
   "metadata": {},
   "outputs": [],
   "source": []
  }
 ],
 "metadata": {
  "kernelspec": {
   "display_name": "Python 3 (ipykernel)",
   "language": "python",
   "name": "python3"
  },
  "language_info": {
   "codemirror_mode": {
    "name": "ipython",
    "version": 3
   },
   "file_extension": ".py",
   "mimetype": "text/x-python",
   "name": "python",
   "nbconvert_exporter": "python",
   "pygments_lexer": "ipython3",
   "version": "3.11.7"
  }
 },
 "nbformat": 4,
 "nbformat_minor": 5
}
