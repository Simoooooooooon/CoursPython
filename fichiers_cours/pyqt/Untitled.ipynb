{
 "cells": [
  {
   "cell_type": "code",
   "execution_count": 2,
   "id": "05615d0f-a25d-47ff-872f-bd6aa4252339",
   "metadata": {},
   "outputs": [
    {
     "name": "stderr",
     "output_type": "stream",
     "text": [
      "La syntaxe de la commande n'est pas correcte.\n"
     ]
    }
   ],
   "source": [
    "!python <interface.py>\n"
   ]
  },
  {
   "cell_type": "code",
   "execution_count": null,
   "id": "8b09e194-6fd8-44b5-bea3-a329f9dca719",
   "metadata": {},
   "outputs": [],
   "source": []
  }
 ],
 "metadata": {
  "kernelspec": {
   "display_name": "Python 3 (ipykernel)",
   "language": "python",
   "name": "python3"
  },
  "language_info": {
   "codemirror_mode": {
    "name": "ipython",
    "version": 3
   },
   "file_extension": ".py",
   "mimetype": "text/x-python",
   "name": "python",
   "nbconvert_exporter": "python",
   "pygments_lexer": "ipython3",
   "version": "3.10.13"
  }
 },
 "nbformat": 4,
 "nbformat_minor": 5
}
