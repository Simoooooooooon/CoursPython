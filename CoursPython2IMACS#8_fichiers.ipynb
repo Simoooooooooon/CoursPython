{
 "cells": [
  {
   "cell_type": "markdown",
   "id": "ad42bb04-a6ea-4dd8-aaf3-e9fcc354dfca",
   "metadata": {},
   "source": [
    "***\n",
    "# **<center>COURS PYTHON 2IMACS #8</center>**\n",
    "# ***<center>Fichiers</center>***\n",
    "\n",
    "***"
   ]
  },
  {
   "cell_type": "markdown",
   "id": "a8782ce6-d6cb-4cea-884e-cb5afa313333",
   "metadata": {},
   "source": [
    "Comme nous avons commencé à le voir, nous allons avoir besoin de charger des données à analyser depuis differents types de fichiers. De même nous aurons besoin de sauver nos analyses pour les partager ou pour des modifications futures. Nous allons donc avoir besoin de créer, modifier et sauver des fichiers. De nombreux formats et methodes sont à notre disponsition pour ces opérations."
   ]
  },
  {
   "cell_type": "markdown",
   "id": "ed872195-1a5b-4180-b6d5-01619fd18e1c",
   "metadata": {},
   "source": [
    "Avant  de commencer, précisons qu'il existe 2 manières d'indiquer l'emplacement d'un dossier (ou repertoire) ou d'un fichier.\n",
    "- Le chemin absolu: spécifie l'emplacement complet d'un fichier ou d'un répertoire à partir de la racine du système de fichiers. Sous Windows, un exemple de chemin absolu serait : \"C:\\Users\\Utilisateur\\Documents\\mon_fichier.txt\". Le chemin absolu fournit l'emplacement précis du fichier indépendamment de l'emplacement courant (en général celui du code python). Attention si on passe sur une autre machine il sera à modifier.\n",
    "- Un chemin relatif spécifie l'emplacement d'un fichier ou d'un répertoire par rapport à l'emplacement courant. Sous Windows, un exemple de chemin relatif serait : \"Documents\\mon_fichier.txt\". Le chemin relatif indique que le fichier se trouve dans le répertoire \"Documents\" situé dans le répertoire courant.\n",
    "\n",
    "Il faut remarquer que suivant les IDE, les chemins peuvent contenir des '/' (par exemple jupyter) ou des '\\\\' (par exemple spyder)"
   ]
  },
  {
   "cell_type": "markdown",
   "id": "a5d55365-07db-4bf7-baa4-be8ace09bc03",
   "metadata": {},
   "source": [
    "## 8-1 Création de fichiers"
   ]
  },
  {
   "cell_type": "markdown",
   "id": "df2809c2-fee3-4ec0-9b13-909b26397620",
   "metadata": {},
   "source": [
    "### 8-1-1 Syntaxe 'open' et 'close'"
   ]
  },
  {
   "cell_type": "markdown",
   "id": "77c905c8-873e-4cf3-8982-a5ecdff982fe",
   "metadata": {},
   "source": [
    "Créeons notre premier fichier. Nous définissons un chemin , ouvrons le fichier, puis le refermons."
   ]
  },
  {
   "cell_type": "code",
   "execution_count": 4,
   "id": "fccf127f-5b36-4d7b-b516-2cf877f60dee",
   "metadata": {},
   "outputs": [],
   "source": [
    "chemin = 'mes_fichiers/mon_fichier.txt'\n",
    "# creer le fichier \n",
    "fichier = open(chemin, 'w')\n",
    "# Fermer le fichier\n",
    "fichier.close()"
   ]
  },
  {
   "cell_type": "markdown",
   "id": "43bf3d46-edb5-4187-bbbe-30ac84bc6fc2",
   "metadata": {},
   "source": [
    "### 8-1-2 Syntaxe 'with'"
   ]
  },
  {
   "cell_type": "markdown",
   "id": "8896670f-f6d9-4f65-a339-b32f52e46eda",
   "metadata": {},
   "source": [
    "Une autre syntaxe permet de ne pas se préocuper de fermer de la fermeture du fichier, ça peut éviter des oublis et des erreurs..."
   ]
  },
  {
   "cell_type": "code",
   "execution_count": 5,
   "id": "80e13e00-8cbd-4d48-b762-21dcaf6a14dd",
   "metadata": {
    "tags": []
   },
   "outputs": [],
   "source": [
    "chemin = 'mes_fichiers/mon_fichier1.txt'"
   ]
  },
  {
   "cell_type": "code",
   "execution_count": 6,
   "id": "25847359-58ae-4814-a4a2-fbed64feb42d",
   "metadata": {
    "tags": []
   },
   "outputs": [],
   "source": [
    "with open(chemin, 'w') as fichier: # creer le fichier\n",
    "   pass # ne rien faire..."
   ]
  },
  {
   "cell_type": "markdown",
   "id": "5de9a393-7a20-4c34-a5ef-ec4674a443d9",
   "metadata": {},
   "source": [
    "### 8-1-3 Modes d'ouverture des fichiers"
   ]
  },
  {
   "cell_type": "markdown",
   "id": "7bafd6d1-15a9-4e5b-b8c2-9f490cc74188",
   "metadata": {},
   "source": [
    "Nous avons le choix entre 3 modes d'ouverture des fichiers: \n",
    "- Lecture: 'r' : accéder aux données à partir du fichier, mais pas modifier ou écrire de nouvelles données\n",
    "- Ecriture: 'w' :  créer un nouveau fichier ou écraser le contenu d'un fichier existant\n",
    "- Ajout: 'a' : écrire de nouvelles données à la fin du fichier sans supprimer son contenu précédent"
   ]
  },
  {
   "cell_type": "markdown",
   "id": "35a4d884-b845-4b35-85d9-f380f520cd03",
   "metadata": {},
   "source": [
    "## 8-2 Lecture et écriture dans un fichier texte"
   ]
  },
  {
   "cell_type": "markdown",
   "id": "88169cb5-e7b0-40aa-826f-844224382111",
   "metadata": {},
   "source": [
    "### 8-2-1 Méthodes read() et write()"
   ]
  },
  {
   "cell_type": "markdown",
   "id": "82e957a8-80e6-460c-92f1-b42c72961839",
   "metadata": {},
   "source": [
    "Ecrire:"
   ]
  },
  {
   "cell_type": "code",
   "execution_count": 14,
   "id": "f41b1ff8-d82f-43bb-9887-7b885f430fe3",
   "metadata": {
    "tags": []
   },
   "outputs": [],
   "source": [
    "chemin = 'mes_fichiers/mon_fichier2'"
   ]
  },
  {
   "cell_type": "code",
   "execution_count": 23,
   "id": "e15becb4-b6ec-4ad7-8859-14d4cd4b0e03",
   "metadata": {
    "tags": []
   },
   "outputs": [],
   "source": [
    "with open(chemin, 'w') as fichier:\n",
    "    fichier.write('What... is your favorite color?')"
   ]
  },
  {
   "cell_type": "markdown",
   "id": "7a7a04a4-1245-4f94-914f-29f7d3b7eee2",
   "metadata": {},
   "source": [
    "Lire:"
   ]
  },
  {
   "cell_type": "code",
   "execution_count": 24,
   "id": "5edf0f32-2584-49bb-a6f1-b3e9873800bc",
   "metadata": {
    "tags": []
   },
   "outputs": [
    {
     "name": "stdout",
     "output_type": "stream",
     "text": [
      "What... is your favorite color?\n"
     ]
    }
   ],
   "source": [
    "with open(chemin, 'r') as fichier:\n",
    "    contenu = fichier.read()\n",
    "    print(contenu)"
   ]
  },
  {
   "cell_type": "markdown",
   "id": "c48688f6-2d3b-4d06-81c9-7208cd1773e1",
   "metadata": {},
   "source": [
    "Ajouter:"
   ]
  },
  {
   "cell_type": "code",
   "execution_count": 25,
   "id": "a3ac72d9-fffb-4f1e-9b49-ffc5b470e66f",
   "metadata": {
    "tags": []
   },
   "outputs": [],
   "source": [
    "with open(chemin, 'a') as fichier:\n",
    "    fichier.write('Ni - The Knights Who Say Ni')"
   ]
  },
  {
   "cell_type": "code",
   "execution_count": 26,
   "id": "de031890-155d-4486-bf08-73cc0ac63a8c",
   "metadata": {
    "tags": []
   },
   "outputs": [
    {
     "name": "stdout",
     "output_type": "stream",
     "text": [
      "What... is your favorite color?Ni - The Knights Who Say Ni\n"
     ]
    }
   ],
   "source": [
    "with open(chemin, 'r') as fichier:\n",
    "    contenu = fichier.read()\n",
    "    print(contenu)"
   ]
  },
  {
   "cell_type": "markdown",
   "id": "f4720d34-2da5-40d0-a163-6eca1fe5777d",
   "metadata": {},
   "source": [
    "### 8-2-2 Méthodes readline() et readlines()"
   ]
  },
  {
   "cell_type": "markdown",
   "id": "f1e69a18-c735-42dd-afd1-576a51d188f1",
   "metadata": {},
   "source": [
    "On pourrait apporter une amélioration, en effet, les differents ajouts vont se faire les uns à la suite des autres. Des retours à la ligne seraient bienvenus. Utilisons les méthodes apropriées."
   ]
  },
  {
   "cell_type": "markdown",
   "id": "fc30e3af-f237-4fd5-82d7-dbfdc4c90d99",
   "metadata": {},
   "source": [
    "Pour l'écriture, on se contentera d'ajouter un retour chariot ('\\n) en fin de ligne"
   ]
  },
  {
   "cell_type": "code",
   "execution_count": 27,
   "id": "c777b3a0-7408-4d58-aa1d-fd1cd8ad14e9",
   "metadata": {
    "tags": []
   },
   "outputs": [],
   "source": [
    "with open(chemin, 'a') as fichier:\n",
    "    for i in range(5):\n",
    "        fichier.write('\\nNi')"
   ]
  },
  {
   "cell_type": "markdown",
   "id": "10ff96b6-d412-40e7-a665-f95922194350",
   "metadata": {},
   "source": [
    "La methode read affichera l'ensemble du contenu"
   ]
  },
  {
   "cell_type": "code",
   "execution_count": 28,
   "id": "db438965-c1c7-4650-85b1-9c547d44de66",
   "metadata": {
    "tags": []
   },
   "outputs": [
    {
     "name": "stdout",
     "output_type": "stream",
     "text": [
      "What... is your favorite color?Ni - The Knights Who Say Ni\n",
      "Ni\n",
      "Ni\n",
      "Ni\n",
      "Ni\n",
      "Ni\n"
     ]
    }
   ],
   "source": [
    "with open(chemin, 'r') as fichier:\n",
    "    contenu = fichier.read()\n",
    "    print(contenu)"
   ]
  },
  {
   "cell_type": "markdown",
   "id": "e5a12069-13cc-4539-9b2f-9795cf5f8693",
   "metadata": {},
   "source": [
    "Avec la methode readlines, on peut parcourir le fichier ligne à ligne. fichier.readlines() va renvoyer une liste dont chaque élément est le contenu d'une ligne."
   ]
  },
  {
   "cell_type": "code",
   "execution_count": 30,
   "id": "956513b7-0dad-448e-9a9a-491cd7cc6a9a",
   "metadata": {
    "tags": []
   },
   "outputs": [
    {
     "name": "stdout",
     "output_type": "stream",
     "text": [
      "le fichier contient  6  lignes\n",
      " le contenu du fichier est:  ['What... is your favorite color?Ni - The Knights Who Say Ni\\n', 'Ni\\n', 'Ni\\n', 'Ni\\n', 'Ni\\n', 'Ni']\n"
     ]
    }
   ],
   "source": [
    "with open(chemin, 'r') as fichier:\n",
    "    lignes = fichier.readlines()  # Lecture de toutes les lignes du fichier\n",
    "    nombre_lignes = len(lignes)  # Nombre de lignes dans le fichier \n",
    "    print('le fichier contient ',nombre_lignes,' lignes')\n",
    "    print(' le contenu du fichier est: ',lignes)"
   ]
  },
  {
   "cell_type": "markdown",
   "id": "d25190d8-5718-45cc-b359-fb9675ee8c16",
   "metadata": {},
   "source": [
    "Cette methode est trés efficace avec une boucle for pour afficher les lignes séparemment"
   ]
  },
  {
   "cell_type": "code",
   "execution_count": 31,
   "id": "7c9ddfe9-b126-42a5-95e4-71ec264948f5",
   "metadata": {
    "tags": []
   },
   "outputs": [
    {
     "name": "stdout",
     "output_type": "stream",
     "text": [
      "What... is your favorite color?Ni - The Knights Who Say Ni\n",
      "\n",
      "Ni\n",
      "\n",
      "Ni\n",
      "\n",
      "Ni\n",
      "\n",
      "Ni\n",
      "\n",
      "Ni\n"
     ]
    }
   ],
   "source": [
    "with open(chemin, 'r') as fichier:\n",
    "    lignes = fichier.readlines()  # Lecture de toutes les lignes du fichier\n",
    "    for ligne in lignes:\n",
    "        print(ligne)"
   ]
  },
  {
   "cell_type": "markdown",
   "id": "0028833b-ec0e-4f66-9bee-0821ccfc0aa3",
   "metadata": {},
   "source": [
    "## 8-3 Lecture et écriture dans d'autres formats de fichiers"
   ]
  },
  {
   "cell_type": "markdown",
   "id": "37b56b58-ce48-4979-8c36-1fc13340b184",
   "metadata": {},
   "source": [
    "### 8-3-1  Fichiers csv"
   ]
  },
  {
   "cell_type": "markdown",
   "id": "676e548c-2ac6-4732-8b6c-ba10032107fa",
   "metadata": {},
   "source": [
    "Pandas permet une manipulation très pratiques des fichiers textes et csv. Créons un pandas datframe"
   ]
  },
  {
   "cell_type": "code",
   "execution_count": 2,
   "id": "c563ef91-1526-492f-a77e-309ec4ea4237",
   "metadata": {
    "tags": []
   },
   "outputs": [
    {
     "data": {
      "text/html": [
       "<div>\n",
       "<style scoped>\n",
       "    .dataframe tbody tr th:only-of-type {\n",
       "        vertical-align: middle;\n",
       "    }\n",
       "\n",
       "    .dataframe tbody tr th {\n",
       "        vertical-align: top;\n",
       "    }\n",
       "\n",
       "    .dataframe thead th {\n",
       "        text-align: right;\n",
       "    }\n",
       "</style>\n",
       "<table border=\"1\" class=\"dataframe\">\n",
       "  <thead>\n",
       "    <tr style=\"text-align: right;\">\n",
       "      <th></th>\n",
       "      <th>Nom</th>\n",
       "      <th>Age</th>\n",
       "    </tr>\n",
       "  </thead>\n",
       "  <tbody>\n",
       "    <tr>\n",
       "      <th>0</th>\n",
       "      <td>Alice</td>\n",
       "      <td>25</td>\n",
       "    </tr>\n",
       "    <tr>\n",
       "      <th>1</th>\n",
       "      <td>Bob</td>\n",
       "      <td>30</td>\n",
       "    </tr>\n",
       "    <tr>\n",
       "      <th>2</th>\n",
       "      <td>Charlie</td>\n",
       "      <td>35</td>\n",
       "    </tr>\n",
       "  </tbody>\n",
       "</table>\n",
       "</div>"
      ],
      "text/plain": [
       "       Nom  Age\n",
       "0    Alice   25\n",
       "1      Bob   30\n",
       "2  Charlie   35"
      ]
     },
     "execution_count": 2,
     "metadata": {},
     "output_type": "execute_result"
    }
   ],
   "source": [
    "import pandas as pd\n",
    "\n",
    "# Création d'un DataFrame\n",
    "data = pd.DataFrame({'Nom': ['Alice', 'Bob', 'Charlie'],\n",
    "                     'Age': [25, 30, 35]})\n",
    "data.head()"
   ]
  },
  {
   "cell_type": "markdown",
   "id": "0d7b6d81-66af-45a8-9f61-37d0548aeb56",
   "metadata": {},
   "source": [
    "Sauvegardons dans un fichier texte"
   ]
  },
  {
   "cell_type": "code",
   "execution_count": 15,
   "id": "c1035347-357c-48a0-acd3-8547fb6e6eef",
   "metadata": {
    "tags": []
   },
   "outputs": [],
   "source": [
    "data.to_csv('mes_fichiers/ages.txt')"
   ]
  },
  {
   "cell_type": "markdown",
   "id": "f3173241-0b8b-42c8-9253-932a45ac9084",
   "metadata": {},
   "source": [
    "Si on ouvre le fichier, on voit que le format est bien en 2 colonnes. Elles sont séparées par des ',' on peut choisir d'autres séparateurs comme la tabulation, de même, on peut choisir de ne pas afficher les numéros de ligne:"
   ]
  },
  {
   "cell_type": "code",
   "execution_count": 17,
   "id": "db7e514b-8352-4f54-bdae-a9d72481484b",
   "metadata": {
    "tags": []
   },
   "outputs": [],
   "source": [
    "data.to_csv('mes_fichiers/ages.txt', sep='\\t',index = False)"
   ]
  },
  {
   "cell_type": "markdown",
   "id": "363ee615-0086-490b-a4df-40f87fa22aac",
   "metadata": {},
   "source": [
    "Le format csv est bien sûr pris en charge"
   ]
  },
  {
   "cell_type": "code",
   "execution_count": 18,
   "id": "273664a3-59fa-4d1c-8310-bce52db7d202",
   "metadata": {
    "tags": []
   },
   "outputs": [],
   "source": [
    "data.to_csv('mes_fichiers/ages.csv',sep='\\t',index = False)"
   ]
  },
  {
   "cell_type": "markdown",
   "id": "8db1faea-a325-47e3-9863-816d64d196f8",
   "metadata": {},
   "source": [
    "De la même maniere ce type de données peut être chargé avec "
   ]
  },
  {
   "cell_type": "code",
   "execution_count": 19,
   "id": "857898ce-c167-4b2c-b835-e801fcc72745",
   "metadata": {
    "tags": []
   },
   "outputs": [
    {
     "data": {
      "text/html": [
       "<div>\n",
       "<style scoped>\n",
       "    .dataframe tbody tr th:only-of-type {\n",
       "        vertical-align: middle;\n",
       "    }\n",
       "\n",
       "    .dataframe tbody tr th {\n",
       "        vertical-align: top;\n",
       "    }\n",
       "\n",
       "    .dataframe thead th {\n",
       "        text-align: right;\n",
       "    }\n",
       "</style>\n",
       "<table border=\"1\" class=\"dataframe\">\n",
       "  <thead>\n",
       "    <tr style=\"text-align: right;\">\n",
       "      <th></th>\n",
       "      <th>Nom</th>\n",
       "      <th>Age</th>\n",
       "    </tr>\n",
       "  </thead>\n",
       "  <tbody>\n",
       "    <tr>\n",
       "      <th>0</th>\n",
       "      <td>Alice</td>\n",
       "      <td>25</td>\n",
       "    </tr>\n",
       "    <tr>\n",
       "      <th>1</th>\n",
       "      <td>Bob</td>\n",
       "      <td>30</td>\n",
       "    </tr>\n",
       "    <tr>\n",
       "      <th>2</th>\n",
       "      <td>Charlie</td>\n",
       "      <td>35</td>\n",
       "    </tr>\n",
       "  </tbody>\n",
       "</table>\n",
       "</div>"
      ],
      "text/plain": [
       "       Nom  Age\n",
       "0    Alice   25\n",
       "1      Bob   30\n",
       "2  Charlie   35"
      ]
     },
     "execution_count": 19,
     "metadata": {},
     "output_type": "execute_result"
    }
   ],
   "source": [
    "data_lues_csv = pd.read_csv('mes_fichiers/ages.csv', sep='\\t')\n",
    "data_lues_csv.head()"
   ]
  },
  {
   "cell_type": "code",
   "execution_count": 20,
   "id": "d3e4b3ab-30e0-4fa6-83b4-f68bbbf5ca77",
   "metadata": {
    "tags": []
   },
   "outputs": [
    {
     "data": {
      "text/html": [
       "<div>\n",
       "<style scoped>\n",
       "    .dataframe tbody tr th:only-of-type {\n",
       "        vertical-align: middle;\n",
       "    }\n",
       "\n",
       "    .dataframe tbody tr th {\n",
       "        vertical-align: top;\n",
       "    }\n",
       "\n",
       "    .dataframe thead th {\n",
       "        text-align: right;\n",
       "    }\n",
       "</style>\n",
       "<table border=\"1\" class=\"dataframe\">\n",
       "  <thead>\n",
       "    <tr style=\"text-align: right;\">\n",
       "      <th></th>\n",
       "      <th>Nom</th>\n",
       "      <th>Age</th>\n",
       "    </tr>\n",
       "  </thead>\n",
       "  <tbody>\n",
       "    <tr>\n",
       "      <th>0</th>\n",
       "      <td>Alice</td>\n",
       "      <td>25</td>\n",
       "    </tr>\n",
       "    <tr>\n",
       "      <th>1</th>\n",
       "      <td>Bob</td>\n",
       "      <td>30</td>\n",
       "    </tr>\n",
       "    <tr>\n",
       "      <th>2</th>\n",
       "      <td>Charlie</td>\n",
       "      <td>35</td>\n",
       "    </tr>\n",
       "  </tbody>\n",
       "</table>\n",
       "</div>"
      ],
      "text/plain": [
       "       Nom  Age\n",
       "0    Alice   25\n",
       "1      Bob   30\n",
       "2  Charlie   35"
      ]
     },
     "execution_count": 20,
     "metadata": {},
     "output_type": "execute_result"
    }
   ],
   "source": [
    "data_lues_txt = pd.read_csv('mes_fichiers/ages.txt', sep='\\t')\n",
    "data_lues_txt.head()"
   ]
  },
  {
   "cell_type": "markdown",
   "id": "96959d15-4b9b-4afb-aeb0-51416ddfee6d",
   "metadata": {},
   "source": [
    "Les fonctions np.savetxt et np.loadtxt de numpy fonctionnent sur le même modéle"
   ]
  },
  {
   "cell_type": "code",
   "execution_count": 21,
   "id": "6e3d6cb1-d77c-445e-a1fc-e96cead4f736",
   "metadata": {
    "tags": []
   },
   "outputs": [],
   "source": [
    "import numpy as np\n",
    "# Création d'un tableau NumPy\n",
    "data = np.array([[1, 2, 3], [4, 5, 6], [7, 8, 9]])\n",
    "# Écriture du tableau dans un fichier CSV\n",
    "np.savetxt('mes_fichiers/mon_numpy.csv', data, delimiter='\\t')"
   ]
  },
  {
   "cell_type": "markdown",
   "id": "442e1972-8fef-4a43-9861-22e577a437b2",
   "metadata": {},
   "source": [
    "On peut choisir le format:"
   ]
  },
  {
   "cell_type": "code",
   "execution_count": 28,
   "id": "846e3c39-247b-4316-85ac-49bdfadf50b9",
   "metadata": {
    "tags": []
   },
   "outputs": [],
   "source": [
    "np.savetxt('mes_fichiers/mon_numpy.csv', data, delimiter='\\t', fmt='%d')"
   ]
  },
  {
   "cell_type": "markdown",
   "id": "ce089b40-23e8-47c2-8e2a-badb1a619b2b",
   "metadata": {
    "tags": []
   },
   "source": [
    "même chose pour le format txt:"
   ]
  },
  {
   "cell_type": "code",
   "execution_count": 29,
   "id": "7256c130-ba93-4b64-b0b9-90ec0e3f24ee",
   "metadata": {
    "tags": []
   },
   "outputs": [],
   "source": [
    "np.savetxt('mes_fichiers/mon_numpy.txt', data, delimiter='\\t', fmt='%d')"
   ]
  },
  {
   "cell_type": "markdown",
   "id": "22516185-f053-49b3-bb04-6e67ee327be2",
   "metadata": {},
   "source": [
    "Et pour charger les données:"
   ]
  },
  {
   "cell_type": "code",
   "execution_count": 30,
   "id": "56e71485-5c54-4926-a517-c14a60252776",
   "metadata": {
    "tags": []
   },
   "outputs": [
    {
     "name": "stdout",
     "output_type": "stream",
     "text": [
      "[[1. 2. 3.]\n",
      " [4. 5. 6.]\n",
      " [7. 8. 9.]]\n"
     ]
    }
   ],
   "source": [
    "data_lues_np_csv = np.loadtxt('mes_fichiers/mon_numpy.csv')\n",
    "print(data_lues_np_csv)"
   ]
  },
  {
   "cell_type": "markdown",
   "id": "f5280989-76ac-4e5d-9e8e-def8187f4de0",
   "metadata": {},
   "source": [
    "On a récupéré les données par lignes, pour les récupérer par colonne, il faut utiliser l'argument unpack = True."
   ]
  },
  {
   "cell_type": "code",
   "execution_count": 31,
   "id": "68d80c10-fdb7-4094-a3b4-07c7f82ed4b9",
   "metadata": {
    "tags": []
   },
   "outputs": [
    {
     "name": "stdout",
     "output_type": "stream",
     "text": [
      "[[1. 4. 7.]\n",
      " [2. 5. 8.]\n",
      " [3. 6. 9.]]\n"
     ]
    }
   ],
   "source": [
    "data_lues_np_txt = np.loadtxt('mes_fichiers/mon_numpy.txt', unpack = True)\n",
    "print(data_lues_np_txt)"
   ]
  },
  {
   "cell_type": "markdown",
   "id": "a845b50f-6472-40d8-b2d2-3a33338a70e6",
   "metadata": {},
   "source": [
    "### 8-3-2  Matplotlib"
   ]
  },
  {
   "cell_type": "markdown",
   "id": "0506d06d-e0ff-41ae-9199-f098e6b4974d",
   "metadata": {},
   "source": [
    "Matplotlib offre la possibilité de sauvegarder des graphiques et des figures dans différents formats de fichiers tels que PNG, JPEG, PDF grace à la methode savefig."
   ]
  },
  {
   "cell_type": "code",
   "execution_count": 1,
   "id": "518a31cb-d602-44b1-9a00-d22ad3735644",
   "metadata": {
    "tags": []
   },
   "outputs": [
    {
     "data": {
      "image/png": "[encoded data removed]",
      "text/plain": [
       "<Figure size 640x480 with 1 Axes>"
      ]
     },
     "metadata": {},
     "output_type": "display_data"
    }
   ],
   "source": [
    "import matplotlib.pyplot as plt\n",
    "import numpy as np\n",
    "\n",
    "# Exemple 1 : Sauvegarde d'un tracé simple en PNG\n",
    "x = np.linspace(0, 10, 100)\n",
    "y = np.sin(x)\n",
    "\n",
    "fig, ax = plt.subplots()\n",
    "ax.plot(x, y)\n",
    "\n",
    "plt.savefig('mes_fichiers/plot.jpg')"
   ]
  },
  {
   "cell_type": "markdown",
   "id": "cef4e57e-29ea-48da-81f5-d661b7f2bf81",
   "metadata": {},
   "source": [
    "De même , il est possible de charger un fichier image avec matplotlib"
   ]
  },
  {
   "cell_type": "code",
   "execution_count": 2,
   "id": "13de35a4-75a6-4824-9435-bf1783164bd1",
   "metadata": {
    "tags": []
   },
   "outputs": [
    {
     "data": {
      "image/png": "[encoded data removed]",
      "text/plain": [
       "<Figure size 640x480 with 1 Axes>"
      ]
     },
     "metadata": {},
     "output_type": "display_data"
    }
   ],
   "source": [
    "image = plt.imread('image.jpg')\n",
    "\n",
    "\n",
    "fig, ax = plt.subplots()\n",
    "ax.imshow(image);"
   ]
  },
  {
   "cell_type": "markdown",
   "id": "60ba5b63-580e-4bab-b0c2-a5b0f77d2666",
   "metadata": {},
   "source": [
    "[Exercice 1](exercices/Exercices8_solutions.ipynb)"
   ]
  },
  {
   "cell_type": "markdown",
   "id": "2c732606-708a-4b8f-a4df-ebbfdcdbcb2c",
   "metadata": {},
   "source": [
    "### 8-3-3  Module pickle pour fichiers binaires"
   ]
  },
  {
   "cell_type": "markdown",
   "id": "982ed425-3fc5-4514-b7c5-6e02a40e9ce0",
   "metadata": {},
   "source": [
    "Le module pickle permet de sauvegarder dans un fichier binaire n'importe quel objet python. On peut l'utiliser pour des listes, dictionnaires, tablaux numpy, pandas dataframe...\n",
    "Reprenons par exemple de dataframe du dernier cours:"
   ]
  },
  {
   "cell_type": "code",
   "execution_count": 3,
   "id": "6b7e74d4-c614-4ca0-bdd1-a9c74c013f72",
   "metadata": {
    "tags": []
   },
   "outputs": [
    {
     "name": "stdout",
     "output_type": "stream",
     "text": [
      "        colonne1  colonne2  colonne3\n",
      "ligne1         1         2         3\n",
      "ligne2         4         5         6\n",
      "ligne3         7         8         9\n",
      "ligne4        10        11        12\n"
     ]
    }
   ],
   "source": [
    "import numpy as np\n",
    "import pandas as pd\n",
    "data_array = np.array([[1, 2, 3], [4, 5, 6], [7, 8, 9], [10, 11, 12]])\n",
    "df = pd.DataFrame(data_array)\n",
    "df.index = ['ligne1', 'ligne2', 'ligne3', 'ligne4']\n",
    "df.columns = ['colonne1', 'colonne2', 'colonne3']\n",
    "print(df)"
   ]
  },
  {
   "cell_type": "markdown",
   "id": "6ffe4203-615e-484e-b04d-ab8b933cf817",
   "metadata": {
    "tags": []
   },
   "source": [
    "Créons notre fichier pickle"
   ]
  },
  {
   "cell_type": "code",
   "execution_count": 4,
   "id": "e92582ac-1b72-4cf8-ac8f-262048e9a461",
   "metadata": {
    "tags": []
   },
   "outputs": [],
   "source": [
    "import pickle\n",
    "chemin = 'mes_fichiers/mon_fichier_pkl.pkl'\n",
    "with open(chemin, 'wb') as fichier: #on remarque que ici on est en mode lecture (w) et binaire (b)\n",
    "    pickle.dump(df, fichier)"
   ]
  },
  {
   "cell_type": "markdown",
   "id": "5df36f4b-d6c8-4cd2-bf15-b14758e942ae",
   "metadata": {},
   "source": [
    "Bien sûr, le fichier binaire ne sera pas lisible avec un bloc note. Il faudra le charger à nouveau et le traiter comme un fichier pandas."
   ]
  },
  {
   "cell_type": "code",
   "execution_count": 5,
   "id": "087ebc96-b75d-46ee-aa8e-f01c588b5bb0",
   "metadata": {
    "tags": []
   },
   "outputs": [
    {
     "name": "stdout",
     "output_type": "stream",
     "text": [
      "        colonne1  colonne2  colonne3\n",
      "ligne1         1         2         3\n",
      "ligne2         4         5         6\n",
      "ligne3         7         8         9\n",
      "ligne4        10        11        12\n"
     ]
    }
   ],
   "source": [
    "with open(chemin, 'rb') as fichier:\n",
    "    df_load = pickle.load(fichier)\n",
    "print(df_load)"
   ]
  },
  {
   "cell_type": "markdown",
   "id": "acd764db-14a3-471f-97f9-b625fb446535",
   "metadata": {},
   "source": [
    "### 8-3-4 Autres types de fichiers"
   ]
  },
  {
   "cell_type": "markdown",
   "id": "35f5d2aa-15d8-488b-a2be-5d4097191be2",
   "metadata": {},
   "source": [
    "La methode pickle est quasi universelle pour les objets python, cependant, il existe d'autres types de fichiers qui peuvent avoir des interêts dans certaines situations."
   ]
  },
  {
   "cell_type": "markdown",
   "id": "3fca52ba-1cb3-4be3-aee9-0724e83ed43e",
   "metadata": {},
   "source": [
    "| Format de fichier | Intérêt spécifique | Bibliothèque associée | Avantages | Limitations |\n",
    "|-------------------|--------------------|----------------------|-----------|-------------|\n",
    "| npy`            | Stockage efficace et compact de tableaux NumPy | NumPy | - Compatibilité totale avec les tableaux NumPy. <br> - Lecture et écriture rapides des tableaux NumPy. <br> - Conservation des métadonnées du tableau. | - Limité aux tableaux NumPy. <br> - Peut ne pas être compatible avec d'autres bibliothèques. |\n",
    "| HDF5              | Stockage de données scientifiques complexes et hiérarchiques | h5py (Python) | - Prise en charge de structures de données complexes. <br> - Compression des données. <br> - Lecture et écriture efficaces. | - Courbe d'apprentissage plus longue. <br> - Certaines fonctionnalités avancées peuvent être complexes. |\n",
    "| JSON              | Stockage de données structurées lisibles par l'homme | json (Python) | - Facilité de lecture et d'écriture. <br> - Compatibilité multi-langages. <br> - Prise en charge des types de données courants. | - Moins efficace en termes d'espace de stockage et de performance. <br> - Limité aux types de données simples. |\n"
   ]
  },
  {
   "cell_type": "markdown",
   "id": "5e40349c-7363-4521-8a87-c8aade1ba076",
   "metadata": {},
   "source": [
    "## 8-4 Manipulations avancées de fichier et interaction avec le système d'explotation"
   ]
  },
  {
   "cell_type": "markdown",
   "id": "0bb9be9b-4067-4c66-b223-fcdabc60a6e6",
   "metadata": {},
   "source": [
    "### 8-4-1 os : interaction avec le système d'exploitation"
   ]
  },
  {
   "cell_type": "markdown",
   "id": "2fbdf2f6-8bea-46ab-beea-1646799d759f",
   "metadata": {},
   "source": [
    "Création de répertoire"
   ]
  },
  {
   "cell_type": "code",
   "execution_count": 7,
   "id": "7ee4d98b-8d7b-4b46-b865-f58b41f395d4",
   "metadata": {
    "tags": []
   },
   "outputs": [],
   "source": [
    "import os\n",
    "chemin = 'mes_fichiers/mon_repertoire'\n",
    "os.mkdir(chemin)"
   ]
  },
  {
   "cell_type": "markdown",
   "id": "ab0dc485-af3f-4c65-855a-82d9a526c5c7",
   "metadata": {},
   "source": [
    "Si on tente d'éxecuter à nouveau le code, on a une erreur, car le fichier existe déja, mais on peut testerr son existence. "
   ]
  },
  {
   "cell_type": "code",
   "execution_count": 8,
   "id": "8a5ad159-a69b-4b1c-9fb4-9ee4f8a5658e",
   "metadata": {
    "tags": []
   },
   "outputs": [
    {
     "name": "stdout",
     "output_type": "stream",
     "text": [
      "le dossier existe déja!\n"
     ]
    }
   ],
   "source": [
    "import os\n",
    "chemin = 'mes_fichiers/mon_repertoire'\n",
    "if os.path.exists(chemin):\n",
    "    print('le dossier existe déja!')\n",
    "else:\n",
    "    os.mkdir(chemin)\n",
    "    print('le dossier a été crée')"
   ]
  },
  {
   "cell_type": "markdown",
   "id": "cb4d3b75-eca1-4581-8c67-be8db3d2451c",
   "metadata": {},
   "source": [
    "De la meme maniere, on peut effacer des fichiers"
   ]
  },
  {
   "cell_type": "code",
   "execution_count": 9,
   "id": "182edace-71a5-453b-a589-f91551b820b9",
   "metadata": {
    "tags": []
   },
   "outputs": [
    {
     "name": "stdout",
     "output_type": "stream",
     "text": [
      "fichier inexistant\n"
     ]
    }
   ],
   "source": [
    "chemin = 'mes_fichiers/mon_fichier.txt'\n",
    "if os.path.exists(chemin):\n",
    "    os.remove(chemin)\n",
    "    print('fichier effacé')\n",
    "else:\n",
    "    print('fichier inexistant')"
   ]
  },
  {
   "cell_type": "markdown",
   "id": "367534d5-e9aa-48d1-9513-bf4b5c25f475",
   "metadata": {},
   "source": [
    "On peut renommer un fichier ou un repertoire"
   ]
  },
  {
   "cell_type": "code",
   "execution_count": 10,
   "id": "cbfad561-9d92-48fc-9cb0-8a54c40851c0",
   "metadata": {
    "tags": []
   },
   "outputs": [
    {
     "name": "stdout",
     "output_type": "stream",
     "text": [
      "fichier inexistant\n"
     ]
    }
   ],
   "source": [
    "chemin = 'mes_fichiers/mon_fichier2'\n",
    "if os.path.exists(chemin):\n",
    "    os.rename(chemin,chemin+'_new')\n",
    "    print('fichier renommé')\n",
    "else:\n",
    "    print('fichier inexistant')"
   ]
  },
  {
   "cell_type": "markdown",
   "id": "70d0ae6d-38ac-4542-8ac5-dfddf43f9168",
   "metadata": {},
   "source": [
    "On peut obtenir la liste des fichiers contenus dans un dossier"
   ]
  },
  {
   "cell_type": "code",
   "execution_count": 11,
   "id": "ea93c8fa-23da-4717-9e5f-0276a2a125b2",
   "metadata": {
    "tags": []
   },
   "outputs": [
    {
     "data": {
      "text/plain": [
       "['.ipynb_checkpoints',\n",
       " 'ages.csv',\n",
       " 'ages.txt',\n",
       " 'exercices',\n",
       " 'mon_fichier1.txt',\n",
       " 'mon_fichier2_new',\n",
       " 'mon_fichier_pkl.pkl',\n",
       " 'mon_numpy.csv',\n",
       " 'mon_numpy.txt',\n",
       " 'mon_repertoire',\n",
       " 'mon_repertoire_old',\n",
       " 'old',\n",
       " 'plot.jpg']"
      ]
     },
     "execution_count": 11,
     "metadata": {},
     "output_type": "execute_result"
    }
   ],
   "source": [
    "chemin = 'mes_fichiers'\n",
    "os.listdir(chemin)"
   ]
  },
  {
   "cell_type": "markdown",
   "id": "93c7ae2f-16c6-4cb7-b864-4a5a2ee9cd37",
   "metadata": {},
   "source": [
    "On peut assembler des noms de dossier et de fichier pour faire des chemins"
   ]
  },
  {
   "cell_type": "code",
   "execution_count": 12,
   "id": "84b8c2d8-9417-42c6-baef-8665097150f2",
   "metadata": {
    "tags": []
   },
   "outputs": [
    {
     "name": "stdout",
     "output_type": "stream",
     "text": [
      "mes_fichiers/mon_fichier1.txt\n"
     ]
    }
   ],
   "source": [
    "dossier = 'mes_fichiers/'\n",
    "fichier = 'mon_fichier1.txt'\n",
    "chemin = os.path.join(dossier,fichier)\n",
    "print(chemin)"
   ]
  },
  {
   "cell_type": "markdown",
   "id": "c3d16e77-f3bf-4dc8-a8d3-7790f21c8711",
   "metadata": {
    "tags": []
   },
   "source": [
    "### 8-4-2 glob : Traitement de fichiers et dossiers en lots"
   ]
  },
  {
   "cell_type": "markdown",
   "id": "c1eb8605-9cf8-4d94-a28a-42807c5db3d7",
   "metadata": {},
   "source": [
    "glob permet de parcourir facilement les répertoires et de filtrer les fichiers en fonction de leur nom ou de leur extension."
   ]
  },
  {
   "cell_type": "markdown",
   "id": "7c361272-78d6-4881-a5ff-f94fbc2b7fa2",
   "metadata": {},
   "source": [
    "Lister les fichiers d'un repertoire:"
   ]
  },
  {
   "cell_type": "code",
   "execution_count": 13,
   "id": "1c6a6e77-f120-439d-b844-5187c04af785",
   "metadata": {
    "tags": []
   },
   "outputs": [
    {
     "name": "stdout",
     "output_type": "stream",
     "text": [
      "mes_fichiers\\ages.csv\n",
      "mes_fichiers\\ages.txt\n",
      "mes_fichiers\\exercices\n",
      "mes_fichiers\\mon_fichier1.txt\n",
      "mes_fichiers\\mon_fichier2_new\n",
      "mes_fichiers\\mon_fichier_pkl.pkl\n",
      "mes_fichiers\\mon_numpy.csv\n",
      "mes_fichiers\\mon_numpy.txt\n",
      "mes_fichiers\\mon_repertoire\n",
      "mes_fichiers\\mon_repertoire_old\n",
      "mes_fichiers\\old\n",
      "mes_fichiers\\plot.jpg\n"
     ]
    }
   ],
   "source": [
    "import glob\n",
    "\n",
    "# Liste tous les fichiers dans le répertoire \"mes_fichiers\"\n",
    "fichiers = glob.glob('mes_fichiers/*')\n",
    "\n",
    "# Parcours la liste des fichiers et les affiche\n",
    "for fichier in fichiers:\n",
    "    print(fichier)\n"
   ]
  },
  {
   "cell_type": "markdown",
   "id": "3f6eb4ed-5e47-4a3e-a404-61c841803ead",
   "metadata": {},
   "source": [
    "On peut limiter à un type de fichier, demandons ici uniquement les fichiers pickle"
   ]
  },
  {
   "cell_type": "code",
   "execution_count": 14,
   "id": "cdfa308a-4d68-42dd-b96a-ccd63f45b65a",
   "metadata": {
    "tags": []
   },
   "outputs": [
    {
     "name": "stdout",
     "output_type": "stream",
     "text": [
      "mes_fichiers\\mon_fichier_pkl.pkl\n"
     ]
    }
   ],
   "source": [
    "# Liste tous les fichiers texte dans le répertoire \"mes_fichiers\"\n",
    "fichiers_texte = glob.glob('mes_fichiers/*.pkl')\n",
    "\n",
    "# Parcours la liste des fichiers et les affiche\n",
    "for fichier in fichiers_texte:\n",
    "    print(fichier)\n"
   ]
  },
  {
   "cell_type": "markdown",
   "id": "346a77b1-b4ce-495d-a917-663f46be0348",
   "metadata": {},
   "source": [
    "On peut réaliser des opérations de tri, par exemple par date:"
   ]
  },
  {
   "cell_type": "code",
   "execution_count": 15,
   "id": "38cd649d-f340-4a14-9561-f9a710d1b5d2",
   "metadata": {
    "tags": []
   },
   "outputs": [
    {
     "name": "stdout",
     "output_type": "stream",
     "text": [
      "mes_fichiers\\mon_repertoire_old\n",
      "mes_fichiers\\exercices\n",
      "mes_fichiers\\old\n",
      "mes_fichiers\\mon_fichier1.txt\n",
      "mes_fichiers\\mon_fichier2_new\n",
      "mes_fichiers\\ages.txt\n",
      "mes_fichiers\\ages.csv\n",
      "mes_fichiers\\mon_numpy.csv\n",
      "mes_fichiers\\mon_numpy.txt\n",
      "mes_fichiers\\plot.jpg\n",
      "mes_fichiers\\mon_fichier_pkl.pkl\n",
      "mes_fichiers\\mon_repertoire\n"
     ]
    }
   ],
   "source": [
    "\n",
    "\n",
    "# Définir le chemin du répertoire\n",
    "chemin = 'mes_fichiers/'\n",
    "\n",
    "# Obtenir la liste des fichiers dans le répertoire\n",
    "fichiers = glob.glob(os.path.join(chemin, '*'))\n",
    "\n",
    "# Trier les fichiers par date de modification\n",
    "fichiers_tries_par_date = sorted(fichiers, key=os.path.getmtime)\n",
    "\n",
    "# Afficher les fichiers triés par date\n",
    "for fichier in fichiers_tries_par_date:\n",
    "    print(fichier)"
   ]
  },
  {
   "cell_type": "markdown",
   "id": "def30fb7-387d-4f8b-9fc3-b3cac76e4dcd",
   "metadata": {},
   "source": [
    "ou par nom"
   ]
  },
  {
   "cell_type": "code",
   "execution_count": 16,
   "id": "b4c25261-5ceb-435a-ac62-727dfac1f208",
   "metadata": {
    "tags": []
   },
   "outputs": [
    {
     "name": "stdout",
     "output_type": "stream",
     "text": [
      "mes_fichiers\\ages.csv\n",
      "mes_fichiers\\ages.txt\n",
      "mes_fichiers\\exercices\n",
      "mes_fichiers\\mon_fichier1.txt\n",
      "mes_fichiers\\mon_fichier2_new\n",
      "mes_fichiers\\mon_fichier_pkl.pkl\n",
      "mes_fichiers\\mon_numpy.csv\n",
      "mes_fichiers\\mon_numpy.txt\n",
      "mes_fichiers\\mon_repertoire\n",
      "mes_fichiers\\mon_repertoire_old\n",
      "mes_fichiers\\old\n",
      "mes_fichiers\\plot.jpg\n"
     ]
    }
   ],
   "source": [
    "# Obtenir la liste des fichiers dans le répertoire\n",
    "fichiers = glob.glob(os.path.join(chemin, '*'))\n",
    "\n",
    "# Trier les fichiers par nom\n",
    "fichiers_tries_par_nom = sorted(fichiers, key=os.path.basename)\n",
    "\n",
    "# Afficher les fichiers triés par nom\n",
    "for fichier in fichiers_tries_par_nom:\n",
    "    print(fichier)"
   ]
  },
  {
   "cell_type": "markdown",
   "id": "73447798-04b7-4323-8f60-72e305ae856d",
   "metadata": {},
   "source": [
    "Il existe bien sûr de nombreuses autres fonctions pour os et glob, que je vous invite à rechercher en cas de besoin."
   ]
  },
  {
   "cell_type": "markdown",
   "id": "a6742171-350f-4945-82b5-485f75bc9e66",
   "metadata": {},
   "source": [
    "[Exercice 2](exercices/Exercices8_solutions.ipynb)"
   ]
  },
  {
   "cell_type": "code",
   "execution_count": null,
   "id": "3b0579c4-cf76-4a33-b4c1-9eb5913f8da8",
   "metadata": {},
   "outputs": [],
   "source": []
  },
  {
   "cell_type": "code",
   "execution_count": null,
   "id": "115f180b-9ac3-44e1-a60c-187f8697aa46",
   "metadata": {},
   "outputs": [],
   "source": []
  },
  {
   "cell_type": "code",
   "execution_count": null,
   "id": "aab53d80-bb47-4e4d-884c-9a2f8cc532dc",
   "metadata": {},
   "outputs": [],
   "source": []
  },
  {
   "cell_type": "code",
   "execution_count": null,
   "id": "27ac2f85-b4aa-4fe9-9d14-f3fc8f52bea9",
   "metadata": {},
   "outputs": [],
   "source": []
  },
  {
   "cell_type": "code",
   "execution_count": null,
   "id": "4b741cf9-4871-4046-ba72-0b66f9e8ad80",
   "metadata": {},
   "outputs": [],
   "source": []
  },
  {
   "cell_type": "code",
   "execution_count": null,
   "id": "b3c9fd8f-7994-46b9-b0f3-26b686a4431c",
   "metadata": {},
   "outputs": [],
   "source": []
  },
  {
   "cell_type": "code",
   "execution_count": null,
   "id": "2ca5dfa5-89ad-4ea0-b9fd-973f013ce461",
   "metadata": {},
   "outputs": [],
   "source": []
  },
  {
   "cell_type": "code",
   "execution_count": null,
   "id": "e246b027-d92b-4cfb-8f28-915085a41eb2",
   "metadata": {},
   "outputs": [],
   "source": []
  },
  {
   "cell_type": "code",
   "execution_count": null,
   "id": "fa95b626-13d9-40ae-afd6-d370324b6771",
   "metadata": {},
   "outputs": [],
   "source": []
  },
  {
   "cell_type": "code",
   "execution_count": null,
   "id": "09eb9105-08b5-467a-9d87-dc5ed02b965f",
   "metadata": {},
   "outputs": [],
   "source": []
  },
  {
   "cell_type": "code",
   "execution_count": null,
   "id": "40f8d81d-69f2-4281-8574-f574d16cd11c",
   "metadata": {},
   "outputs": [],
   "source": []
  },
  {
   "cell_type": "markdown",
   "id": "71127580-55b0-4a00-8b8d-3660a3293989",
   "metadata": {
    "tags": []
   },
   "source": [
    "<!-- ***\n",
    "\n",
    "# ***<center>Exercices</center>***\n",
    "\n",
    "*** -->"
   ]
  },
  {
   "cell_type": "markdown",
   "id": "d733daf2-7247-402a-8037-5d343d29b9a8",
   "metadata": {
    "tags": []
   },
   "source": [
    "## Exercice 1\n",
    "\n",
    "1. Créez un dossier appelé 'exercices' dans le dossier mes_fichiers en utilisant le chemin absolu.\n",
    "2. Dans le dossier exercices, créez un dossier appelé 'exercice1' et quatre dossiers nommés 'dossier1', 'dossier2', ..., 'dossier4'.\n",
    "3. Dans le dossier 'dossier1', créez dix fichiers textes appelés 'fichier1.txt', 'fichier2.txt', ..., 'fichier10.txt'.\n",
    "4. Remplir les 10 fichiers avec chacun 2 colonnes séparées par une tabulation  :\n",
    "- la premiere contenant des nombres decimaux commençant à 0, jusqu'à 100 avec un pas de 0.5\n",
    "- la deuxieme contenant un nombre aleatoire obtenu par une distribution gausienne\n",
    "5. Récupérer les données contenus dans les 10 fichiers texte pour les rassembler dans un pandas dataframe.\n",
    "On utilisera la fonction  pd.read_csv(filename, sep='\\t', header=None, usecols=[1] dans une boucle pour récupérer les nombres aléatoires de chaque fichier.\n",
    "6. Ajouter des noms aux lignes et aux colonnes\n",
    "7. Explorer succitement le dataset (regarder quelques lignes, donner les statistiques sur les valeurs aléatoires, representer les distribution des données)"
   ]
  },
  {
   "cell_type": "code",
   "execution_count": 75,
   "id": "90cb4fc6-6fb2-415d-bd94-edade18ff961",
   "metadata": {
    "tags": []
   },
   "outputs": [
    {
     "name": "stdout",
     "output_type": "stream",
     "text": [
      "Le dossier existe déjà.\n"
     ]
    }
   ],
   "source": [
    "# 1 - creez un dossier appelé 'exercices' dans le dossier mes_fichiers en utilisant le chemin absolu  \n",
    "import os\n",
    "chemin = 'C:/Users/cayez/Documents/DONNEES SIMON/cours python 2IMACS/cours 2 IMACS Simon/mes_fichiers/exercices'\n",
    "\n",
    "# Vérifier si le dossier existe déjà\n",
    "if os.path.exists(chemin):\n",
    "    print(\"Le dossier existe déjà.\")\n",
    "else:\n",
    "    # Créer le dossier\n",
    "    os.mkdir(chemin)\n",
    "    print(\"Le dossier a été créé avec succès.\")\n"
   ]
  },
  {
   "cell_type": "code",
   "execution_count": 76,
   "id": "91965e56-d4d6-4a5e-a0be-3ecea135abc1",
   "metadata": {
    "tags": []
   },
   "outputs": [
    {
     "name": "stdout",
     "output_type": "stream",
     "text": [
      "Le dossier existe déjà.\n"
     ]
    }
   ],
   "source": [
    "# 2- Dans le dossier exercices creez un dossier appelé 'exercice1' 4 dossiers, nommés 'dossier1', 'dossier2',...'dossier4' dans exercices\n",
    "\n",
    "chemin = 'C:/Users/cayez/Documents/DONNEES SIMON/cours python 2IMACS/cours 2 IMACS Simon/mes_fichiers/exercices/exercice1'\n",
    "\n",
    " #Vérifier si le dossier existe déjà\n",
    "if os.path.exists(chemin):\n",
    "    print(\"Le dossier existe déjà.\")\n",
    "else:\n",
    "    # Créer le dossier\n",
    "    os.mkdir(chemin)\n",
    "    print(\"Le dossier a été créé avec succès.\")"
   ]
  },
  {
   "cell_type": "code",
   "execution_count": 77,
   "id": "4e0605d6-06a7-408f-af27-5059bd00ebb8",
   "metadata": {
    "tags": []
   },
   "outputs": [
    {
     "name": "stdout",
     "output_type": "stream",
     "text": [
      "C:/Users/cayez/Documents/DONNEES SIMON/cours python 2IMACS/cours 2 IMACS Simon/mes_fichiers/exercices/exercice1\\dossier1\n",
      "dossier1  existe déja\n",
      "C:/Users/cayez/Documents/DONNEES SIMON/cours python 2IMACS/cours 2 IMACS Simon/mes_fichiers/exercices/exercice1\\dossier2\n",
      "dossier2  existe déja\n",
      "C:/Users/cayez/Documents/DONNEES SIMON/cours python 2IMACS/cours 2 IMACS Simon/mes_fichiers/exercices/exercice1\\dossier3\n",
      "dossier3  existe déja\n",
      "C:/Users/cayez/Documents/DONNEES SIMON/cours python 2IMACS/cours 2 IMACS Simon/mes_fichiers/exercices/exercice1\\dossier4\n",
      "dossier4  existe déja\n"
     ]
    }
   ],
   "source": [
    "\n",
    "for i in range(1, 5):\n",
    "    # nom_dossier = f\"dossier{i}\"\n",
    "    nom_dossier = 'dossier'+str(i)\n",
    "    chemin_dossier = os.path.join(chemin, nom_dossier)\n",
    "    # chemin_dossier = chemin+nom_dossier\n",
    "    print(chemin_dossier)\n",
    "    \n",
    "    # Vérifier si le dossier existe déjà\n",
    "    if os.path.exists(chemin_dossier):\n",
    "        print(nom_dossier,' existe déja')\n",
    "\n",
    "    else:\n",
    "        # Créer le dossier\n",
    "        os.mkdir(chemin_dossier)\n",
    "        print(nom_dossier,' crée avec succès')\n"
   ]
  },
  {
   "cell_type": "code",
   "execution_count": 78,
   "id": "e024a940-10fe-4ac7-b2c8-5bb6aa3272fa",
   "metadata": {
    "tags": []
   },
   "outputs": [],
   "source": [
    "# os.listdir(chemin)"
   ]
  },
  {
   "cell_type": "code",
   "execution_count": null,
   "id": "49098e45-aae7-4fbd-8594-1b195e05b686",
   "metadata": {
    "tags": []
   },
   "outputs": [],
   "source": []
  },
  {
   "cell_type": "code",
   "execution_count": 79,
   "id": "d3c9857b-c9e5-4db7-98bf-e1c8bc09ba62",
   "metadata": {
    "tags": []
   },
   "outputs": [
    {
     "name": "stdout",
     "output_type": "stream",
     "text": [
      "Le fichier fichier1.txt existe déjà.\n",
      "Le fichier fichier2.txt existe déjà.\n",
      "Le fichier fichier3.txt existe déjà.\n",
      "Le fichier fichier4.txt existe déjà.\n",
      "Le fichier fichier5.txt existe déjà.\n",
      "Le fichier fichier6.txt existe déjà.\n",
      "Le fichier fichier7.txt existe déjà.\n",
      "Le fichier fichier8.txt existe déjà.\n",
      "Le fichier fichier9.txt existe déjà.\n",
      "Le fichier fichier10.txt existe déjà.\n"
     ]
    }
   ],
   "source": [
    "# 3. Dans le dossier 'dossier1', créez dix fichiers textes appelés 'fichier1.txt', 'fichier2.txt', ..., 'fichier10.txt'.\n",
    "\n",
    "chemin = 'C:/Users/cayez/Documents/DONNEES SIMON/cours python 2IMACS/cours 2 IMACS Simon/mes_fichiers/exercices/exercice1/dossier1'\n",
    "fichiers = os.listdir(chemin)\n",
    "\n",
    "# Créer les fichiers\n",
    "for i in range(1, 11):\n",
    "    nom_fichier = 'fichier'+str(i)+'.txt'\n",
    "    chemin_fichier = os.path.join(chemin, nom_fichier)\n",
    "    \n",
    "    # Vérifier si le fichier existe déjà\n",
    "    if os.path.exists(chemin_fichier):\n",
    "        print(f\"Le fichier {nom_fichier} existe déjà.\")\n",
    "    else:\n",
    "        # Créer le fichier\n",
    "        with open(chemin_fichier, 'w') as fichier:\n",
    "            pass\n",
    "        print(f\"Le fichier {nom_fichier} a été créé avec succès.\")\n"
   ]
  },
  {
   "cell_type": "code",
   "execution_count": 80,
   "id": "bbff5128-4248-49f0-9d7e-11711fa64f97",
   "metadata": {
    "tags": []
   },
   "outputs": [],
   "source": [
    "# 4. Remplir les 10 fichiers avec chacun 2 colonnes séparées par une tabulation  :\n",
    "# - la premiere contenant des nombres decimaux commençant à 0, jusqu'à 100 avec un pas de 0.5\n",
    "# - la deuxieme contenant un nombre aleatoire obtenu par une distribution gausiienne\n",
    "import random\n",
    "import numpy as np\n",
    "\n",
    "fichiers = os.listdir(chemin)\n",
    "\n",
    "liste_chemin_absolu = []\n",
    "for f in fichiers:\n",
    "    chemin_absolu = os.path.join(chemin,f)\n",
    "    liste_chemin_absolu.append(chemin_absolu)\n",
    "    \n",
    "\n",
    "for filename in liste_chemin_absolu:  \n",
    "    with open(filename, 'a') as file:\n",
    "        file.write(\"Decimal Number\\tRandom Number\\n\")\n",
    "        decimal_numbers = np.arange(0, 100.5, 0.5)\n",
    "        for decimal_number in decimal_numbers:\n",
    "            random_number = random.gauss(0, 1)\n",
    "            file.write(str(decimal_number) + \"\\t\" + str(random_number) + \"\\n\")\n"
   ]
  },
  {
   "cell_type": "code",
   "execution_count": 81,
   "id": "befc5f6b-f734-4b84-bc3d-712c25d258b8",
   "metadata": {
    "tags": []
   },
   "outputs": [],
   "source": [
    "# import pandas as pd\n",
    "\n",
    "# # Créer un DataFrame vide\n",
    "# df = pd.DataFrame()\n",
    "\n",
    "# # Parcourir la liste des chemins absolus\n",
    "# for chemin_absolu in liste_chemin_absolu:\n",
    "#     # Lire le fichier en utilisant la tabulation comme délimiteur\n",
    "#     data = pd.read_csv(chemin_absolu, sep='\\t', header=None, usecols=[1])\n",
    "#     # Ajouter les données à la colonne du DataFrame\n",
    "#     df = pd.concat([df, data], ignore_index=True)\n",
    "\n",
    "# # Afficher le DataFrame\n",
    "# print(df.shape)\n"
   ]
  },
  {
   "cell_type": "code",
   "execution_count": 82,
   "id": "7c7eb1ff-8e81-4810-9715-6c0c19f16b35",
   "metadata": {
    "tags": []
   },
   "outputs": [
    {
     "name": "stdout",
     "output_type": "stream",
     "text": [
      "(404, 10)\n"
     ]
    }
   ],
   "source": [
    "#5. Récupérer les données contenus dans les 10 fichiers texte pour les rassembler dans un pandas dataframe.\n",
    "import pandas as pd\n",
    "\n",
    "# Créer une liste vide pour stocker les données de chaque colonne\n",
    "data_columns = []\n",
    "# colonne1 = pd.read_csv(filename, sep='\\t', header=None, usecols=[0])\n",
    "# data_columns.append(colonne1[0])\n",
    "# Parcourir la liste des chemins absolus\n",
    "for filename in liste_chemin_absolu:\n",
    "    # Lire le fichier en utilisant la tabulation comme délimiteur\n",
    "    data = pd.read_csv(filename, sep='\\t', header=None, usecols=[1])\n",
    "    # Ajouter les données à la liste des colonnes\n",
    "    data_columns.append(data[1])\n",
    "\n",
    "# Créer le DataFrame en utilisant la liste des colonnes\n",
    "df = pd.DataFrame(data_columns).T\n",
    "\n",
    "# Afficher le DataFrame\n",
    "print(df.shape)"
   ]
  },
  {
   "cell_type": "code",
   "execution_count": 83,
   "id": "bac5b2c2-c09d-45e0-beda-a080eb3ef288",
   "metadata": {
    "tags": []
   },
   "outputs": [
    {
     "name": "stdout",
     "output_type": "stream",
     "text": [
      "['Decimal Number' '0.0' '0.5' '1.0' '1.5' '2.0' '2.5' '3.0' '3.5' '4.0']\n",
      "[1, 2, 3, 4, 5, 6, 7, 8, 9, 10]\n"
     ]
    }
   ],
   "source": [
    "# 6. Ajouter des noms aux lignes et aux colonnes\n",
    "\n",
    "colonne1 = pd.read_csv(filename, sep='\\t', header=None, usecols=[0])\n",
    "colonne1 = np.array(colonne1)\n",
    "\n",
    "\n",
    "nom_lignes = np.reshape(colonne1,(colonne1.shape[0],))\n",
    "print(nom_lignes[0:10])\n",
    "#Il faut supprimer decimal number en premiere position\n",
    "# nom_lignes = nom_lignes[1:]\n",
    "# print(nom_lignes[0:10])\n",
    "\n",
    "nom_colonnes = list(range(1,11))\n",
    "\n",
    "\n",
    "print(nom_colonnes)\n",
    "\n",
    "df.index = nom_lignes\n",
    "df.columns = nom_colonnes\n",
    "\n",
    "\n",
    "\n"
   ]
  },
  {
   "cell_type": "code",
   "execution_count": 84,
   "id": "dd09dba0-eb10-48f5-9633-f68c0f15530c",
   "metadata": {
    "tags": []
   },
   "outputs": [],
   "source": [
    "#7. Explorer succitement le dataset (regarder quelques lignes, donner les statistiques sur les valeurs aléatoires, representer les distribution des données)"
   ]
  },
  {
   "cell_type": "code",
   "execution_count": 85,
   "id": "c4b89bec-b6cf-4ac1-9521-4ab6da6d0d72",
   "metadata": {
    "tags": []
   },
   "outputs": [
    {
     "data": {
      "text/html": [
       "<div>\n",
       "<style scoped>\n",
       "    .dataframe tbody tr th:only-of-type {\n",
       "        vertical-align: middle;\n",
       "    }\n",
       "\n",
       "    .dataframe tbody tr th {\n",
       "        vertical-align: top;\n",
       "    }\n",
       "\n",
       "    .dataframe thead th {\n",
       "        text-align: right;\n",
       "    }\n",
       "</style>\n",
       "<table border=\"1\" class=\"dataframe\">\n",
       "  <thead>\n",
       "    <tr style=\"text-align: right;\">\n",
       "      <th></th>\n",
       "      <th>1</th>\n",
       "      <th>2</th>\n",
       "      <th>3</th>\n",
       "      <th>4</th>\n",
       "      <th>5</th>\n",
       "      <th>6</th>\n",
       "      <th>7</th>\n",
       "      <th>8</th>\n",
       "      <th>9</th>\n",
       "      <th>10</th>\n",
       "    </tr>\n",
       "  </thead>\n",
       "  <tbody>\n",
       "    <tr>\n",
       "      <th>Decimal Number</th>\n",
       "      <td>Random Number</td>\n",
       "      <td>Random Number</td>\n",
       "      <td>Random Number</td>\n",
       "      <td>Random Number</td>\n",
       "      <td>Random Number</td>\n",
       "      <td>Random Number</td>\n",
       "      <td>Random Number</td>\n",
       "      <td>Random Number</td>\n",
       "      <td>Random Number</td>\n",
       "      <td>Random Number</td>\n",
       "    </tr>\n",
       "    <tr>\n",
       "      <th>0.0</th>\n",
       "      <td>-0.6161171930600359</td>\n",
       "      <td>0.6523650168858657</td>\n",
       "      <td>-0.9294071476220714</td>\n",
       "      <td>0.5944515805184257</td>\n",
       "      <td>0.492589858389415</td>\n",
       "      <td>-1.8385597336704662</td>\n",
       "      <td>1.4917853641313235</td>\n",
       "      <td>0.7171082496374862</td>\n",
       "      <td>-1.4402088487871287</td>\n",
       "      <td>-0.7337867786503398</td>\n",
       "    </tr>\n",
       "    <tr>\n",
       "      <th>0.5</th>\n",
       "      <td>0.3399290195571408</td>\n",
       "      <td>-1.1469938922427454</td>\n",
       "      <td>-0.051664242048577017</td>\n",
       "      <td>0.8116199721469439</td>\n",
       "      <td>0.009006884456055493</td>\n",
       "      <td>-0.34612430350938334</td>\n",
       "      <td>1.5298275993260235</td>\n",
       "      <td>0.8788551771019965</td>\n",
       "      <td>0.5483866647720295</td>\n",
       "      <td>-1.1529539042677146</td>\n",
       "    </tr>\n",
       "    <tr>\n",
       "      <th>1.0</th>\n",
       "      <td>-0.5008836548911358</td>\n",
       "      <td>-1.3283742290222174</td>\n",
       "      <td>-1.9820499412931922</td>\n",
       "      <td>1.1776846996349606</td>\n",
       "      <td>0.5082141371298028</td>\n",
       "      <td>0.016713796865639095</td>\n",
       "      <td>0.2665744307728523</td>\n",
       "      <td>0.7982627251168141</td>\n",
       "      <td>-0.22460522546681785</td>\n",
       "      <td>-1.0991234184583147</td>\n",
       "    </tr>\n",
       "    <tr>\n",
       "      <th>1.5</th>\n",
       "      <td>-0.5946385401004982</td>\n",
       "      <td>-2.199771316782053</td>\n",
       "      <td>-0.630038266159401</td>\n",
       "      <td>-1.8135077333695564</td>\n",
       "      <td>-0.12009214359114047</td>\n",
       "      <td>0.3538121056119762</td>\n",
       "      <td>-1.309707934615143</td>\n",
       "      <td>-0.941106393389689</td>\n",
       "      <td>1.24906469948842</td>\n",
       "      <td>-0.12196791141534652</td>\n",
       "    </tr>\n",
       "  </tbody>\n",
       "</table>\n",
       "</div>"
      ],
      "text/plain": [
       "                                 1                    2   \\\n",
       "Decimal Number        Random Number        Random Number   \n",
       "0.0             -0.6161171930600359   0.6523650168858657   \n",
       "0.5              0.3399290195571408  -1.1469938922427454   \n",
       "1.0             -0.5008836548911358  -1.3283742290222174   \n",
       "1.5             -0.5946385401004982   -2.199771316782053   \n",
       "\n",
       "                                   3                    4   \\\n",
       "Decimal Number          Random Number        Random Number   \n",
       "0.0               -0.9294071476220714   0.5944515805184257   \n",
       "0.5             -0.051664242048577017   0.8116199721469439   \n",
       "1.0               -1.9820499412931922   1.1776846996349606   \n",
       "1.5                -0.630038266159401  -1.8135077333695564   \n",
       "\n",
       "                                  5                     6   \\\n",
       "Decimal Number         Random Number         Random Number   \n",
       "0.0                0.492589858389415   -1.8385597336704662   \n",
       "0.5             0.009006884456055493  -0.34612430350938334   \n",
       "1.0               0.5082141371298028  0.016713796865639095   \n",
       "1.5             -0.12009214359114047    0.3538121056119762   \n",
       "\n",
       "                                7                   8                     9   \\\n",
       "Decimal Number       Random Number       Random Number         Random Number   \n",
       "0.0             1.4917853641313235  0.7171082496374862   -1.4402088487871287   \n",
       "0.5             1.5298275993260235  0.8788551771019965    0.5483866647720295   \n",
       "1.0             0.2665744307728523  0.7982627251168141  -0.22460522546681785   \n",
       "1.5             -1.309707934615143  -0.941106393389689      1.24906469948842   \n",
       "\n",
       "                                  10  \n",
       "Decimal Number         Random Number  \n",
       "0.0              -0.7337867786503398  \n",
       "0.5              -1.1529539042677146  \n",
       "1.0              -1.0991234184583147  \n",
       "1.5             -0.12196791141534652  "
      ]
     },
     "execution_count": 85,
     "metadata": {},
     "output_type": "execute_result"
    }
   ],
   "source": [
    "df.head()"
   ]
  },
  {
   "cell_type": "code",
   "execution_count": 86,
   "id": "9a082118-412e-4b53-9a0b-76de09d90b78",
   "metadata": {
    "tags": []
   },
   "outputs": [
    {
     "data": {
      "text/html": [
       "<div>\n",
       "<style scoped>\n",
       "    .dataframe tbody tr th:only-of-type {\n",
       "        vertical-align: middle;\n",
       "    }\n",
       "\n",
       "    .dataframe tbody tr th {\n",
       "        vertical-align: top;\n",
       "    }\n",
       "\n",
       "    .dataframe thead th {\n",
       "        text-align: right;\n",
       "    }\n",
       "</style>\n",
       "<table border=\"1\" class=\"dataframe\">\n",
       "  <thead>\n",
       "    <tr style=\"text-align: right;\">\n",
       "      <th></th>\n",
       "      <th>1</th>\n",
       "      <th>2</th>\n",
       "      <th>3</th>\n",
       "      <th>4</th>\n",
       "      <th>5</th>\n",
       "      <th>6</th>\n",
       "      <th>7</th>\n",
       "      <th>8</th>\n",
       "      <th>9</th>\n",
       "      <th>10</th>\n",
       "    </tr>\n",
       "  </thead>\n",
       "  <tbody>\n",
       "    <tr>\n",
       "      <th>count</th>\n",
       "      <td>404</td>\n",
       "      <td>404</td>\n",
       "      <td>404</td>\n",
       "      <td>404</td>\n",
       "      <td>404</td>\n",
       "      <td>404</td>\n",
       "      <td>404</td>\n",
       "      <td>404</td>\n",
       "      <td>404</td>\n",
       "      <td>404</td>\n",
       "    </tr>\n",
       "    <tr>\n",
       "      <th>unique</th>\n",
       "      <td>403</td>\n",
       "      <td>403</td>\n",
       "      <td>403</td>\n",
       "      <td>403</td>\n",
       "      <td>403</td>\n",
       "      <td>403</td>\n",
       "      <td>403</td>\n",
       "      <td>403</td>\n",
       "      <td>403</td>\n",
       "      <td>403</td>\n",
       "    </tr>\n",
       "    <tr>\n",
       "      <th>top</th>\n",
       "      <td>Random Number</td>\n",
       "      <td>Random Number</td>\n",
       "      <td>Random Number</td>\n",
       "      <td>Random Number</td>\n",
       "      <td>Random Number</td>\n",
       "      <td>Random Number</td>\n",
       "      <td>Random Number</td>\n",
       "      <td>Random Number</td>\n",
       "      <td>Random Number</td>\n",
       "      <td>Random Number</td>\n",
       "    </tr>\n",
       "    <tr>\n",
       "      <th>freq</th>\n",
       "      <td>2</td>\n",
       "      <td>2</td>\n",
       "      <td>2</td>\n",
       "      <td>2</td>\n",
       "      <td>2</td>\n",
       "      <td>2</td>\n",
       "      <td>2</td>\n",
       "      <td>2</td>\n",
       "      <td>2</td>\n",
       "      <td>2</td>\n",
       "    </tr>\n",
       "  </tbody>\n",
       "</table>\n",
       "</div>"
      ],
      "text/plain": [
       "                   1              2              3              4   \\\n",
       "count             404            404            404            404   \n",
       "unique            403            403            403            403   \n",
       "top     Random Number  Random Number  Random Number  Random Number   \n",
       "freq                2              2              2              2   \n",
       "\n",
       "                   5              6              7              8   \\\n",
       "count             404            404            404            404   \n",
       "unique            403            403            403            403   \n",
       "top     Random Number  Random Number  Random Number  Random Number   \n",
       "freq                2              2              2              2   \n",
       "\n",
       "                   9              10  \n",
       "count             404            404  \n",
       "unique            403            403  \n",
       "top     Random Number  Random Number  \n",
       "freq                2              2  "
      ]
     },
     "execution_count": 86,
     "metadata": {},
     "output_type": "execute_result"
    }
   ],
   "source": [
    "df.describe()"
   ]
  },
  {
   "cell_type": "markdown",
   "id": "b9a821ab-5fed-417f-b3b3-4d40c1dc8b78",
   "metadata": {
    "tags": []
   },
   "source": [
    "On remarque que les valeurs ne sont pas traitées comme des valeurs numériques. C'est normal, les valeurs extraites des fichiers textes sont des chaines de caractères. Faisons un conversion du dataframe en float"
   ]
  },
  {
   "cell_type": "code",
   "execution_count": 87,
   "id": "bdbcd899-b8aa-4519-9ff2-27d041eab218",
   "metadata": {
    "tags": []
   },
   "outputs": [
    {
     "data": {
      "text/html": [
       "<div>\n",
       "<style scoped>\n",
       "    .dataframe tbody tr th:only-of-type {\n",
       "        vertical-align: middle;\n",
       "    }\n",
       "\n",
       "    .dataframe tbody tr th {\n",
       "        vertical-align: top;\n",
       "    }\n",
       "\n",
       "    .dataframe thead th {\n",
       "        text-align: right;\n",
       "    }\n",
       "</style>\n",
       "<table border=\"1\" class=\"dataframe\">\n",
       "  <thead>\n",
       "    <tr style=\"text-align: right;\">\n",
       "      <th></th>\n",
       "      <th>1</th>\n",
       "      <th>2</th>\n",
       "      <th>3</th>\n",
       "      <th>4</th>\n",
       "      <th>5</th>\n",
       "      <th>6</th>\n",
       "      <th>7</th>\n",
       "      <th>8</th>\n",
       "      <th>9</th>\n",
       "      <th>10</th>\n",
       "    </tr>\n",
       "  </thead>\n",
       "  <tbody>\n",
       "    <tr>\n",
       "      <th>count</th>\n",
       "      <td>402.000000</td>\n",
       "      <td>402.000000</td>\n",
       "      <td>402.000000</td>\n",
       "      <td>402.000000</td>\n",
       "      <td>402.000000</td>\n",
       "      <td>402.000000</td>\n",
       "      <td>402.000000</td>\n",
       "      <td>402.000000</td>\n",
       "      <td>402.000000</td>\n",
       "      <td>402.000000</td>\n",
       "    </tr>\n",
       "    <tr>\n",
       "      <th>mean</th>\n",
       "      <td>0.083396</td>\n",
       "      <td>-0.003620</td>\n",
       "      <td>-0.033421</td>\n",
       "      <td>-0.017395</td>\n",
       "      <td>-0.005410</td>\n",
       "      <td>-0.046729</td>\n",
       "      <td>0.111431</td>\n",
       "      <td>-0.036134</td>\n",
       "      <td>0.048114</td>\n",
       "      <td>-0.047755</td>\n",
       "    </tr>\n",
       "    <tr>\n",
       "      <th>std</th>\n",
       "      <td>0.954610</td>\n",
       "      <td>1.020011</td>\n",
       "      <td>1.039772</td>\n",
       "      <td>1.014613</td>\n",
       "      <td>1.001318</td>\n",
       "      <td>1.025021</td>\n",
       "      <td>0.980712</td>\n",
       "      <td>1.011152</td>\n",
       "      <td>1.000386</td>\n",
       "      <td>0.965431</td>\n",
       "    </tr>\n",
       "    <tr>\n",
       "      <th>min</th>\n",
       "      <td>-2.487107</td>\n",
       "      <td>-2.471980</td>\n",
       "      <td>-3.192280</td>\n",
       "      <td>-3.598566</td>\n",
       "      <td>-2.586697</td>\n",
       "      <td>-3.192722</td>\n",
       "      <td>-2.578267</td>\n",
       "      <td>-3.147783</td>\n",
       "      <td>-3.233722</td>\n",
       "      <td>-2.493960</td>\n",
       "    </tr>\n",
       "    <tr>\n",
       "      <th>25%</th>\n",
       "      <td>-0.613981</td>\n",
       "      <td>-0.733787</td>\n",
       "      <td>-0.772582</td>\n",
       "      <td>-0.730308</td>\n",
       "      <td>-0.717069</td>\n",
       "      <td>-0.773643</td>\n",
       "      <td>-0.582000</td>\n",
       "      <td>-0.753223</td>\n",
       "      <td>-0.661370</td>\n",
       "      <td>-0.766785</td>\n",
       "    </tr>\n",
       "    <tr>\n",
       "      <th>50%</th>\n",
       "      <td>0.060965</td>\n",
       "      <td>-0.042110</td>\n",
       "      <td>-0.041876</td>\n",
       "      <td>0.005167</td>\n",
       "      <td>-0.030302</td>\n",
       "      <td>-0.025075</td>\n",
       "      <td>0.145320</td>\n",
       "      <td>-0.052894</td>\n",
       "      <td>0.007506</td>\n",
       "      <td>-0.021874</td>\n",
       "    </tr>\n",
       "    <tr>\n",
       "      <th>75%</th>\n",
       "      <td>0.686314</td>\n",
       "      <td>0.633288</td>\n",
       "      <td>0.708323</td>\n",
       "      <td>0.669603</td>\n",
       "      <td>0.623182</td>\n",
       "      <td>0.590879</td>\n",
       "      <td>0.803259</td>\n",
       "      <td>0.696431</td>\n",
       "      <td>0.758747</td>\n",
       "      <td>0.558287</td>\n",
       "    </tr>\n",
       "    <tr>\n",
       "      <th>max</th>\n",
       "      <td>2.621782</td>\n",
       "      <td>3.102591</td>\n",
       "      <td>2.935577</td>\n",
       "      <td>3.522193</td>\n",
       "      <td>3.083366</td>\n",
       "      <td>2.710005</td>\n",
       "      <td>2.738620</td>\n",
       "      <td>3.335975</td>\n",
       "      <td>2.840128</td>\n",
       "      <td>2.714619</td>\n",
       "    </tr>\n",
       "  </tbody>\n",
       "</table>\n",
       "</div>"
      ],
      "text/plain": [
       "               1           2           3           4           5           6   \\\n",
       "count  402.000000  402.000000  402.000000  402.000000  402.000000  402.000000   \n",
       "mean     0.083396   -0.003620   -0.033421   -0.017395   -0.005410   -0.046729   \n",
       "std      0.954610    1.020011    1.039772    1.014613    1.001318    1.025021   \n",
       "min     -2.487107   -2.471980   -3.192280   -3.598566   -2.586697   -3.192722   \n",
       "25%     -0.613981   -0.733787   -0.772582   -0.730308   -0.717069   -0.773643   \n",
       "50%      0.060965   -0.042110   -0.041876    0.005167   -0.030302   -0.025075   \n",
       "75%      0.686314    0.633288    0.708323    0.669603    0.623182    0.590879   \n",
       "max      2.621782    3.102591    2.935577    3.522193    3.083366    2.710005   \n",
       "\n",
       "               7           8           9           10  \n",
       "count  402.000000  402.000000  402.000000  402.000000  \n",
       "mean     0.111431   -0.036134    0.048114   -0.047755  \n",
       "std      0.980712    1.011152    1.000386    0.965431  \n",
       "min     -2.578267   -3.147783   -3.233722   -2.493960  \n",
       "25%     -0.582000   -0.753223   -0.661370   -0.766785  \n",
       "50%      0.145320   -0.052894    0.007506   -0.021874  \n",
       "75%      0.803259    0.696431    0.758747    0.558287  \n",
       "max      2.738620    3.335975    2.840128    2.714619  "
      ]
     },
     "execution_count": 87,
     "metadata": {},
     "output_type": "execute_result"
    }
   ],
   "source": [
    "df = df.drop(index='Decimal Number')\n",
    "df = df.astype(float)\n",
    "df.describe()"
   ]
  },
  {
   "cell_type": "code",
   "execution_count": 88,
   "id": "111b243b-fca5-49c8-9d31-3877c423e166",
   "metadata": {
    "tags": []
   },
   "outputs": [
    {
     "data": {
      "image/png": "[encoded data removed]",
      "text/plain": [
       "<Figure size 1000x1500 with 12 Axes>"
      ]
     },
     "metadata": {},
     "output_type": "display_data"
    }
   ],
   "source": [
    "import matplotlib.pyplot as plt\n",
    "df.hist(bins=50, figsize=(10,15))\n",
    "plt.show()"
   ]
  },
  {
   "cell_type": "code",
   "execution_count": 89,
   "id": "b55a1c65-2553-40ff-97cb-bd4cf4e7b6b7",
   "metadata": {
    "collapsed": true,
    "jupyter": {
     "outputs_hidden": true
    },
    "tags": []
   },
   "outputs": [
    {
     "data": {
      "image/png": "[encoded data removed]",
      "text/plain": [
       "<Figure size 1200x1200 with 12 Axes>"
      ]
     },
     "metadata": {},
     "output_type": "display_data"
    }
   ],
   "source": [
    "# Créer la figure et les sous-graphiques\n",
    "fig, axes = plt.subplots(4, 3, figsize=(12, 12))\n",
    "\n",
    "# Boucle pour tracer les boîtes à moustaches de chaque colonne\n",
    "for i, column in enumerate(df.columns):\n",
    "    # Calcul des indices de la position du sous-graphique\n",
    "    row = i // 3\n",
    "    col = i % 3\n",
    "    \n",
    "    # Tracer la boîte à moustaches de la colonne sur le sous-graphique correspondant\n",
    "    axes[row, col].boxplot(df[column])\n",
    "    axes[row, col].set_xlabel(column)\n",
    "    axes[row, col].set_ylabel('Value')\n",
    "    axes[row, col].set_title('Boxplot of ' +str(column))\n",
    "\n",
    "# Ajuster l'espacement entre les sous-graphiques\n",
    "plt.tight_layout()\n",
    "\n",
    "# Afficher la figure\n",
    "plt.show()\n"
   ]
  },
  {
   "cell_type": "code",
   "execution_count": null,
   "id": "7a839de7-815e-459c-9bc4-54351de02802",
   "metadata": {},
   "outputs": [],
   "source": []
  },
  {
   "cell_type": "code",
   "execution_count": null,
   "id": "9073ccab-49e3-418d-994f-8d185cb22858",
   "metadata": {},
   "outputs": [],
   "source": []
  }
 ],
 "metadata": {
  "kernelspec": {
   "display_name": "Python 3 (ipykernel)",
   "language": "python",
   "name": "python3"
  },
  "language_info": {
   "codemirror_mode": {
    "name": "ipython",
    "version": 3
   },
   "file_extension": ".py",
   "mimetype": "text/x-python",
   "name": "python",
   "nbconvert_exporter": "python",
   "pygments_lexer": "ipython3",
   "version": "3.11.3"
  }
 },
 "nbformat": 4,
 "nbformat_minor": 5
}
