{
 "cells": [
  {
   "cell_type": "markdown",
   "id": "35fc8c94-903a-43d0-869e-dd8050c6a51b",
   "metadata": {},
   "source": [
    "***\n",
    "# **<center>COURS PYTHON 2IMACS #3</center>**\n",
    "# ***<center>Fonctions</center>***\n",
    "# ***<center>Aperçu sur les Classes</center>***\n",
    "***"
   ]
  },
  {
   "cell_type": "markdown",
   "id": "bf7c8eb0-000d-4a33-8d8e-a09997be2f10",
   "metadata": {},
   "source": [
    "Les fonctions sont des blocs de code réutilisables qui permettent d'organiser et d'exécuter des actions spécifiques. Elles jouent un rôle essentiel dans la structuration et la modularité du code. Les fonctions sont définies avec un nom unique et peuvent prendre des paramètres en entrée pour recevoir des valeurs. Elles peuvent également retourner des résultats à l'aide du mot-clé \"return\". Les fonctions permettent de découper un programme en tâches plus petites, facilitant ainsi la compréhension, la maintenance et la réutilisation du code."
   ]
  },
  {
   "cell_type": "markdown",
   "id": "eda637f5-ffc5-4b24-9928-350ef1445c56",
   "metadata": {},
   "source": [
    "## 3-1 Les Fonctions"
   ]
  },
  {
   "cell_type": "markdown",
   "id": "b253435f-f285-4330-8f65-54238b952774",
   "metadata": {},
   "source": [
    "Ecrivons un programme qui calcule les aires de 3 rectangles avec leurs longueurs et largeurs:"
   ]
  },
  {
   "cell_type": "code",
   "execution_count": 1,
   "id": "422c2269-600c-462b-a9d9-1998caddb8c0",
   "metadata": {},
   "outputs": [
    {
     "name": "stdout",
     "output_type": "stream",
     "text": [
      "50\n",
      "25\n",
      "6\n"
     ]
    }
   ],
   "source": [
    "# Calcul de l'aire d'un rectangle \n",
    "# Version sans fonction\n",
    "longueur1 = 10\n",
    "largeur1 = 5\n",
    "aire1 = longueur1 * largeur1\n",
    "print(aire1)\n",
    "\n",
    "longueur2 = 5\n",
    "largeur2 = 5\n",
    "aire2 = longueur2 * largeur2\n",
    "print(aire2)\n",
    "\n",
    "longueur3 = 1\n",
    "largeur3 = 6\n",
    "aire3 = longueur3 * largeur3\n",
    "print(aire3)\n"
   ]
  },
  {
   "cell_type": "markdown",
   "id": "ed096127-cb94-498a-b7a3-9b101f7dfe23",
   "metadata": {},
   "source": [
    "On a répété 3 fois un bloc d'instruction de 4 lignes. Déclarons une fonction pour optimiser le code:"
   ]
  },
  {
   "cell_type": "code",
   "execution_count": 2,
   "id": "fbf4ef07-b435-4739-adc3-4d1ffc13febf",
   "metadata": {},
   "outputs": [
    {
     "name": "stdout",
     "output_type": "stream",
     "text": [
      "50\n",
      "25\n",
      "6\n"
     ]
    }
   ],
   "source": [
    "# Version avec une fonction\n",
    "def calculer_aire_rectangle(longueur, largeur):\n",
    "    aire = longueur * largeur\n",
    "    print(aire)\n",
    "\n",
    "calculer_aire_rectangle(10, 5)\n",
    "calculer_aire_rectangle(5, 5)\n",
    "calculer_aire_rectangle(1, 6)"
   ]
  },
  {
   "cell_type": "markdown",
   "id": "4c8132e0-86f6-4a07-a97c-21f7c1e5ab09",
   "metadata": {},
   "source": [
    "### 3-1-1 Déclaration et utilisation de fonctions"
   ]
  },
  {
   "cell_type": "markdown",
   "id": "7d59da4a-af6f-4568-a517-38a915b87d8b",
   "metadata": {},
   "source": [
    "Concernant les noms de fonctions, il est recommandé de: \n",
    "- Utiliser des lettres minuscules pour les noms de fonctions.\n",
    "- Utiliser des mots séparés par des underscores ( _ ) pour améliorer la lisibilité.\n",
    "- Choisir des noms significatifs et descriptifs pour les fonctions.\n",
    "- Éviter les noms de fonctions trop courts ou ambigus.\n",
    "- Suivre la convention de nommage Python en utilisant des verbes pour les noms de fonctions (par exemple, calculer_moyenne, afficher_resultats).\n",
    "- Éviter d'utiliser des tirets (-) dans les noms de fonctions, car ils peuvent être confondus avec des opérateurs de soustraction."
   ]
  },
  {
   "cell_type": "markdown",
   "id": "0f2f5da3-4228-4996-8517-4dca35f5790b",
   "metadata": {},
   "source": [
    "#### 3-1-1-1 Déclaration et utilisation de fonctions"
   ]
  },
  {
   "cell_type": "markdown",
   "id": "9dda9e19-b872-4cf6-ab00-0b8baa5c2a8e",
   "metadata": {},
   "source": [
    "Commençons par déclarer notre fonction avec le mot-clé \"def\" suivi du nom de la fonction, des paramètres entre parenthèses et de deux points:"
   ]
  },
  {
   "cell_type": "code",
   "execution_count": 3,
   "id": "f09c117b-30ed-42cb-8f01-2e9c0c7d8b82",
   "metadata": {},
   "outputs": [],
   "source": [
    "def calculer_aire_rectangle(longueur, largeur): \n",
    "    # Bloc de code à éxecuter\n",
    "    aire = longueur * largeur\n",
    "    print(aire)\n"
   ]
  },
  {
   "cell_type": "markdown",
   "id": "a520ccf4-8822-46ef-bd53-d8b93ca816a8",
   "metadata": {},
   "source": [
    "Quand éxécute ce code on n'obtient rien. On a seulement déclaré la fonction, il faut maintenant l'appeler. Pour celà il faut  indiquer le nom de la fonction et les paramétres que l'on souhaite utiliser:"
   ]
  },
  {
   "cell_type": "code",
   "execution_count": 4,
   "id": "65f848d9-4e2f-4530-92ba-9d2c8d086212",
   "metadata": {},
   "outputs": [
    {
     "name": "stdout",
     "output_type": "stream",
     "text": [
      "50\n"
     ]
    }
   ],
   "source": [
    "calculer_aire_rectangle(10, 5)"
   ]
  },
  {
   "cell_type": "markdown",
   "id": "cf632534-79c0-474c-adf0-61d0f2fba3e2",
   "metadata": {},
   "source": [
    "Imaginons maintenant qu'on a besoin des valeurs aire1, aire2, aire3. Dans le code précedent on fait un print mais les valeurs ne sont plus accessibles par la suite."
   ]
  },
  {
   "cell_type": "code",
   "execution_count": 5,
   "id": "609ed824-02f8-4dc3-aafe-f670c13f7bbc",
   "metadata": {},
   "outputs": [],
   "source": [
    "# Définir la fonction\n",
    "def calculer_aire_rectangle(longueur, largeur): \n",
    "    aire = longueur * largeur\n",
    "    # print(aire) Enlevons le print de la fonction\n",
    "    "
   ]
  },
  {
   "cell_type": "markdown",
   "id": "3188d8a7-1aa3-4314-96e2-c19fcc1085ba",
   "metadata": {},
   "source": [
    "Lors de l'appel de la fonction, il ne se passe rien... car elle ne retourne rien!"
   ]
  },
  {
   "cell_type": "code",
   "execution_count": 6,
   "id": "eb258e46-2514-47a2-9a09-73411da32076",
   "metadata": {},
   "outputs": [],
   "source": [
    "# appel de la fonction\n",
    "calculer_aire_rectangle(10, 5)"
   ]
  },
  {
   "cell_type": "markdown",
   "id": "7aba4e3b-cdd1-49af-a640-d6816c3ba85b",
   "metadata": {},
   "source": [
    "Pour régler le problème, demandons à la fonction de retourner ces valeurs avec le mot clé \"return\" en dernière ligne de la déclaration de la fonction:"
   ]
  },
  {
   "cell_type": "code",
   "execution_count": 7,
   "id": "a3cbe020-1628-446c-8b1a-9c5ea44d1349",
   "metadata": {},
   "outputs": [],
   "source": [
    "# Définir la fonction\n",
    "def calculer_aire_rectangle(longueur, largeur): \n",
    "    aire = longueur * largeur\n",
    "    return aire #retourner une valeur après execution"
   ]
  },
  {
   "cell_type": "markdown",
   "id": "d68cb1f3-d963-4bc6-b674-baa652f85f06",
   "metadata": {},
   "source": [
    "Pour l'appeler il faut juste indiquer le nom de la fonction et les valeurs que l'on souhaite utiliser pour le calcul. On peut ainsi recuperer la valeur renvoyée par la fonction (et l'affecter à une variable ou l'utiliser pour des claculs): "
   ]
  },
  {
   "cell_type": "code",
   "execution_count": 8,
   "id": "ed29e795-e139-40c4-85b6-e661a959fb5a",
   "metadata": {},
   "outputs": [
    {
     "name": "stdout",
     "output_type": "stream",
     "text": [
      "50\n",
      "10 x aire = 500\n"
     ]
    }
   ],
   "source": [
    "aire_rect_10_5 = calculer_aire_rectangle(10, 5)\n",
    "print(aire_rect_10_5) # on peut maintenant faire un print de la valeur\n",
    "x = 10 * aire_rect_10_5 # ou n'importe quelle autre opération\n",
    "print('10 x aire =', x)"
   ]
  },
  {
   "cell_type": "markdown",
   "id": "068feb4a-5ff1-4d1e-b928-0fdacf83ce92",
   "metadata": {},
   "source": [
    "#### 3-1-1-2 Parametres et arguments"
   ]
  },
  {
   "cell_type": "markdown",
   "id": "b94a425d-a28c-4909-ad05-f966486c0865",
   "metadata": {},
   "source": [
    "les paramètres sont les noms utilisés dans la définition de la fonction, tandis que les arguments sont les valeurs passées lors de l'appel de la fonction. \n",
    "Dans l'exemple précédent:\n",
    "- les paramètres sont 10 et 5\n",
    "- les arguments sont longueur et largeur"
   ]
  },
  {
   "cell_type": "markdown",
   "id": "272cf4c1-3495-4ad8-a636-5ac206d2d8bb",
   "metadata": {},
   "source": [
    "#### 3-1-1-3 Types de paramètres"
   ]
  },
  {
   "cell_type": "markdown",
   "id": "6176d390-ef30-41c5-b7f1-c77bf858c006",
   "metadata": {},
   "source": [
    "Les parametres peuvent être obligatoires, par défaut ou optionnels."
   ]
  },
  {
   "cell_type": "markdown",
   "id": "a5ef8ef6-15dd-4189-9211-60a28248d742",
   "metadata": {},
   "source": [
    "Obligatoires: c'est le cas de notre exemple précedent. Essayons d'appeler la fonction précedente en omettant un parametre"
   ]
  },
  {
   "cell_type": "code",
   "execution_count": 9,
   "id": "29c80535-5cd7-4a3d-b8bd-c9e54b726515",
   "metadata": {},
   "outputs": [
    {
     "ename": "TypeError",
     "evalue": "calculer_aire_rectangle() missing 1 required positional argument: 'largeur'",
     "output_type": "error",
     "traceback": [
      "\u001b[1;31m---------------------------------------------------------------------------\u001b[0m",
      "\u001b[1;31mTypeError\u001b[0m                                 Traceback (most recent call last)",
      "Cell \u001b[1;32mIn[9], line 5\u001b[0m\n\u001b[0;32m      3\u001b[0m     aire \u001b[38;5;241m=\u001b[39m longueur \u001b[38;5;241m*\u001b[39m largeur\n\u001b[0;32m      4\u001b[0m     \u001b[38;5;28;01mreturn\u001b[39;00m aire \n\u001b[1;32m----> 5\u001b[0m mon_aire \u001b[38;5;241m=\u001b[39m \u001b[43mcalculer_aire_rectangle\u001b[49m\u001b[43m(\u001b[49m\u001b[38;5;241;43m10\u001b[39;49m\u001b[43m)\u001b[49m \u001b[38;5;66;03m#Fournissons 1 seul parametre alors que 2 sont attendus\u001b[39;00m\n\u001b[0;32m      6\u001b[0m \u001b[38;5;28mprint\u001b[39m(mon_aire)\n",
      "\u001b[1;31mTypeError\u001b[0m: calculer_aire_rectangle() missing 1 required positional argument: 'largeur'"
     ]
    }
   ],
   "source": [
    "# Définir la fonction\n",
    "def calculer_aire_rectangle(longueur, largeur): \n",
    "    aire = longueur * largeur\n",
    "    return aire \n",
    "mon_aire = calculer_aire_rectangle(10) #Fournissons 1 seul parametre alors que 2 sont attendus\n",
    "print(mon_aire)"
   ]
  },
  {
   "cell_type": "markdown",
   "id": "7782ff2f-321d-4dd0-b7cc-078f5dad624c",
   "metadata": {},
   "source": [
    "Pour ne plus avoir ce de problème définissons une largeur par défaut par défaut"
   ]
  },
  {
   "cell_type": "code",
   "execution_count": 10,
   "id": "3bcf4f13-5c58-4d90-a0fd-aa50d9a28f53",
   "metadata": {},
   "outputs": [
    {
     "name": "stdout",
     "output_type": "stream",
     "text": [
      "50 avec 2 parametres fournis\n",
      "10 avec 1 parametres fourni et un par défaut\n"
     ]
    }
   ],
   "source": [
    "# Définir la fonction\n",
    "def calculer_aire_rectangle(longueur , largeur = 1): \n",
    "    aire = longueur * largeur\n",
    "    return aire \n",
    "mon_aire1 = calculer_aire_rectangle(10,5) # Fournissons les 2 paramatres attendus\n",
    "mon_aire2 = calculer_aire_rectangle(10) # Fournissons les 2 paramatres attendus\n",
    "print(mon_aire1,'avec 2 parametres fournis')\n",
    "print(mon_aire2,'avec 1 parametres fourni et un par défaut')     "
   ]
  },
  {
   "cell_type": "markdown",
   "id": "c6bf2b1b-c046-4a05-9758-e9606e58b259",
   "metadata": {},
   "source": [
    "Optionnel:  Si on définit un paramètre avec un nom précédé de deux astérisques **, comme **kwargs pour un dictionnaire ou *, comme *args pour un tuple, cela signifie que la fonction peut accepter un nombre variable d'arguments sous forme de paires clé-valeur. Ces arguments supplémentaires seront collectés dans un dictionnaire"
   ]
  },
  {
   "cell_type": "markdown",
   "id": "b1527e6e-9134-49ef-ad6a-958d94cfebab",
   "metadata": {},
   "source": [
    "- Pour un tuple"
   ]
  },
  {
   "cell_type": "code",
   "execution_count": 11,
   "id": "f06079b0-9c22-4a9b-8927-023cd6d6a805",
   "metadata": {
    "tags": []
   },
   "outputs": [
    {
     "name": "stdout",
     "output_type": "stream",
     "text": [
      "Python\n",
      "est\n",
      "un\n",
      "langage\n",
      "de\n",
      "programmation\n"
     ]
    }
   ],
   "source": [
    "def afficher_elements(*args):\n",
    "    for element in args:\n",
    "        print(element)\n",
    "\n",
    "# Test de la fonction\n",
    "afficher_elements(\"Python\", \"est\", \"un\", \"langage\", \"de\", \"programmation\")\n"
   ]
  },
  {
   "cell_type": "markdown",
   "id": "76ff11f1-1f29-4d9e-8616-83a6c69087fd",
   "metadata": {},
   "source": [
    "- pour un dictionnaire"
   ]
  },
  {
   "cell_type": "code",
   "execution_count": 12,
   "id": "593e4190-c07b-4e34-a8d3-0eae5934ffc8",
   "metadata": {},
   "outputs": [
    {
     "name": "stdout",
     "output_type": "stream",
     "text": [
      "nom: John\n",
      "age: 30\n",
      "ville: Paris\n",
      "--------------------------\n",
      "nom: Léa\n",
      "age: 18\n",
      "ville: Bourg-Saint-Maurice\n",
      "passion: Kayak\n"
     ]
    }
   ],
   "source": [
    "def afficher_informations(**kwargs):\n",
    "    for cle, valeur in kwargs.items():\n",
    "        print(f\"{cle}: {valeur}\")\n",
    "\n",
    "afficher_informations(nom=\"John\", age=30, ville=\"Paris\") # Appeler la fonction avec 3 parametres\n",
    "print('--------------------------')\n",
    "afficher_informations(nom=\"Léa\", age=18, ville=\"Bourg-Saint-Maurice\", passion='Kayak')# ou avec 4\n"
   ]
  },
  {
   "cell_type": "markdown",
   "id": "63e28bc7-94cc-4acb-8b43-52f5995b741d",
   "metadata": {},
   "source": [
    "Une autre possibilité serait de définir des paramètres par défaut et de faire une structure conditionnelle pour tester ces paramètres"
   ]
  },
  {
   "cell_type": "code",
   "execution_count": 13,
   "id": "f51a53ab-1c11-4bea-845c-82708269c828",
   "metadata": {},
   "outputs": [
    {
     "name": "stdout",
     "output_type": "stream",
     "text": [
      "Nom: John\n",
      "Age: 30\n",
      "Ville: Paris\n",
      "--------------------------\n",
      "Nom: Léa\n",
      "Age: 18\n",
      "Ville: Bourg-Saint-Maurice\n",
      "Passion: Kayak\n",
      "--------------------------\n",
      "Nom: Théo\n",
      "Ville: Epinal\n"
     ]
    }
   ],
   "source": [
    "def afficher_informations(nom=None, age=None, ville=None, passion=None):\n",
    "    if nom:\n",
    "        print(f\"Nom: {nom}\")\n",
    "    if age:\n",
    "        print(f\"Age: {age}\")\n",
    "    if ville:\n",
    "        print(f\"Ville: {ville}\")\n",
    "    if passion:\n",
    "        print(f\"Passion: {passion}\")\n",
    "\n",
    "afficher_informations(nom=\"John\", age=30, ville=\"Paris\")  # Appeler la fonction avec 3 paramètres\n",
    "print('--------------------------')\n",
    "afficher_informations(nom=\"Léa\", age=18, ville=\"Bourg-Saint-Maurice\", passion='Kayak')  # Appeler la fonction avec 4 paramètres\n",
    "print('--------------------------')\n",
    "afficher_informations(nom=\"Théo\", ville=\"Epinal\")"
   ]
  },
  {
   "cell_type": "markdown",
   "id": "e709f28e-43bb-42f2-bf95-977f1f0ce34f",
   "metadata": {},
   "source": [
    "#### 3-1-1-3 Portées de variabes"
   ]
  },
  {
   "cell_type": "markdown",
   "id": "2371fda5-6728-4415-8cf7-18d975a55ff5",
   "metadata": {},
   "source": [
    "Les variables locales sont définies à l'intérieur d'une fonction et ne sont accessibles qu'à l'intérieur de cette fonction. Elles ont une portée limitée et sont détruites une fois la fonction terminée. \n",
    "Les variables globales, quant à elles, sont définies en dehors de toute fonction et sont accessibles à l'ensemble du programme. Elles ont une portée globale et peuvent être utilisées dans différentes parties du code. Il est important de gérer avec précaution les variables globales pour éviter les conflits et assurer une bonne organisation du code."
   ]
  },
  {
   "cell_type": "code",
   "execution_count": 14,
   "id": "006d2bb8-3ee9-4c60-9ea6-e4c1cf945274",
   "metadata": {},
   "outputs": [
    {
     "name": "stdout",
     "output_type": "stream",
     "text": [
      "Valeur de x à l'intérieur de la fonction : 10\n",
      "Valeur de y à l'intérieur de la fonction : 5\n",
      "Valeur de x à l'extérieur de la fonction : 10\n"
     ]
    },
    {
     "ename": "NameError",
     "evalue": "name 'y' is not defined",
     "output_type": "error",
     "traceback": [
      "\u001b[1;31m---------------------------------------------------------------------------\u001b[0m",
      "\u001b[1;31mNameError\u001b[0m                                 Traceback (most recent call last)",
      "Cell \u001b[1;32mIn[14], line 10\u001b[0m\n\u001b[0;32m      8\u001b[0m ma_fonction()\n\u001b[0;32m      9\u001b[0m \u001b[38;5;28mprint\u001b[39m(\u001b[38;5;124m\"\u001b[39m\u001b[38;5;124mValeur de x à l\u001b[39m\u001b[38;5;124m'\u001b[39m\u001b[38;5;124mextérieur de la fonction :\u001b[39m\u001b[38;5;124m\"\u001b[39m, x)  \u001b[38;5;66;03m# Accès à la variable globale\u001b[39;00m\n\u001b[1;32m---> 10\u001b[0m \u001b[38;5;28mprint\u001b[39m(\u001b[38;5;124m\"\u001b[39m\u001b[38;5;124mValeur de y à l\u001b[39m\u001b[38;5;124m'\u001b[39m\u001b[38;5;124mextérieur de la fonction :\u001b[39m\u001b[38;5;124m\"\u001b[39m,\u001b[43my\u001b[49m)  \u001b[38;5;66;03m# Erreur : la variable locale y n'est pas accessible en dehors de la fonction\u001b[39;00m\n",
      "\u001b[1;31mNameError\u001b[0m: name 'y' is not defined"
     ]
    }
   ],
   "source": [
    "x = 10  # Variable globale\n",
    "\n",
    "def ma_fonction():\n",
    "    y = 5  # Variable locale\n",
    "    print(\"Valeur de x à l'intérieur de la fonction :\", x)  # Accès à la variable globale\n",
    "    print(\"Valeur de y à l'intérieur de la fonction :\", y)  # Accès à la variable locale\n",
    "\n",
    "ma_fonction()\n",
    "print(\"Valeur de x à l'extérieur de la fonction :\", x)  # Accès à la variable globale\n",
    "print(\"Valeur de y à l'extérieur de la fonction :\",y)  # Erreur : la variable locale y n'est pas accessible en dehors de la fonction\n"
   ]
  },
  {
   "cell_type": "markdown",
   "id": "9c6a2da2-224b-43db-ae12-cd9b51b3f639",
   "metadata": {},
   "source": [
    " Les variables globales peuvent être modifiées à la fois à l'intérieur et à l'extérieur des fonctions. Cependant, si vous souhaitez modifier une variable globale à l'intérieur d'une fonction, vous devez utiliser le mot-clé global suivi du nom de la variable pour indiquer explicitement que vous faites référence à la variable globale."
   ]
  },
  {
   "cell_type": "code",
   "execution_count": 15,
   "id": "6355ff86-7178-484c-ae54-80e44079c807",
   "metadata": {},
   "outputs": [
    {
     "name": "stdout",
     "output_type": "stream",
     "text": [
      "Valeur à la déclaration : 1 3\n",
      "Valeur dans la fonction : 10 30\n",
      "Valeur hors de la fonction : 10 3\n",
      "On a donc bien modifié la variable globale x dans la fonction mais pas y.\n"
     ]
    }
   ],
   "source": [
    "x = 1  # Variable globale\n",
    "y = 3  # Variable globale\n",
    "print('Valeur à la déclaration :', x,y)\n",
    "\n",
    "def modifier_x():\n",
    "    global x  # Indique que nous faisons référence à la variable globale x\n",
    "    x = 10  # Modification de la variable globale x à l'intérieur de la fonction\n",
    "    y= 30 # Modification de la variable globale x à l'intérieur de la fonction sans le mot clé global\n",
    "    print('Valeur dans la fonction :', x,y)  # Accès à la variable globale\n",
    "    \n",
    "modifier_x()    \n",
    "print('Valeur hors de la fonction :', x,y)\n",
    "print('On a donc bien modifié la variable globale x dans la fonction mais pas y.' )"
   ]
  },
  {
   "cell_type": "markdown",
   "id": "0e3fe2c1-8a63-40e3-96e7-edddf62c5cb1",
   "metadata": {},
   "source": [
    "### 3-1-2 Documentation des fonctions"
   ]
  },
  {
   "cell_type": "markdown",
   "id": "86c6f243-1043-4076-b04a-10ecc94b6ae3",
   "metadata": {},
   "source": [
    "La documentation des fonctions est cruciale : \n",
    "- facilite la compréhension du code, \n",
    "- guide les utilisateurs\n",
    "- favorise la collaboration \n",
    "- simplifie la maintenance\n",
    "- clarifie les entrées et sorties attendues, \n",
    "- indique les limitations et les prérequis, \n",
    "- favorise les bonnes pratiques de programmation, \n",
    "- renforce la qualité et la fiabilité du code."
   ]
  },
  {
   "cell_type": "code",
   "execution_count": 16,
   "id": "d0796cd9-9543-4677-b895-be7ffbcc7c63",
   "metadata": {},
   "outputs": [],
   "source": [
    "def calculer_moyenne(notes):\n",
    "    # La documentation se trouve entre triple \" avec indentation\n",
    "    \"\"\"\n",
    "    Calcule la moyenne des notes fournies.\n",
    "    Args:\n",
    "        notes (list): Une liste de nombres représentant les notes.\n",
    "    Returns:\n",
    "        float: La moyenne des notes.\n",
    "    Raises:\n",
    "        ValueError: Si la liste de notes est vide.\n",
    "    Example:\n",
    "        >>> calculer_moyenne([12, 15, 18])\n",
    "        15.0\n",
    "    \"\"\"\n",
    "    if not notes:\n",
    "        raise ValueError(\"La liste de notes est vide.\")\n",
    "\n",
    "    total = sum(notes)\n",
    "    moyenne = total / len(notes)\n",
    "    return moyenne\n"
   ]
  },
  {
   "cell_type": "code",
   "execution_count": 17,
   "id": "aadd7b49-9415-4515-9075-23cf43d496ca",
   "metadata": {},
   "outputs": [
    {
     "name": "stdout",
     "output_type": "stream",
     "text": [
      "Help on function calculer_moyenne in module __main__:\n",
      "\n",
      "calculer_moyenne(notes)\n",
      "    Calcule la moyenne des notes fournies.\n",
      "    Args:\n",
      "        notes (list): Une liste de nombres représentant les notes.\n",
      "    Returns:\n",
      "        float: La moyenne des notes.\n",
      "    Raises:\n",
      "        ValueError: Si la liste de notes est vide.\n",
      "    Example:\n",
      "        >>> calculer_moyenne([12, 15, 18])\n",
      "        15.0\n",
      "\n"
     ]
    }
   ],
   "source": [
    "help(calculer_moyenne)"
   ]
  },
  {
   "cell_type": "markdown",
   "id": "9aa01fac-fe0f-4673-be22-307960987d93",
   "metadata": {},
   "source": [
    "*Remarque: Maintenant que l'on sait définir et utiliser nos propres fonctions, on se rend compte qu'on en utilisait deja, comme print ou comme help. Ce sont des fonctions fournies par python mais elles sont très semblables à celles que vous avez créées.*"
   ]
  },
  {
   "cell_type": "code",
   "execution_count": 18,
   "id": "69723c14-2bdc-4c28-a668-a4de15721372",
   "metadata": {},
   "outputs": [
    {
     "name": "stdout",
     "output_type": "stream",
     "text": [
      "Help on built-in function print in module builtins:\n",
      "\n",
      "print(...)\n",
      "    print(value, ..., sep=' ', end='\\n', file=sys.stdout, flush=False)\n",
      "    \n",
      "    Prints the values to a stream, or to sys.stdout by default.\n",
      "    Optional keyword arguments:\n",
      "    file:  a file-like object (stream); defaults to the current sys.stdout.\n",
      "    sep:   string inserted between values, default a space.\n",
      "    end:   string appended after the last value, default a newline.\n",
      "    flush: whether to forcibly flush the stream.\n",
      "\n"
     ]
    }
   ],
   "source": [
    "#on peut de la même manière consulter leur aide\n",
    "help(print)"
   ]
  },
  {
   "cell_type": "markdown",
   "id": "f858521f-de05-434b-88ce-c1f45d71ccdf",
   "metadata": {},
   "source": [
    "### 3-1-3 Modules et importation de fonctions"
   ]
  },
  {
   "cell_type": "markdown",
   "id": "fee8cc6d-8ddc-4330-a3bc-9156ef1aab63",
   "metadata": {},
   "source": [
    "Revenons à la fonction de calcul d'aire de rectangle, ajoutons une documentation succinte:   "
   ]
  },
  {
   "cell_type": "code",
   "execution_count": 21,
   "id": "f17b01e6-9edd-4dc7-a686-510f54f6cfc9",
   "metadata": {},
   "outputs": [],
   "source": [
    "def calculer_aire_rectangle_mod(longueur, largeur): \n",
    "    \"\"\" Cette Fonction calcule l'aire d'un rectangle les arguments sont des valeurs numeriques \n",
    "    de longueur et largeur\"\"\"\n",
    "    aire = longueur * largeur\n",
    "    return aire "
   ]
  },
  {
   "cell_type": "markdown",
   "id": "9174a907-926c-446f-89f2-e80274f96917",
   "metadata": {},
   "source": [
    "Copions cette fonction dans notepad++ et enregistrons le fichier sous le nom mes_fonctions_surface.py dans le même dossier que notre notebook.\n",
    "Nous allons maintenant l'importer:"
   ]
  },
  {
   "cell_type": "code",
   "execution_count": 22,
   "id": "a56c0348-896d-40b3-a8d4-b9fd6225db29",
   "metadata": {},
   "outputs": [
    {
     "name": "stdout",
     "output_type": "stream",
     "text": [
      "45\n",
      "Help on function calculer_aire_rectangle_mod in module mes_fonctions_surface:\n",
      "\n",
      "calculer_aire_rectangle_mod(longueur, largeur)\n",
      "    Cette Foction calcule l'aire d'un rectangle les arguments sont des valeurs numeriques \n",
      "    de longueur et largeur\n",
      "\n"
     ]
    }
   ],
   "source": [
    "#importer en principe on le fait au début du programme ou du notebook\n",
    "from mes_fonctions_surface import calculer_aire_rectangle_mod\n",
    "# et appeler\n",
    "mon_aire = calculer_aire_rectangle_mod(5,9)\n",
    "print(mon_aire)\n",
    "help(calculer_aire_rectangle_mod)"
   ]
  },
  {
   "cell_type": "markdown",
   "id": "1f7e62bd-5dd5-4198-ae9d-de349d14b2f4",
   "metadata": {
    "tags": []
   },
   "source": [
    "[Exercices 3 à 6](exercices/Exercices3_solutions.ipynb)"
   ]
  },
  {
   "cell_type": "markdown",
   "id": "d249e08c-012e-4f6a-a450-b1046e4c2f80",
   "metadata": {},
   "source": [
    "## 3-2 Les Classes"
   ]
  },
  {
   "cell_type": "markdown",
   "id": "402e4d1d-e81f-43db-b7ad-4d579180c7ce",
   "metadata": {},
   "source": [
    "Une classe peut être vue comme un modèle ou un plan pour créer des objets. Elle définit:\n",
    " - des propriétés (variables) \n",
    " - des actions (fonctions) \n",
    "que les objets de cette classe peuvent avoir. \n",
    "Les objets créés à partir d'une classe sont appelés des instances. \n",
    "Une classe permet d'organiser et de regrouper des variables et des fonctions liées, ce qui facilite la réutilisation du code et la gestion des données. En utilisant des classes, on peut représenter des objets du monde réel et résoudre des problèmes de manière plus structurée.\n",
    "\n"
   ]
  },
  {
   "cell_type": "markdown",
   "id": "ace44687-ea98-4a85-acb0-d408eec1313f",
   "metadata": {},
   "source": [
    "Les conventions de nommage sont:\n",
    "- Le nom de la classe doit commencer par une lettre majuscule.\n",
    "- Si le nom de la classe est composé de plusieurs mots, chaque mot doit commencer par une lettre majuscule et ne pas contenir d'underscores.\n",
    "- Éviter d'utiliser des caractères spéciaux ou des symboles dans le nom de la classe, à l'exception du soulignement (_).\n",
    "\n",
    "C'est la notation Camel case\n"
   ]
  },
  {
   "cell_type": "markdown",
   "id": "142a1b0f-a7a6-4bf7-8ee5-467e3fdcc972",
   "metadata": {},
   "source": [
    "Definissons notre première classe:"
   ]
  },
  {
   "cell_type": "code",
   "execution_count": 23,
   "id": "1ca0ce23-2010-46e4-af8b-8b08c0486e3c",
   "metadata": {},
   "outputs": [],
   "source": [
    "class CalculateurSurface:\n",
    "    \n",
    "    #definissons des methodes (on n'appelle plus ça des fonctions dans la classe)\n",
    "    def calculer_aire_rectangle(self, longueur, largeur):\n",
    "        aire = longueur * largeur\n",
    "        return aire\n",
    "    \n",
    "    def calculer_aire_cercle(self, rayon):\n",
    "        import math\n",
    "        aire = math.pi * rayon ** 2\n",
    "        return aire\n"
   ]
  },
  {
   "cell_type": "markdown",
   "id": "62d847ff-52b5-424d-a0ed-5562e2b2eec9",
   "metadata": {},
   "source": [
    "Créons un instance de la classe qui nous permettra d'utiliser les methodes de la classe:"
   ]
  },
  {
   "cell_type": "code",
   "execution_count": 24,
   "id": "d143a7ad-66b9-4f2b-82df-daf1dac08ce5",
   "metadata": {},
   "outputs": [],
   "source": [
    "# Utilisation de la classe CalculateurSurface\n",
    "calculateur = CalculateurSurface() # creer une instance de la classe CalculateurSurface()"
   ]
  },
  {
   "cell_type": "markdown",
   "id": "a5d4760b-6dad-49e8-bf66-fa89c5178356",
   "metadata": {},
   "source": [
    "Utilisons l'objet calculateur pour effectuer des calculs spécifiques (aire d'un rectangle et aire d'un cercle) en utilisant les méthodes définies dans la classe CalculateurSurface."
   ]
  },
  {
   "cell_type": "code",
   "execution_count": 25,
   "id": "9b0110ab-9264-4fd7-9ce4-f8e653d754c2",
   "metadata": {
    "tags": []
   },
   "outputs": [
    {
     "name": "stdout",
     "output_type": "stream",
     "text": [
      "L'aire du rectangle est : 50\n",
      "L'aire du cercle est : 28.274333882308138\n"
     ]
    }
   ],
   "source": [
    "#Appel de la méthode \"calculer_aire_rectangle\" sur l'objet \"calculateur\" \n",
    "aire_rectangle = calculateur.calculer_aire_rectangle(5, 10) \n",
    "print(\"L'aire du rectangle est :\", aire_rectangle)\n",
    "# idem pour la methode \"calculer_aire_cercle\"\n",
    "aire_cercle = calculateur.calculer_aire_cercle(3)\n",
    "print(\"L'aire du cercle est :\", aire_cercle)"
   ]
  },
  {
   "cell_type": "markdown",
   "id": "7b634c65-5d51-4fe8-9ecf-3c39f9c2c747",
   "metadata": {},
   "source": [
    "On Peut aussi initialiser la classe. De cette manière, on peut définir des attributs spécifiques à chaque instance de la classe. ce qui offrirait davantage de flexibilité et de personnalisation. Par exemple, on peut ajouter un attribut precision qui définit  la précision du resultat."
   ]
  },
  {
   "cell_type": "code",
   "execution_count": 26,
   "id": "5dc9b88f-690d-4fb1-a0dc-04fbca1f458d",
   "metadata": {},
   "outputs": [
    {
     "name": "stdout",
     "output_type": "stream",
     "text": [
      "L'aire du rectangle en precision 2 est : 54.45\n",
      "L'aire du cercle en precision 2 est : 28.27\n",
      "L'aire du rectangle en precision 4 est : 54.453\n",
      "L'aire du cercle en precision 4 est : 28.2743\n"
     ]
    }
   ],
   "source": [
    "class CalculateurSurface:\n",
    "    \n",
    "    # Initialisons la classe\n",
    "    def __init__(self, precision):\n",
    "        self.precision = precision\n",
    "\n",
    "    def calculer_aire_rectangle(self, longueur, largeur):\n",
    "        aire = longueur * largeur\n",
    "        return round(aire, self.precision)\n",
    "\n",
    "    def calculer_aire_cercle(self, rayon):\n",
    "        import math\n",
    "        aire = math.pi * rayon ** 2\n",
    "        return round(aire, self.precision)\n",
    "\n",
    "# Utilisation de la classe CalculateurSurface\n",
    "\n",
    "calculateur_4 = CalculateurSurface(2)  # creer une instance avec une précision de 2 décimales\n",
    "\n",
    "aire_rectangle = calculateur_4.calculer_aire_rectangle(5.00878, 10.8715)\n",
    "print(\"L'aire du rectangle en precision 2 est :\", aire_rectangle)\n",
    "\n",
    "aire_cercle = calculateur_4.calculer_aire_cercle(3)\n",
    "print(\"L'aire du cercle en precision 2 est :\", aire_cercle)\n",
    "\n",
    "\n",
    "# \n",
    "calculateur_2 = CalculateurSurface(4)  # creer une instance avec une précision de 2 décimales\n",
    "\n",
    "aire_rectangle = calculateur_2.calculer_aire_rectangle(5.00878, 10.8715)\n",
    "print(\"L'aire du rectangle en precision 4 est :\", aire_rectangle)\n",
    "\n",
    "aire_cercle = calculateur_2.calculer_aire_cercle(3)\n",
    "print(\"L'aire du cercle en precision 4 est :\", aire_cercle)"
   ]
  },
  {
   "cell_type": "markdown",
   "id": "fa2a9093-4870-44d5-923f-c9e63b223c66",
   "metadata": {},
   "source": [
    "revenons sur:\n",
    "<pre>     \n",
    "    def __init__(self, precision):\n",
    "        self.precision = precision \n",
    "</pre>\n",
    "nous définissons une méthode spéciale appelée   __init__ (avec des double underscore). Cette méthode est appelée automatiquement lorsqu'une nouvelle instance de la classe est créée.\n",
    "Le premier paramètre de cette méthode est self, qui fait référence à l'instance de la classe elle-même. Les autres paramètres, comme precision dans cet exemple, sont les valeurs que nous fournissons lors de l'initialisation de la classe."
   ]
  },
  {
   "cell_type": "markdown",
   "id": "193921d4-bedd-4382-accd-68309828d387",
   "metadata": {},
   "source": [
    "Dans l'exemple précedent, l'utilisation de self permet de faire référence à l'objet lui-même, c'est-à-dire à l'instance de la classe CalculateurSurface.\n",
    "\n",
    "Dans la méthode __init__, self.precision = precision assigne la valeur de precision à l'attribut precision de l'instance en cours. Cela permet de stocker la précision spécifique pour chaque objet CalculateurSurface.\n",
    "\n",
    "En utilisant self, chaque instance de la classe CalculateurSurface peut avoir ses propres valeurs d'attributs et accéder à ses propres méthodes. \n",
    "Ainsi, chaque instance de la classe CalculateurSurface peut être configurée avec des paramètres spécifiques de précision."
   ]
  },
  {
   "cell_type": "markdown",
   "id": "28ea1581-824a-4dc8-9fe8-778f152f59b8",
   "metadata": {},
   "source": [
    "Les classes que nous utilisons peuvent être définies à l'exterieur de notre code. \n",
    "Pour le vérifier, creer un nouveau fichier, avec notepad++ par exemple, contenant le code suivant et le sauver dnas le fichier MaClasseSurface.py"
   ]
  },
  {
   "cell_type": "code",
   "execution_count": 27,
   "id": "e947a2f7-29c3-464a-897c-bdd6a0ea7ee8",
   "metadata": {},
   "outputs": [],
   "source": [
    "class CalculateurSurface:\n",
    "    \n",
    "    # Initialisons la classe\n",
    "    def __init__(self, precision):\n",
    "        self.precision = precision\n",
    "\n",
    "    def calculer_aire_rectangle(self, longueur, largeur):\n",
    "        aire = longueur * largeur\n",
    "        return round(aire, self.precision)\n",
    "\n",
    "    def calculer_aire_cercle(self, rayon):\n",
    "        import math\n",
    "        aire = math.pi * rayon ** 2\n",
    "        return round(aire, self.precision)"
   ]
  },
  {
   "cell_type": "markdown",
   "id": "dd7799ca-dcac-43a7-b2df-38a2336534f7",
   "metadata": {},
   "source": [
    "Nous allons maintenant l'importer pour l'utiliser et pouvoir créer des instances."
   ]
  },
  {
   "cell_type": "markdown",
   "id": "06cfb5bc-abca-489d-9b43-192b7c060034",
   "metadata": {},
   "source": [
    "Commençons par importer l'ensemble des methodes de la classe avec import MaClasseSurface "
   ]
  },
  {
   "cell_type": "code",
   "execution_count": 28,
   "id": "f0026b46-7e07-469d-9e6e-69f2c195a86a",
   "metadata": {
    "tags": []
   },
   "outputs": [
    {
     "name": "stdout",
     "output_type": "stream",
     "text": [
      "L'aire du rectangle en precision 4 est : 54.5\n",
      "L'aire du cercle en precision 4 est : 28.3\n"
     ]
    }
   ],
   "source": [
    "import MaClasseSurface\n",
    "\n",
    "calculateur_1 = MaClasseSurface.CalculateurSurface(1)  # 1 decimale\n",
    "aire_rectangle = calculateur_1.calculer_aire_rectangle(5.00878, 10.8715)\n",
    "print(\"L'aire du rectangle en precision 4 est :\", aire_rectangle)\n",
    "\n",
    "aire_cercle = calculateur_1.calculer_aire_cercle(3)\n",
    "print(\"L'aire du cercle en precision 4 est :\", aire_cercle)"
   ]
  },
  {
   "cell_type": "markdown",
   "id": "3479f6ae-29b9-4787-a558-76912ea75540",
   "metadata": {},
   "source": [
    "Il est fréquent que l'on utilise seulement certaines methodes de la classe, on peut choisir les methodes importées avec from ... import"
   ]
  },
  {
   "cell_type": "code",
   "execution_count": 29,
   "id": "02465c24-b863-41df-bba9-ae3777dece33",
   "metadata": {},
   "outputs": [
    {
     "name": "stdout",
     "output_type": "stream",
     "text": [
      "L'aire du rectangle en precision 4 est : 54.4532\n",
      "L'aire du cercle en precision 4 est : 66.1009\n"
     ]
    }
   ],
   "source": [
    "from MaClasseSurface import CalculateurSurface\n",
    "calculateur_1 = CalculateurSurface(4)  # Initialisation avec une précision de 4 décimales\n",
    "\n",
    "aire_rectangle = calculateur_1.calculer_aire_rectangle(5.00878, 10.87155)\n",
    "print(\"L'aire du rectangle en precision 4 est :\", aire_rectangle)\n",
    "\n",
    "aire_cercle = calculateur_1.calculer_aire_cercle(4.587)\n",
    "print(\"L'aire du cercle en precision 4 est :\", aire_cercle)"
   ]
  },
  {
   "cell_type": "markdown",
   "id": "9837c7b0-94f5-4d39-81e2-be7aac82813a",
   "metadata": {},
   "source": [
    "Il arrive frequemment que les classes soient importées avec un nom raccourci avec le mot clé 'as'"
   ]
  },
  {
   "cell_type": "code",
   "execution_count": 30,
   "id": "b3794b5d-9f00-4deb-944e-b5870f5dc847",
   "metadata": {},
   "outputs": [
    {
     "name": "stdout",
     "output_type": "stream",
     "text": [
      "L'aire du rectangle en precision 4 est : 54.5\n",
      "L'aire du cercle en precision 4 est : 28.3\n"
     ]
    }
   ],
   "source": [
    "import MaClasseSurface as mcs\n",
    "\n",
    "calculateur_1 = mcs.CalculateurSurface(1)  # Attention ici il faut preciser quand on cree l'instance\n",
    "aire_rectangle = calculateur_1.calculer_aire_rectangle(5.00878, 10.8715)\n",
    "print(\"L'aire du rectangle en precision 4 est :\", aire_rectangle)\n",
    "\n",
    "aire_cercle = calculateur_1.calculer_aire_cercle(3)\n",
    "print(\"L'aire du cercle en precision 4 est :\", aire_cercle)"
   ]
  },
  {
   "cell_type": "markdown",
   "id": "6e5f451c-378c-4a60-ad16-6d30921616ae",
   "metadata": {},
   "source": [
    "On a donc crée notre classe que l'on a ensuite importée pour l'utilisation dans notre code. On peut bien sûr importer des classes qui ont étées écrites par d'autres personnes, par exemple des collèques qui travaillent sur un projet similaire.   \n",
    "Mais il existe énorment de bibliothèques qui sont en réalité des classes mises à disposition de tous."
   ]
  },
  {
   "cell_type": "markdown",
   "id": "2193db8b-0aa9-4dc0-9f3a-6ce53c7c069a",
   "metadata": {
    "tags": []
   },
   "source": [
    "[Exercices 7 à 9](exercices/Exercices3_solutions.ipynb)"
   ]
  },
  {
   "cell_type": "code",
   "execution_count": null,
   "id": "b5ea265e-fa07-4e5b-9915-0f3d17ebe911",
   "metadata": {},
   "outputs": [],
   "source": []
  }
 ],
 "metadata": {
  "kernelspec": {
   "display_name": "Python 3 (ipykernel)",
   "language": "python",
   "name": "python3"
  },
  "language_info": {
   "codemirror_mode": {
    "name": "ipython",
    "version": 3
   },
   "file_extension": ".py",
   "mimetype": "text/x-python",
   "name": "python",
   "nbconvert_exporter": "python",
   "pygments_lexer": "ipython3",
   "version": "3.10.13"
  }
 },
 "nbformat": 4,
 "nbformat_minor": 5
}
