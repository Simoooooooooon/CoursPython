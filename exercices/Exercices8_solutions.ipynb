{
 "cells": [
  {
   "cell_type": "markdown",
   "id": "506259d5-065e-4660-87ef-13815d658dad",
   "metadata": {
    "tags": []
   },
   "source": [
    "***\n",
    "# **<center>Exercices#8</center>**\n",
    "# ***<center>Fichiers</center>***\n",
    "\n",
    "***"
   ]
  },
  {
   "cell_type": "markdown",
   "id": "29a5681b-8edb-435d-8543-62dedd904f53",
   "metadata": {},
   "source": [
    "<u>Exercice 1:</u> *Fichiers, dossiers et Pandas.*\n",
    "\n",
    "- Ouvrir le fichier E15_bis.xy et afficher son contenu\n",
    "- Afficher son contenu avec print\n",
    "- Quel est son nombre de ligne?\n",
    "- Charger l'ensemble des données dans un tableau numpy nommé data. Donner ses dimensions.\n",
    "- tracer la seconde colonne en fonction de la première et sauver une image du graphique."
   ]
  },
  {
   "cell_type": "code",
   "execution_count": 3,
   "id": "7d8dbe73-3548-45e2-9d9d-8655d353793d",
   "metadata": {},
   "outputs": [],
   "source": [
    "# - Ouvrir le fichier E15_bis.xy et afficher son contenu\n",
    "chemin = 'E15_bis.xy'\n",
    "\n",
    "with open(chemin, 'r') as fichier:\n",
    "    contenu = fichier.read()\n",
    "# print(contenu)"
   ]
  },
  {
   "cell_type": "code",
   "execution_count": 6,
   "id": "669520a2-1240-49f3-86ad-62673037015a",
   "metadata": {},
   "outputs": [
    {
     "name": "stdout",
     "output_type": "stream",
     "text": [
      "3808 lignes\n"
     ]
    }
   ],
   "source": [
    "# - Quel est son nombre de ligne?\n",
    "with open(chemin, 'r') as fichier:\n",
    "    lignes = fichier.readlines()  # Lecture de toutes les lignes du fichier\n",
    "    nombre_lignes = len(lignes)  # Nombre de lignes dans le fichier \n",
    "print(nombre_lignes,'lignes')"
   ]
  },
  {
   "cell_type": "code",
   "execution_count": 8,
   "id": "0dfc0c0f-1aa6-46bc-b2ba-dc369d9ca309",
   "metadata": {},
   "outputs": [
    {
     "name": "stdout",
     "output_type": "stream",
     "text": [
      "<class 'numpy.ndarray'>\n",
      "(2, 3808)\n"
     ]
    }
   ],
   "source": [
    "# - Charger l'ensemble des données dans un tableau numpy nommé data. Donner ses dimensions.\n",
    "import numpy as np\n",
    "with open(chemin, 'r') as fichier:\n",
    "    data = np.loadtxt(fichier, unpack = True)\n",
    "print(type(data))\n",
    "print(data.shape)\n"
   ]
  },
  {
   "cell_type": "code",
   "execution_count": 10,
   "id": "14aeaba6-2765-4bee-b8b8-4eced49ffa45",
   "metadata": {},
   "outputs": [
    {
     "data": {
      "image/png": "[encoded data removed]",
      "text/plain": [
       "<Figure size 640x480 with 1 Axes>"
      ]
     },
     "metadata": {},
     "output_type": "display_data"
    }
   ],
   "source": [
    "# - tracer la seconde colonne en fonction de la première et sauver une image du graphique.\n",
    "import matplotlib.pyplot as plt\n",
    "fig,ax = plt.subplots()\n",
    "ax.plot(data[0],data[1])\n",
    "plt.savefig('exercices_fichiers/data.jpg')"
   ]
  },
  {
   "cell_type": "markdown",
   "id": "74cfc067-4af1-47aa-b013-b8092e0fdeed",
   "metadata": {
    "tags": []
   },
   "source": [
    "<u>Exercice 2:</u> *Fichiers, dossiers et Pandas.* \n",
    "\n",
    "1. Créez un dossier appelé 'exercices' dans le dossier mes_fichiers en utilisant le chemin absolu.\n",
    "2. Dans le dossier exercices, créez un dossier appelé 'exercice1' et quatre dossiers nommés 'dossier1', 'dossier2', ..., 'dossier4'.\n",
    "3. Dans le dossier 'dossier1', créez dix fichiers textes appelés 'fichier1.txt', 'fichier2.txt', ..., 'fichier10.txt'.\n",
    "4. Remplir les 10 fichiers avec chacun 2 colonnes séparées par une tabulation  :\n",
    "- la premiere contenant des nombres decimaux commençant à 0, jusqu'à 100 avec un pas de 0.5\n",
    "- la deuxieme contenant un nombre aleatoire obtenu par une distribution gaussienne\n",
    "5. Récupérer les données contenus dans les 10 fichiers texte pour les rassembler dans un pandas dataframe.\n",
    "On utilisera la fonction  pd.read_csv(filename, sep='\\t', header=None, usecols=[1] dans une boucle pour récupérer les nombres aléatoires de chaque fichier.\n",
    "6. Ajouter des noms aux lignes et aux colonnes\n",
    "7. Explorer succitement le dataset (regarder quelques lignes, donner les statistiques sur les valeurs aléatoires, representer les distribution des données)"
   ]
  },
  {
   "cell_type": "code",
   "execution_count": 7,
   "id": "498ed66a-54b2-4005-ab51-bf32e5a4711e",
   "metadata": {
    "tags": []
   },
   "outputs": [
    {
     "name": "stdout",
     "output_type": "stream",
     "text": [
      "Le dossier a été créé avec succès.\n"
     ]
    }
   ],
   "source": [
    "# 1 - creez un dossier appelé 'exercices' dans le dossier mes_fichiers en utilisant le chemin absolu  \n",
    "import os\n",
    "\n",
    "chemin = 'C:/Users/cayez/Documents/DONNEES SIMON/cours python 2IMACS/cours 2 IMACS Simon/exercices/exercices_fichiers/exercices'\n",
    "# Vérifier si le dossier existe déjà\n",
    "if os.path.exists(chemin):\n",
    "    print(\"Le dossier existe déjà.\")\n",
    "else:\n",
    "    # Créer le dossier\n",
    "    os.mkdir(chemin)\n",
    "    print(\"Le dossier a été créé avec succès.\")\n"
   ]
  },
  {
   "cell_type": "code",
   "execution_count": 8,
   "id": "261b9b7d-e52e-417c-a817-cb8421c42ed3",
   "metadata": {
    "tags": []
   },
   "outputs": [
    {
     "name": "stdout",
     "output_type": "stream",
     "text": [
      "Le dossier a été créé avec succès.\n"
     ]
    }
   ],
   "source": [
    "# 2- Dans le dossier exercices creez un dossier appelé 'exercice1' 4 dossiers, nommés 'dossier1', 'dossier2',...'dossier4' dans exercices\n",
    "\n",
    "\n",
    "chemin = chemin + '/exercice1'\n",
    "\n",
    " #Vérifier si le dossier existe déjà\n",
    "if os.path.exists(chemin):\n",
    "    print(\"Le dossier existe déjà.\")\n",
    "else:\n",
    "    # Créer le dossier\n",
    "    os.mkdir(chemin)\n",
    "    print(\"Le dossier a été créé avec succès.\")"
   ]
  },
  {
   "cell_type": "code",
   "execution_count": 9,
   "id": "5d1bb8d9-f444-4d6f-97de-936ee4b0061b",
   "metadata": {
    "tags": []
   },
   "outputs": [
    {
     "name": "stdout",
     "output_type": "stream",
     "text": [
      "C:/Users/cayez/Documents/DONNEES SIMON/cours python 2IMACS/cours 2 IMACS Simon/exercices/exercices_fichiers/exercices/exercice1\\dossier1\n",
      "dossier1  crée avec succès\n",
      "C:/Users/cayez/Documents/DONNEES SIMON/cours python 2IMACS/cours 2 IMACS Simon/exercices/exercices_fichiers/exercices/exercice1\\dossier2\n",
      "dossier2  crée avec succès\n",
      "C:/Users/cayez/Documents/DONNEES SIMON/cours python 2IMACS/cours 2 IMACS Simon/exercices/exercices_fichiers/exercices/exercice1\\dossier3\n",
      "dossier3  crée avec succès\n",
      "C:/Users/cayez/Documents/DONNEES SIMON/cours python 2IMACS/cours 2 IMACS Simon/exercices/exercices_fichiers/exercices/exercice1\\dossier4\n",
      "dossier4  crée avec succès\n"
     ]
    }
   ],
   "source": [
    "\n",
    "for i in range(1, 5):\n",
    " \n",
    "    nom_dossier = 'dossier'+str(i)\n",
    "    chemin_dossier = os.path.join(chemin, nom_dossier)\n",
    "    # chemin_dossier = chemin+nom_dossier\n",
    "    print(chemin_dossier)\n",
    "    \n",
    "    # Vérifier si le dossier existe déjà\n",
    "    if os.path.exists(chemin_dossier):\n",
    "        print(nom_dossier,' existe déja')\n",
    "\n",
    "    else:\n",
    "        # Créer le dossier\n",
    "        os.mkdir(chemin_dossier)\n",
    "        print(nom_dossier,' crée avec succès')\n"
   ]
  },
  {
   "cell_type": "code",
   "execution_count": 10,
   "id": "7b4d5dc1-4fdc-4fcc-82d8-b645fc6ce8b6",
   "metadata": {
    "tags": []
   },
   "outputs": [
    {
     "name": "stdout",
     "output_type": "stream",
     "text": [
      "Le fichier fichier1.txt a été créé avec succès.\n",
      "Le fichier fichier2.txt a été créé avec succès.\n",
      "Le fichier fichier3.txt a été créé avec succès.\n",
      "Le fichier fichier4.txt a été créé avec succès.\n",
      "Le fichier fichier5.txt a été créé avec succès.\n",
      "Le fichier fichier6.txt a été créé avec succès.\n",
      "Le fichier fichier7.txt a été créé avec succès.\n",
      "Le fichier fichier8.txt a été créé avec succès.\n",
      "Le fichier fichier9.txt a été créé avec succès.\n",
      "Le fichier fichier10.txt a été créé avec succès.\n"
     ]
    }
   ],
   "source": [
    "# 3. Dans le dossier 'dossier1', créez dix fichiers textes appelés 'fichier1.txt', 'fichier2.txt', ..., 'fichier10.txt'.\n",
    "\n",
    "# chemin = 'C:/Users/cayez/Documents/DONNEES SIMON/cours python 2IMACS/cours 2 IMACS Simon/mes_fichiers/exercices/exercice1/dossier1'\n",
    "chemin = chemin + '/dossier1'\n",
    "fichiers = os.listdir(chemin)\n",
    "\n",
    "# Créer les fichiers\n",
    "for i in range(1, 11):\n",
    "    nom_fichier = 'fichier'+str(i)+'.txt'\n",
    "    chemin_fichier = os.path.join(chemin, nom_fichier)\n",
    "    \n",
    "    # Vérifier si le fichier existe déjà\n",
    "    if os.path.exists(chemin_fichier):\n",
    "        print(f\"Le fichier {nom_fichier} existe déjà.\")\n",
    "    else:\n",
    "        # Créer le fichier\n",
    "        with open(chemin_fichier, 'w') as fichier:\n",
    "            pass\n",
    "        print(f\"Le fichier {nom_fichier} a été créé avec succès.\")\n"
   ]
  },
  {
   "cell_type": "code",
   "execution_count": 11,
   "id": "3f8d30f9-9b38-41d8-948c-f7d52766ccc3",
   "metadata": {
    "tags": []
   },
   "outputs": [],
   "source": [
    "# 4. Remplir les 10 fichiers avec chacun 2 colonnes séparées par une tabulation  :\n",
    "# - la premiere contenant des nombres decimaux commençant à 0, jusqu'à 100 avec un pas de 0.5\n",
    "# - la deuxieme contenant un nombre aleatoire obtenu par une distribution gaussienne\n",
    "import random\n",
    "import numpy as np\n",
    "\n",
    "fichiers = os.listdir(chemin)\n",
    "\n",
    "liste_chemin_absolu = []\n",
    "for f in fichiers:\n",
    "    chemin_absolu = os.path.join(chemin,f)\n",
    "    liste_chemin_absolu.append(chemin_absolu)\n",
    "    \n",
    "\n",
    "for filename in liste_chemin_absolu:  \n",
    "    with open(filename, 'a') as file:\n",
    "        file.write(\"Decimal Number\\tRandom Number\\n\")\n",
    "        decimal_numbers = np.arange(0, 100.5, 0.5)\n",
    "        for decimal_number in decimal_numbers:\n",
    "            random_number = random.gauss(0, 1)\n",
    "            file.write(str(decimal_number) + \"\\t\" + str(random_number) + \"\\n\")\n"
   ]
  },
  {
   "cell_type": "code",
   "execution_count": 12,
   "id": "377e2120-6bdf-43cc-8465-873ef789a67a",
   "metadata": {
    "tags": []
   },
   "outputs": [
    {
     "name": "stdout",
     "output_type": "stream",
     "text": [
      "(202, 10)\n"
     ]
    }
   ],
   "source": [
    "#5. Récupérer les données contenus dans les 10 fichiers texte pour les rassembler dans un pandas dataframe.\n",
    "import pandas as pd\n",
    "\n",
    "# Créer une liste vide pour stocker les données de chaque colonne\n",
    "data_columns = []\n",
    "# colonne1 = pd.read_csv(filename, sep='\\t', header=None, usecols=[0])\n",
    "# data_columns.append(colonne1[0])\n",
    "# Parcourir la liste des chemins absolus\n",
    "for filename in liste_chemin_absolu:\n",
    "    # Lire le fichier en utilisant la tabulation comme délimiteur\n",
    "    data = pd.read_csv(filename, sep='\\t', header=None, usecols=[1])\n",
    "    # Ajouter les données à la liste des colonnes\n",
    "    data_columns.append(data[1])\n",
    "\n",
    "# Créer le DataFrame en utilisant la liste des colonnes\n",
    "df = pd.DataFrame(data_columns).T\n",
    "\n",
    "# Afficher le DataFrame\n",
    "print(df.shape)"
   ]
  },
  {
   "cell_type": "code",
   "execution_count": 13,
   "id": "6697d932-3424-453f-91f9-1dce6427c678",
   "metadata": {
    "tags": []
   },
   "outputs": [
    {
     "name": "stdout",
     "output_type": "stream",
     "text": [
      "['Decimal Number' '0.0' '0.5' '1.0' '1.5' '2.0' '2.5' '3.0' '3.5' '4.0']\n",
      "[1, 2, 3, 4, 5, 6, 7, 8, 9, 10]\n"
     ]
    }
   ],
   "source": [
    "# 6. Ajouter des noms aux lignes et aux colonnes\n",
    "\n",
    "colonne1 = pd.read_csv(filename, sep='\\t', header=None, usecols=[0])\n",
    "colonne1 = np.array(colonne1)\n",
    "\n",
    "\n",
    "nom_lignes = np.reshape(colonne1,(colonne1.shape[0],))\n",
    "print(nom_lignes[0:10])\n",
    "#Il faut supprimer decimal number en premiere position\n",
    "# nom_lignes = nom_lignes[1:]\n",
    "# print(nom_lignes[0:10])\n",
    "\n",
    "nom_colonnes = list(range(1,11))\n",
    "\n",
    "\n",
    "print(nom_colonnes)\n",
    "\n",
    "df.index = nom_lignes\n",
    "df.columns = nom_colonnes\n",
    "\n",
    "\n",
    "\n"
   ]
  },
  {
   "cell_type": "code",
   "execution_count": 14,
   "id": "b59a0517-4c5b-4271-87b9-09d3870b0b45",
   "metadata": {
    "tags": []
   },
   "outputs": [],
   "source": [
    "#7. Explorer succitement le dataset (regarder quelques lignes, donner les statistiques sur les valeurs aléatoires, representer les distribution des données)"
   ]
  },
  {
   "cell_type": "code",
   "execution_count": 15,
   "id": "44fc4b67-3c1f-40ac-acda-379f12b15eee",
   "metadata": {
    "tags": []
   },
   "outputs": [
    {
     "data": {
      "text/html": [
       "<div>\n",
       "<style scoped>\n",
       "    .dataframe tbody tr th:only-of-type {\n",
       "        vertical-align: middle;\n",
       "    }\n",
       "\n",
       "    .dataframe tbody tr th {\n",
       "        vertical-align: top;\n",
       "    }\n",
       "\n",
       "    .dataframe thead th {\n",
       "        text-align: right;\n",
       "    }\n",
       "</style>\n",
       "<table border=\"1\" class=\"dataframe\">\n",
       "  <thead>\n",
       "    <tr style=\"text-align: right;\">\n",
       "      <th></th>\n",
       "      <th>1</th>\n",
       "      <th>2</th>\n",
       "      <th>3</th>\n",
       "      <th>4</th>\n",
       "      <th>5</th>\n",
       "      <th>6</th>\n",
       "      <th>7</th>\n",
       "      <th>8</th>\n",
       "      <th>9</th>\n",
       "      <th>10</th>\n",
       "    </tr>\n",
       "  </thead>\n",
       "  <tbody>\n",
       "    <tr>\n",
       "      <th>Decimal Number</th>\n",
       "      <td>Random Number</td>\n",
       "      <td>Random Number</td>\n",
       "      <td>Random Number</td>\n",
       "      <td>Random Number</td>\n",
       "      <td>Random Number</td>\n",
       "      <td>Random Number</td>\n",
       "      <td>Random Number</td>\n",
       "      <td>Random Number</td>\n",
       "      <td>Random Number</td>\n",
       "      <td>Random Number</td>\n",
       "    </tr>\n",
       "    <tr>\n",
       "      <th>0.0</th>\n",
       "      <td>1.0146687832644588</td>\n",
       "      <td>0.8844182790453953</td>\n",
       "      <td>1.2074321390534708</td>\n",
       "      <td>-0.43770591095299927</td>\n",
       "      <td>-1.4811014024210856</td>\n",
       "      <td>-0.7661541164614296</td>\n",
       "      <td>-0.32359584248137074</td>\n",
       "      <td>0.5604728828023904</td>\n",
       "      <td>0.04307760277332473</td>\n",
       "      <td>-0.8070467401957873</td>\n",
       "    </tr>\n",
       "    <tr>\n",
       "      <th>0.5</th>\n",
       "      <td>0.36255167378425174</td>\n",
       "      <td>-1.3482530416698246</td>\n",
       "      <td>-0.40446105478881395</td>\n",
       "      <td>0.9058971283410566</td>\n",
       "      <td>-1.73049504642291</td>\n",
       "      <td>-1.5765816193434121</td>\n",
       "      <td>-0.9597788902275773</td>\n",
       "      <td>-0.9970936225881797</td>\n",
       "      <td>-0.47530411170675924</td>\n",
       "      <td>0.48145721334040786</td>\n",
       "    </tr>\n",
       "    <tr>\n",
       "      <th>1.0</th>\n",
       "      <td>0.7120086325613497</td>\n",
       "      <td>0.37910637871824765</td>\n",
       "      <td>0.05950256694886197</td>\n",
       "      <td>-0.22533746862915852</td>\n",
       "      <td>-1.4800627885842925</td>\n",
       "      <td>-0.3766376673758196</td>\n",
       "      <td>-1.8732677995849085</td>\n",
       "      <td>0.8473178135788931</td>\n",
       "      <td>0.7982543269800526</td>\n",
       "      <td>-0.2287611363423743</td>\n",
       "    </tr>\n",
       "    <tr>\n",
       "      <th>1.5</th>\n",
       "      <td>0.05527341062713936</td>\n",
       "      <td>-0.7438786932820773</td>\n",
       "      <td>-0.19590850443049707</td>\n",
       "      <td>-0.03644712655476389</td>\n",
       "      <td>-1.0492418351427182</td>\n",
       "      <td>1.0759538719699135</td>\n",
       "      <td>-1.1167609401581393</td>\n",
       "      <td>2.377038492485969</td>\n",
       "      <td>-1.7431026760699135</td>\n",
       "      <td>-0.8028261458443082</td>\n",
       "    </tr>\n",
       "  </tbody>\n",
       "</table>\n",
       "</div>"
      ],
      "text/plain": [
       "                                 1                    2   \\\n",
       "Decimal Number        Random Number        Random Number   \n",
       "0.0              1.0146687832644588   0.8844182790453953   \n",
       "0.5             0.36255167378425174  -1.3482530416698246   \n",
       "1.0              0.7120086325613497  0.37910637871824765   \n",
       "1.5             0.05527341062713936  -0.7438786932820773   \n",
       "\n",
       "                                  3                     4   \\\n",
       "Decimal Number         Random Number         Random Number   \n",
       "0.0               1.2074321390534708  -0.43770591095299927   \n",
       "0.5             -0.40446105478881395    0.9058971283410566   \n",
       "1.0              0.05950256694886197  -0.22533746862915852   \n",
       "1.5             -0.19590850443049707  -0.03644712655476389   \n",
       "\n",
       "                                 5                    6   \\\n",
       "Decimal Number        Random Number        Random Number   \n",
       "0.0             -1.4811014024210856  -0.7661541164614296   \n",
       "0.5               -1.73049504642291  -1.5765816193434121   \n",
       "1.0             -1.4800627885842925  -0.3766376673758196   \n",
       "1.5             -1.0492418351427182   1.0759538719699135   \n",
       "\n",
       "                                  7                    8   \\\n",
       "Decimal Number         Random Number        Random Number   \n",
       "0.0             -0.32359584248137074   0.5604728828023904   \n",
       "0.5              -0.9597788902275773  -0.9970936225881797   \n",
       "1.0              -1.8732677995849085   0.8473178135788931   \n",
       "1.5              -1.1167609401581393    2.377038492485969   \n",
       "\n",
       "                                  9                    10  \n",
       "Decimal Number         Random Number        Random Number  \n",
       "0.0              0.04307760277332473  -0.8070467401957873  \n",
       "0.5             -0.47530411170675924  0.48145721334040786  \n",
       "1.0               0.7982543269800526  -0.2287611363423743  \n",
       "1.5              -1.7431026760699135  -0.8028261458443082  "
      ]
     },
     "execution_count": 15,
     "metadata": {},
     "output_type": "execute_result"
    }
   ],
   "source": [
    "df.head()"
   ]
  },
  {
   "cell_type": "code",
   "execution_count": 16,
   "id": "e88e668d-2c6c-482d-a7d8-78670ae7366f",
   "metadata": {
    "tags": []
   },
   "outputs": [
    {
     "data": {
      "text/html": [
       "<div>\n",
       "<style scoped>\n",
       "    .dataframe tbody tr th:only-of-type {\n",
       "        vertical-align: middle;\n",
       "    }\n",
       "\n",
       "    .dataframe tbody tr th {\n",
       "        vertical-align: top;\n",
       "    }\n",
       "\n",
       "    .dataframe thead th {\n",
       "        text-align: right;\n",
       "    }\n",
       "</style>\n",
       "<table border=\"1\" class=\"dataframe\">\n",
       "  <thead>\n",
       "    <tr style=\"text-align: right;\">\n",
       "      <th></th>\n",
       "      <th>1</th>\n",
       "      <th>2</th>\n",
       "      <th>3</th>\n",
       "      <th>4</th>\n",
       "      <th>5</th>\n",
       "      <th>6</th>\n",
       "      <th>7</th>\n",
       "      <th>8</th>\n",
       "      <th>9</th>\n",
       "      <th>10</th>\n",
       "    </tr>\n",
       "  </thead>\n",
       "  <tbody>\n",
       "    <tr>\n",
       "      <th>count</th>\n",
       "      <td>202</td>\n",
       "      <td>202</td>\n",
       "      <td>202</td>\n",
       "      <td>202</td>\n",
       "      <td>202</td>\n",
       "      <td>202</td>\n",
       "      <td>202</td>\n",
       "      <td>202</td>\n",
       "      <td>202</td>\n",
       "      <td>202</td>\n",
       "    </tr>\n",
       "    <tr>\n",
       "      <th>unique</th>\n",
       "      <td>202</td>\n",
       "      <td>202</td>\n",
       "      <td>202</td>\n",
       "      <td>202</td>\n",
       "      <td>202</td>\n",
       "      <td>202</td>\n",
       "      <td>202</td>\n",
       "      <td>202</td>\n",
       "      <td>202</td>\n",
       "      <td>202</td>\n",
       "    </tr>\n",
       "    <tr>\n",
       "      <th>top</th>\n",
       "      <td>Random Number</td>\n",
       "      <td>Random Number</td>\n",
       "      <td>Random Number</td>\n",
       "      <td>Random Number</td>\n",
       "      <td>Random Number</td>\n",
       "      <td>Random Number</td>\n",
       "      <td>Random Number</td>\n",
       "      <td>Random Number</td>\n",
       "      <td>Random Number</td>\n",
       "      <td>Random Number</td>\n",
       "    </tr>\n",
       "    <tr>\n",
       "      <th>freq</th>\n",
       "      <td>1</td>\n",
       "      <td>1</td>\n",
       "      <td>1</td>\n",
       "      <td>1</td>\n",
       "      <td>1</td>\n",
       "      <td>1</td>\n",
       "      <td>1</td>\n",
       "      <td>1</td>\n",
       "      <td>1</td>\n",
       "      <td>1</td>\n",
       "    </tr>\n",
       "  </tbody>\n",
       "</table>\n",
       "</div>"
      ],
      "text/plain": [
       "                   1              2              3              4   \\\n",
       "count             202            202            202            202   \n",
       "unique            202            202            202            202   \n",
       "top     Random Number  Random Number  Random Number  Random Number   \n",
       "freq                1              1              1              1   \n",
       "\n",
       "                   5              6              7              8   \\\n",
       "count             202            202            202            202   \n",
       "unique            202            202            202            202   \n",
       "top     Random Number  Random Number  Random Number  Random Number   \n",
       "freq                1              1              1              1   \n",
       "\n",
       "                   9              10  \n",
       "count             202            202  \n",
       "unique            202            202  \n",
       "top     Random Number  Random Number  \n",
       "freq                1              1  "
      ]
     },
     "execution_count": 16,
     "metadata": {},
     "output_type": "execute_result"
    }
   ],
   "source": [
    "df.describe()"
   ]
  },
  {
   "cell_type": "markdown",
   "id": "4d2b103c-3988-4ec7-9ebb-39513d1eb158",
   "metadata": {
    "tags": []
   },
   "source": [
    "On remarque que les valeurs ne sont pas traitées comme des valeurs numériques. C'est normal, les valeurs extraites des fichiers textes sont des chaines de caractères. Faisons un conversion du dataframe en float"
   ]
  },
  {
   "cell_type": "code",
   "execution_count": 17,
   "id": "5c9fabe0-c7ea-472b-b908-233c6f6670f1",
   "metadata": {
    "tags": []
   },
   "outputs": [
    {
     "data": {
      "text/html": [
       "<div>\n",
       "<style scoped>\n",
       "    .dataframe tbody tr th:only-of-type {\n",
       "        vertical-align: middle;\n",
       "    }\n",
       "\n",
       "    .dataframe tbody tr th {\n",
       "        vertical-align: top;\n",
       "    }\n",
       "\n",
       "    .dataframe thead th {\n",
       "        text-align: right;\n",
       "    }\n",
       "</style>\n",
       "<table border=\"1\" class=\"dataframe\">\n",
       "  <thead>\n",
       "    <tr style=\"text-align: right;\">\n",
       "      <th></th>\n",
       "      <th>1</th>\n",
       "      <th>2</th>\n",
       "      <th>3</th>\n",
       "      <th>4</th>\n",
       "      <th>5</th>\n",
       "      <th>6</th>\n",
       "      <th>7</th>\n",
       "      <th>8</th>\n",
       "      <th>9</th>\n",
       "      <th>10</th>\n",
       "    </tr>\n",
       "  </thead>\n",
       "  <tbody>\n",
       "    <tr>\n",
       "      <th>count</th>\n",
       "      <td>201.000000</td>\n",
       "      <td>201.000000</td>\n",
       "      <td>201.000000</td>\n",
       "      <td>201.000000</td>\n",
       "      <td>201.000000</td>\n",
       "      <td>201.000000</td>\n",
       "      <td>201.000000</td>\n",
       "      <td>201.000000</td>\n",
       "      <td>201.000000</td>\n",
       "      <td>201.000000</td>\n",
       "    </tr>\n",
       "    <tr>\n",
       "      <th>mean</th>\n",
       "      <td>-0.049952</td>\n",
       "      <td>0.050142</td>\n",
       "      <td>-0.037164</td>\n",
       "      <td>-0.059773</td>\n",
       "      <td>-0.152989</td>\n",
       "      <td>0.020642</td>\n",
       "      <td>-0.150328</td>\n",
       "      <td>0.046794</td>\n",
       "      <td>-0.021252</td>\n",
       "      <td>0.027638</td>\n",
       "    </tr>\n",
       "    <tr>\n",
       "      <th>std</th>\n",
       "      <td>1.012072</td>\n",
       "      <td>1.031510</td>\n",
       "      <td>1.054108</td>\n",
       "      <td>1.066131</td>\n",
       "      <td>1.034911</td>\n",
       "      <td>0.951664</td>\n",
       "      <td>1.098491</td>\n",
       "      <td>1.044672</td>\n",
       "      <td>1.050170</td>\n",
       "      <td>1.036017</td>\n",
       "    </tr>\n",
       "    <tr>\n",
       "      <th>min</th>\n",
       "      <td>-2.962289</td>\n",
       "      <td>-3.578745</td>\n",
       "      <td>-3.525862</td>\n",
       "      <td>-3.256035</td>\n",
       "      <td>-3.057795</td>\n",
       "      <td>-2.508990</td>\n",
       "      <td>-3.794416</td>\n",
       "      <td>-2.956842</td>\n",
       "      <td>-2.717882</td>\n",
       "      <td>-2.795267</td>\n",
       "    </tr>\n",
       "    <tr>\n",
       "      <th>25%</th>\n",
       "      <td>-0.758178</td>\n",
       "      <td>-0.613346</td>\n",
       "      <td>-0.671460</td>\n",
       "      <td>-0.770224</td>\n",
       "      <td>-0.814725</td>\n",
       "      <td>-0.718211</td>\n",
       "      <td>-0.844621</td>\n",
       "      <td>-0.656388</td>\n",
       "      <td>-0.727075</td>\n",
       "      <td>-0.782748</td>\n",
       "    </tr>\n",
       "    <tr>\n",
       "      <th>50%</th>\n",
       "      <td>-0.017167</td>\n",
       "      <td>0.056940</td>\n",
       "      <td>-0.072442</td>\n",
       "      <td>-0.117450</td>\n",
       "      <td>-0.139586</td>\n",
       "      <td>0.042198</td>\n",
       "      <td>-0.065967</td>\n",
       "      <td>0.106571</td>\n",
       "      <td>-0.060650</td>\n",
       "      <td>0.088164</td>\n",
       "    </tr>\n",
       "    <tr>\n",
       "      <th>75%</th>\n",
       "      <td>0.722704</td>\n",
       "      <td>0.634834</td>\n",
       "      <td>0.613283</td>\n",
       "      <td>0.626326</td>\n",
       "      <td>0.477421</td>\n",
       "      <td>0.711970</td>\n",
       "      <td>0.581881</td>\n",
       "      <td>0.772788</td>\n",
       "      <td>0.749814</td>\n",
       "      <td>0.741528</td>\n",
       "    </tr>\n",
       "    <tr>\n",
       "      <th>max</th>\n",
       "      <td>2.784636</td>\n",
       "      <td>2.906151</td>\n",
       "      <td>2.966421</td>\n",
       "      <td>2.349848</td>\n",
       "      <td>2.538835</td>\n",
       "      <td>2.548259</td>\n",
       "      <td>2.931770</td>\n",
       "      <td>2.809839</td>\n",
       "      <td>2.493315</td>\n",
       "      <td>2.940262</td>\n",
       "    </tr>\n",
       "  </tbody>\n",
       "</table>\n",
       "</div>"
      ],
      "text/plain": [
       "               1           2           3           4           5           6   \\\n",
       "count  201.000000  201.000000  201.000000  201.000000  201.000000  201.000000   \n",
       "mean    -0.049952    0.050142   -0.037164   -0.059773   -0.152989    0.020642   \n",
       "std      1.012072    1.031510    1.054108    1.066131    1.034911    0.951664   \n",
       "min     -2.962289   -3.578745   -3.525862   -3.256035   -3.057795   -2.508990   \n",
       "25%     -0.758178   -0.613346   -0.671460   -0.770224   -0.814725   -0.718211   \n",
       "50%     -0.017167    0.056940   -0.072442   -0.117450   -0.139586    0.042198   \n",
       "75%      0.722704    0.634834    0.613283    0.626326    0.477421    0.711970   \n",
       "max      2.784636    2.906151    2.966421    2.349848    2.538835    2.548259   \n",
       "\n",
       "               7           8           9           10  \n",
       "count  201.000000  201.000000  201.000000  201.000000  \n",
       "mean    -0.150328    0.046794   -0.021252    0.027638  \n",
       "std      1.098491    1.044672    1.050170    1.036017  \n",
       "min     -3.794416   -2.956842   -2.717882   -2.795267  \n",
       "25%     -0.844621   -0.656388   -0.727075   -0.782748  \n",
       "50%     -0.065967    0.106571   -0.060650    0.088164  \n",
       "75%      0.581881    0.772788    0.749814    0.741528  \n",
       "max      2.931770    2.809839    2.493315    2.940262  "
      ]
     },
     "execution_count": 17,
     "metadata": {},
     "output_type": "execute_result"
    }
   ],
   "source": [
    "df = df.drop(index='Decimal Number')\n",
    "df = df.astype(float)\n",
    "df.describe()"
   ]
  },
  {
   "cell_type": "code",
   "execution_count": null,
   "id": "30ee4df6-c6e6-4d80-95a2-cb84a9baa2b6",
   "metadata": {
    "tags": []
   },
   "outputs": [],
   "source": [
    "import matplotlib.pyplot as plt\n",
    "df.hist(bins=50, figsize=(10,15))\n",
    "plt.show()"
   ]
  },
  {
   "cell_type": "code",
   "execution_count": 89,
   "id": "4a78d757-3b51-4602-8455-ce0bca33bdbc",
   "metadata": {
    "tags": []
   },
   "outputs": [
    {
     "data": {
      "image/png": "[encoded data removed]",
      "text/plain": [
       "<Figure size 1200x1200 with 12 Axes>"
      ]
     },
     "metadata": {},
     "output_type": "display_data"
    }
   ],
   "source": [
    "# Créer la figure et les sous-graphiques\n",
    "fig, axes = plt.subplots(4, 3, figsize=(12, 12))\n",
    "\n",
    "# Boucle pour tracer les boîtes à moustaches de chaque colonne\n",
    "for i, column in enumerate(df.columns):\n",
    "    # Calcul des indices de la position du sous-graphique\n",
    "    row = i // 3\n",
    "    col = i % 3\n",
    "    \n",
    "    # Tracer la boîte à moustaches de la colonne sur le sous-graphique correspondant\n",
    "    axes[row, col].boxplot(df[column])\n",
    "    axes[row, col].set_xlabel(column)\n",
    "    axes[row, col].set_ylabel('Value')\n",
    "    axes[row, col].set_title('Boxplot of ' +str(column))\n",
    "\n",
    "# Ajuster l'espacement entre les sous-graphiques\n",
    "plt.tight_layout()\n",
    "\n",
    "# Afficher la figure\n",
    "plt.show()\n"
   ]
  }
 ],
 "metadata": {
  "kernelspec": {
   "display_name": "Python 3 (ipykernel)",
   "language": "python",
   "name": "python3"
  },
  "language_info": {
   "codemirror_mode": {
    "name": "ipython",
    "version": 3
   },
   "file_extension": ".py",
   "mimetype": "text/x-python",
   "name": "python",
   "nbconvert_exporter": "python",
   "pygments_lexer": "ipython3",
   "version": "3.11.3"
  }
 },
 "nbformat": 4,
 "nbformat_minor": 5
}
