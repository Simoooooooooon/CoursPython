{
 "cells": [
  {
   "cell_type": "markdown",
   "id": "f7fa82cf-b81d-490d-abcd-815a167afff6",
   "metadata": {},
   "source": [
    "***\n",
    "# **<center>Exercices#10</center>**\n",
    "# ***<center>Traitement d'images</center>***\n",
    "***"
   ]
  },
  {
   "attachments": {},
   "cell_type": "markdown",
   "id": "76c1b533-cc18-419d-ae64-ee4345798c03",
   "metadata": {},
   "source": [
    "<u>Exercice 0:</u> *Microscopie électronique.* \n",
    "\n",
    "La microscopie élèctronique en transmission permet l'observation de nanoparticules, ici, des nanospheres d'or. Une information importante est la distribution de taille de ces objets. On se propose, à partir de l'image fichiers_exercices_enonces/AL66b.tif de mettre en place un code qui detectera et mesurera automatiquement les dimensions des nanoparticules."
   ]
  },
  {
   "cell_type": "markdown",
   "id": "f2453995-d8bd-4558-870d-758e2cab4317",
   "metadata": {},
   "source": [
    "1- Ouvrir et afficher l'image fichiers_exercices_enonces/AL66b.tif avec opencv (img)  \n",
    "2- Afficher les dimensions de l'image  \n",
    "3- Convertir l'image en niveaux de gris  (img_gray)  \n",
    "4- Appliquer un filtre blur de kernel 5x5  (img_blur)  \n",
    "5- Seuiller l'image à 140 sur 255 (threshold)  \n",
    "6- Rechercher les contours sur l'image seuil et les afficher le contour d'indice zero sur l'image d'origine  \n",
    "7- Afficher l'ensemble des contours sur l'image d'origine\n",
    "8- Ajouter des rectangles contenant les contours pour faire des mesures ultérieurement   \n",
    "9- Ajouter à img les indices de chaque objet détèctés  avec la fonction cv2.putText  \n",
    "10- Afficher uniquement la zone de la barre d'echelle en selectionnant la plage de coordonnées de l'image. Relever les indices des caractères et de la barre d'échelle.  \n",
    "11- Déterminer le numéro d'indice de la barre d'echelle et extraire ses dimensions \n",
    "12- Utiliser la largeur extraite pour définir le ratio de conversion nm/pixel  \n",
    "13- A partir des valeur relevées à la question 10 et de l'indice du tour de l'image relevé à la question 6, créer manuellement une liste d'indices à supprimer.  \n",
    "14- creer une fonction \"filtrer_contours\" prenant en argument les contours et la liste des contours a supprimer retournant les contours selectionnés  \n",
    "15- Charger à nouveau l'image fichiers_exercices_enonces/AL66b.tif et en utilisant la fonction \"filtrer_contours\" tracer les contours et les box uniquement des nanoparticules.  \n",
    "16- On remarque que quand les particules sont collées, on detecte des clusters, on veut les supprimer, pour cela, on va les detecter par leur ratio de convexité. Mesurer le ratio entre la surface du contour calculé avec cv2.convexHull(cnt) et la surface du contour.\n",
    "Creer une liste des ratios de convexité et afficher l'histogramme.  \n",
    "17- Voit on des valeurs aberrantes? Si oui les supprimer par exemple avec une condition np.where et l'utilisation de la fonction filtrer_contours   \n",
    "18- Extraire pour l'ensemble des contours, les valeurs en nm de: \n",
    "- hauteurs\n",
    "- largeurs\n",
    "- convexites\n",
    "- x_positions\n",
    "- y_positions\n",
    "- surfaces\n",
    "- ratios_hauteur_largeur\n",
    "\n",
    "Stocker ces résultats dans un pandas dataframe  \n",
    "19- Afficher les histogrammes pour chaque grandeur  \n",
    "20- Faire un ajustement par une gaussienne les valeurs de hauteur et de largeur  \n",
    "21- Afficher une matrice de correlation"
   ]
  },
  {
   "cell_type": "markdown",
   "id": "51e89450-0eb3-4331-9725-7e69f63745ca",
   "metadata": {},
   "source": [
    "<u>Exercice 0:</u> *Microscopie électronique : Solutions* "
   ]
  },
  {
   "cell_type": "markdown",
   "id": "c093c4dc-50c5-4fbf-b5de-fb92e888a2f4",
   "metadata": {},
   "source": [
    "1- Ouvrir et afficher l'image fichiers_exercices_enonces/AL66b.tif avec opencv (img) 2- Afficher les dimensions de l'image"
   ]
  },
  {
   "cell_type": "code",
   "execution_count": 1,
   "id": "b2b114e2-95c3-466b-97d7-bb1bc82deb13",
   "metadata": {},
   "outputs": [],
   "source": [
    "import cv2"
   ]
  },
  {
   "cell_type": "code",
   "execution_count": 17,
   "id": "3ea2bbbe-a374-40e9-bf84-91696d829a87",
   "metadata": {},
   "outputs": [],
   "source": [
    "img = cv2.imread(\"fichiers_exercices_enonces/AL66b.tif\")\n",
    "\n",
    "cv2.imshow(\"Image Origine\", img)\n",
    "k = cv2.waitKey(0)"
   ]
  },
  {
   "cell_type": "markdown",
   "id": "a7da52a0-3377-4600-8021-00918f00e1d2",
   "metadata": {},
   "source": [
    "2- Afficher les dimensions de l'image  "
   ]
  },
  {
   "cell_type": "code",
   "execution_count": 3,
   "id": "50765f8e-a557-4cc5-b2ae-5f6636ac806f",
   "metadata": {},
   "outputs": [
    {
     "name": "stdout",
     "output_type": "stream",
     "text": [
      "Largeur de l'image: 900\n",
      "Hauteur de l'image: 600\n",
      "Nombre de canaux de couleur: 3\n"
     ]
    }
   ],
   "source": [
    "height, width, channels = img.shape\n",
    "\n",
    "\n",
    "print(\"Largeur de l'image:\", width)\n",
    "print(\"Hauteur de l'image:\", height)\n",
    "print(\"Nombre de canaux de couleur:\", channels)"
   ]
  },
  {
   "cell_type": "markdown",
   "id": "974e2d67-9a09-4c9f-9fee-8aa8beb5b2d3",
   "metadata": {},
   "source": [
    "3- Convertir l'image en niveaux de gris  (img_gray)"
   ]
  },
  {
   "cell_type": "code",
   "execution_count": 4,
   "id": "e74e258d-cdb7-4913-8fd3-de3593281931",
   "metadata": {},
   "outputs": [],
   "source": [
    "img_gray=cv2.cvtColor(img,cv2.COLOR_BGR2GRAY)  \n",
    "cv2.imshow(\"Image niveaux gris\", img_gray)\n",
    "k = cv2.waitKey(0)"
   ]
  },
  {
   "cell_type": "markdown",
   "id": "9907b23f-16d5-42d6-abad-5c6b5cb282e0",
   "metadata": {},
   "source": [
    "4- Appliquer un filtre blur de kernel 5x5  (img_blur) "
   ]
  },
  {
   "cell_type": "code",
   "execution_count": 5,
   "id": "4ec171ed-67e3-42a3-9350-75561308229d",
   "metadata": {},
   "outputs": [],
   "source": [
    "img_blur = cv2.blur(img_gray,(5,5))  \n",
    "cv2.imshow(\"Image niveaux gris\", img_blur)\n",
    "k = cv2.waitKey(0)"
   ]
  },
  {
   "cell_type": "markdown",
   "id": "8c248c2f-e6c5-42ec-a713-f4a520ba9fa2",
   "metadata": {},
   "source": [
    "5- Seuiller l'image à 140 sur 255 (threshold) "
   ]
  },
  {
   "cell_type": "code",
   "execution_count": 6,
   "id": "2b5ece74-f612-4861-9f83-ff05e42d7f28",
   "metadata": {},
   "outputs": [],
   "source": [
    "ret1,threshold=cv2.threshold(img_blur,140,255,cv2.THRESH_BINARY)  \n",
    "cv2.imshow(\"seuillage\",threshold)\n",
    "k = cv2.waitKey(0)"
   ]
  },
  {
   "cell_type": "markdown",
   "id": "90cea7c2-444e-46c8-80e9-261a5f5b0fb1",
   "metadata": {},
   "source": [
    "6- Rechercher les contours sur l'image seuil et les afficher le contour d'indice zero sur l'image d'origine"
   ]
  },
  {
   "cell_type": "code",
   "execution_count": 19,
   "id": "19b4f29b-d199-4513-9091-bf1e1b2df640",
   "metadata": {},
   "outputs": [],
   "source": [
    "contours, hierarchy = cv2.findContours(threshold, cv2.RETR_TREE, cv2.CHAIN_APPROX_SIMPLE)\n",
    "cv2.drawContours(img, [contours[0]], 0, (255, 0, 0), 2)\n",
    "# Afficher l'image avec le contour spécifique\n",
    "cv2.imshow(\"Contour 0\", img)\n",
    "cv2.waitKey(0)\n",
    "cv2.destroyAllWindows()"
   ]
  },
  {
   "cell_type": "markdown",
   "id": "e5731b0a-5e20-443f-ae48-1cc976657d1d",
   "metadata": {},
   "source": [
    "7- Afficher l'ensemble des contours sur l'image d'origine"
   ]
  },
  {
   "cell_type": "code",
   "execution_count": 20,
   "id": "5d61b7a0-32a4-4d59-95e9-cf0e88a38815",
   "metadata": {},
   "outputs": [],
   "source": [
    "contours, hierarchy = cv2.findContours(threshold, cv2.RETR_TREE, cv2.CHAIN_APPROX_SIMPLE)\n",
    "\n",
    "for cnt in contours:\n",
    "    cv2.drawContours(img, [cnt], 0, (255, 0, 0), 1)\n",
    "\n",
    "# Afficher l'image avec le contour spécifique\n",
    "cv2.imshow(\"Contours\", img)\n",
    "cv2.waitKey(0)\n",
    "cv2.destroyAllWindows()\n"
   ]
  },
  {
   "cell_type": "markdown",
   "id": "4f190701-c353-4209-a8fa-377835039d5e",
   "metadata": {},
   "source": [
    "8- Ajouter des rectangles contenant les contours pour faire des mesures ultérieurement"
   ]
  },
  {
   "cell_type": "code",
   "execution_count": null,
   "id": "b56df65f-eb7c-4fa8-979e-cb9d4e974af0",
   "metadata": {},
   "outputs": [],
   "source": [
    "import numpy as np\n",
    "for cnt in contours:\n",
    "    # Obtenir le rectangle englobant orienté\n",
    "    rect = cv2.minAreaRect(cnt)\n",
    "    box = cv2.boxPoints(rect)\n",
    "    box = np.round(box).astype(int)\n",
    "    cv2.drawContours(img, [box], 0, (0, 0, 255), 2)  # Dessiner le rectangle en rouge\n",
    "\n",
    "cv2.imshow(\"Image Box\", img)\n",
    "cv2.waitKey(0)\n",
    "cv2.destroyAllWindows()"
   ]
  },
  {
   "cell_type": "markdown",
   "id": "bbd73b51-c17e-4437-902a-e6545d5420bd",
   "metadata": {},
   "source": [
    "9- Ajouter à img les indices de chaque objet détèctés  avec la fonction cv2.putText  "
   ]
  },
  {
   "cell_type": "code",
   "execution_count": null,
   "id": "405efca1-43a3-41e9-92e0-c063ec33ccd3",
   "metadata": {},
   "outputs": [],
   "source": [
    "for i, contour in enumerate(contours):\n",
    "    x, y = contour[0][0] # determiner les coordonnées du premier point du contour\n",
    "    #  Afficher le numéro du contour\n",
    "    cv2.putText(img, str(i), (x, y), cv2.FONT_HERSHEY_SIMPLEX, 0.5, (0, 255, 0), 2)\n",
    "\n",
    "cv2.imshow(\"Numeros Contours\", img)\n",
    "cv2.waitKey(0)\n",
    "cv2.destroyAllWindows()\n"
   ]
  },
  {
   "cell_type": "markdown",
   "id": "d85a9289-eca2-4138-9aa7-42dcec6a6c9d",
   "metadata": {},
   "source": [
    "10- Afficher uniquement la zone de la barre d'echelle en selectionnant la plage de coordonnées de l'image. Relever les indices des caractères et de la barre d'échelle."
   ]
  },
  {
   "cell_type": "code",
   "execution_count": null,
   "id": "ba6a47e5-7b8a-46ce-8dbc-66649171f59a",
   "metadata": {},
   "outputs": [],
   "source": [
    "# Définir les coordonnées de la zone d'intérêt\n",
    "x_start, x_end = 0, 200\n",
    "y_start, y_end = 500, 600\n",
    "\n",
    "# Extraire la région d'intérêt (ROI)\n",
    "roi = img[y_start:y_end, x_start:x_end]\n",
    "\n",
    "cv2.namedWindow(\"Region of Interest\", cv2.WINDOW_NORMAL) # cv2.WINDOW_NORMAL pour fenetre étirable\n",
    "# Afficher la région d'intérêt\n",
    "cv2.imshow(\"Region of Interest\", roi)\n",
    "cv2.waitKey(0)\n",
    "cv2.destroyAllWindows()"
   ]
  },
  {
   "cell_type": "markdown",
   "id": "a78fc8f3-8abb-4b75-9394-fddf16e0fea5",
   "metadata": {},
   "source": [
    "11- Déterminer le numéro d'indice de la barre d'echelle et extraire ses dimensions "
   ]
  },
  {
   "cell_type": "code",
   "execution_count": null,
   "id": "7090cf15-261f-4080-ab57-898faeb79f29",
   "metadata": {},
   "outputs": [],
   "source": [
    "# Obtenir le rectangle englobant orienté\n",
    "rect = cv2.minAreaRect(contour)\n",
    "box = cv2.boxPoints(rect)\n",
    "box = np.round(box).astype(int)"
   ]
  },
  {
   "cell_type": "code",
   "execution_count": null,
   "id": "95ca9716-336e-4d4b-b77d-ac06a3abd4aa",
   "metadata": {},
   "outputs": [],
   "source": [
    "indice_echelle = 2\n",
    "contour_echelle = contours[indice_echelle]\n",
    "\n",
    "\n",
    "# Obtenir le rectangle englobant orienté\n",
    "rect = cv2.minAreaRect(contour_echelle)\n",
    "box = cv2.boxPoints(rect)\n",
    "box = np.round(box).astype(int)\n",
    "\n",
    "\n",
    " # Extraire les coordonnées, la largeur, la hauteur et l'angle du rectangle englobant\n",
    "center, size, angle = rect\n",
    "width, height = size\n",
    "\n",
    "# Afficher toutes les grandeurs extraites\n",
    "print(f\"Coordonnées du centre : {center}\")\n",
    "print(f\"largeur du rectangle englobant : {width:.2f} pixels\")\n",
    "print(f\"hauteur du rectangle englobant : {height:.2f} pixels\")\n",
    "print(f\"Angle du rectangle englobant : {angle:.2f} degrés\")\n",
    "\n",
    "\n"
   ]
  },
  {
   "cell_type": "markdown",
   "id": "1d0c1e22-a36e-4080-97fe-65c0a4be57b4",
   "metadata": {},
   "source": [
    "On vérifie bien que l'angle est à zero, donc horizontal, les coordonnées du centre semblent correspondre. "
   ]
  },
  {
   "cell_type": "markdown",
   "id": "8febc67d-862a-4e44-a2c1-86d5b06e6bda",
   "metadata": {},
   "source": [
    "12- Utiliser la largeur extraite pour définir le ratio de conversion nm/pixel"
   ]
  },
  {
   "cell_type": "code",
   "execution_count": 21,
   "id": "2753adcc-4b63-46cd-91dd-d1d4d55774d3",
   "metadata": {},
   "outputs": [],
   "source": [
    "ratio = 50/width # 50nm lu sur l'echelle"
   ]
  },
  {
   "cell_type": "markdown",
   "id": "e605d719-bc08-41fd-aa37-d027e5e6a9d8",
   "metadata": {},
   "source": [
    "13- A partir des valeur relevées à la question 9 et de l'indice du tour de l'image relevé à la question 8, créer manuellement une liste d'indices à supprimer."
   ]
  },
  {
   "cell_type": "code",
   "execution_count": null,
   "id": "44e73efd-427e-418a-a583-129dffdf151c",
   "metadata": {},
   "outputs": [],
   "source": [
    "indices_a_supprimer = [0, 2, 8, 9, 10, 5, 6]"
   ]
  },
  {
   "cell_type": "markdown",
   "id": "094d273a-4f4b-491f-88a2-d0e7b48df72e",
   "metadata": {},
   "source": [
    "14- creer une fonction \"filtrer_contours\" prenant en argument les contours et la liste des contours a supprimer retournant les contours selectionnés "
   ]
  },
  {
   "cell_type": "code",
   "execution_count": null,
   "id": "f9964070-ec24-4f36-8783-04acc4a1c5b5",
   "metadata": {},
   "outputs": [],
   "source": [
    "def filtrer_contours(indices_a_supprimer, contours):\n",
    "    # Créer une liste de contours filtrée en utilisant une liste de compréhension\n",
    "    contours_selection = [contour for i, contour in enumerate(contours) if i not in indices_a_supprimer]\n",
    "    return contours_selection"
   ]
  },
  {
   "cell_type": "markdown",
   "id": "0ca3dea0-8915-4ea0-a109-8ef87e803ea0",
   "metadata": {},
   "source": [
    "15- Charger à nouveau l'image fichiers_exercices_enonces/AL66b.tif et en utilisant la fonction \"filtrer_contours\" tracer les contours et les box uniquement des nanoparticules. "
   ]
  },
  {
   "cell_type": "code",
   "execution_count": null,
   "id": "28f3337d-a039-4f5f-b64b-62ae9b273135",
   "metadata": {},
   "outputs": [],
   "source": [
    "img = cv2.imread(\"fichiers_exercices_enonces/AL66b.tif\")"
   ]
  },
  {
   "cell_type": "code",
   "execution_count": null,
   "id": "19dddfcd-862c-4783-a2ca-6f659d9667ec",
   "metadata": {},
   "outputs": [],
   "source": [
    "indices_a_supprimer = [0, 2, 8, 9, 10, 5, 6]\n",
    "contours_selectionnes = filtrer_contours(indices_a_supprimer, contours)\n",
    "# Afficher l'image avec les contours d'indices spécifiés\n",
    "\n",
    "for cnt in contours_selectionnes:\n",
    "    cv2.drawContours(img, [cnt], 0, (255, 0, 0), 1)\n",
    "    \n",
    "    # Obtenir le rectangle englobant orienté\n",
    "    rect = cv2.minAreaRect(cnt)\n",
    "    box = cv2.boxPoints(rect)\n",
    "    box = np.round(box).astype(int)\n",
    "\n",
    "    # Extraire les coordonnées, la largeur, la hauteur et l'angle du rectangle englobant\n",
    "    center, size, angle = rect\n",
    "    width, height = size\n",
    "\n",
    "    # Dessiner le rectangle englobant orienté sur l'image\n",
    "    cv2.drawContours(img, [box], 0, (0, 0, 255), 2)  # Dessiner le rectangle en rouge\n",
    "\n",
    "cv2.imshow(\"Contours with Oriented Boxes\", img)\n",
    "cv2.waitKey(0)\n",
    "cv2.destroyAllWindows()"
   ]
  },
  {
   "cell_type": "markdown",
   "id": "4709863c-edd5-4390-89cd-df4bf94503e5",
   "metadata": {},
   "source": [
    "16- On remarque que quand les particules sont collées, on detecte des clusters, on veut les supprimer, pour cela, on va les detecter par leur ratio de convexité. Mesurer le ratio entre la surface du contour calculé avec cv2.convexHull(cnt) et la surface du contour.\n",
    "Creer une liste des ratios de convexité et afficher l'histogramme."
   ]
  },
  {
   "cell_type": "code",
   "execution_count": null,
   "id": "52a03765-e72f-4324-ba24-7faf60640c67",
   "metadata": {},
   "outputs": [],
   "source": [
    "import matplotlib.pyplot as plt\n",
    "convexity_ratios = []\n",
    "for cnt in contours_selectionnes:\n",
    "    # Calculer le polygone convexe\n",
    "    hull = cv2.convexHull(cnt)\n",
    "\n",
    "    # Calculer la surface du polygone convexe et la surface du contour d'origine\n",
    "    area_hull = cv2.contourArea(hull)\n",
    "    area_contour = cv2.contourArea(cnt)\n",
    "    # Calculer le rapport de convexité\n",
    "    convexity_ratio = area_contour / area_hull\n",
    "        # Ajouter le rapport de convexité à la liste\n",
    "    convexity_ratios.append(convexity_ratio)\n",
    "    \n",
    "\n",
    "# Tracer l'histogramme\n",
    "plt.hist(convexity_ratios, bins=50, color='blue', edgecolor='black')\n",
    "plt.title('Histogramme des Rapports de Convexité')\n",
    "plt.xlabel('Rapport de Convexité')\n",
    "plt.ylabel('Nombre de Contours')\n",
    "plt.show()\n",
    "\n",
    "\n"
   ]
  },
  {
   "cell_type": "markdown",
   "id": "87d5aba0-84ac-4198-8287-1dd2b2cb9b50",
   "metadata": {},
   "source": [
    "17- Voit on des valeurs aberrantes? Si oui les supprimer par exemple avec une condition np.where et l'utilisation de la fonction filtrer_contours"
   ]
  },
  {
   "cell_type": "code",
   "execution_count": null,
   "id": "5af3ffd6-c4cf-4f12-94a1-baeb451347e6",
   "metadata": {},
   "outputs": [],
   "source": [
    "seuil_convexite = 0.92\n",
    "# Utiliser np.where pour obtenir les indices inférieurs au seuil\n",
    "indices_sous_seuil = np.where(np.array(convexity_ratios) < seuil_convexite)[0]\n",
    "\n",
    "# Afficher les indices inférieurs à 0.92\n",
    "print(\"Indices inférieurs à 0.92 :\", indices_sous_seuil)"
   ]
  },
  {
   "cell_type": "code",
   "execution_count": null,
   "id": "d9b9f5b9-f0a4-45d6-beb7-4c883f03cc76",
   "metadata": {},
   "outputs": [],
   "source": [
    "contours_selectionnes = filtrer_contours(indices_sous_seuil,contours_selectionnes)"
   ]
  },
  {
   "cell_type": "code",
   "execution_count": null,
   "id": "137ce10a-d078-4c9f-829d-c38395701d6d",
   "metadata": {},
   "outputs": [],
   "source": [
    "convexity_ratios = []\n",
    "for cnt in contours_selectionnes:\n",
    "    # Calculer le polygone convexe\n",
    "    hull = cv2.convexHull(cnt)\n",
    "\n",
    "    # Calculer la surface du polygone convexe et la surface du contour d'origine\n",
    "    area_hull = cv2.contourArea(hull)\n",
    "    area_contour = cv2.contourArea(cnt)\n",
    "    # Calculer le rapport de convexité\n",
    "    convexity_ratio = area_contour / area_hull\n",
    "        # Ajouter le rapport de convexité à la liste\n",
    "    convexity_ratios.append(convexity_ratio)\n",
    "    \n",
    "\n",
    "# Tracer l'histogramme\n",
    "plt.hist(convexity_ratios, bins=50, color='blue', edgecolor='black')\n",
    "plt.title('Histogramme des Rapports de Convexité')\n",
    "plt.xlabel('Rapport de Convexité')\n",
    "plt.ylabel('Nombre de Contours')\n",
    "plt.show()\n"
   ]
  },
  {
   "cell_type": "markdown",
   "id": "4e91650e-8c4f-4083-b421-c589b722c771",
   "metadata": {},
   "source": [
    "verifier visuellement que les clusters ont été supprimés"
   ]
  },
  {
   "cell_type": "code",
   "execution_count": null,
   "id": "fffab1cf-bcc7-48ac-91fb-72efacc7d3fb",
   "metadata": {},
   "outputs": [],
   "source": [
    "img = cv2.imread(\"fichiers_exercices_enonces/AL66b.tif\")\n",
    "for cnt in contours_selectionnes:\n",
    "    cv2.drawContours(img, [cnt], 0, (255, 0, 0), 1)\n",
    "    \n",
    "    # Obtenir le rectangle englobant orienté\n",
    "    rect = cv2.minAreaRect(cnt)\n",
    "    # rect = cv2.fitEllipse(cnt)\n",
    "    box = cv2.boxPoints(rect)\n",
    "    box = np.round(box).astype(int)\n",
    "\n",
    "    # Extraire les coordonnées, la largeur, la hauteur et l'angle du rectangle englobant\n",
    "    center, size, angle = rect\n",
    "    width, height = size\n",
    "\n",
    "    # Dessiner le rectangle englobant orienté sur l'image\n",
    "    cv2.drawContours(img, [box], 0, (0, 0, 255), 2)  # Dessiner le rectangle en rouge\n",
    "\n",
    "cv2.imshow(\"Contours with Oriented Boxes\", img)\n",
    "cv2.waitKey(0)\n",
    "cv2.destroyAllWindows()"
   ]
  },
  {
   "cell_type": "markdown",
   "id": "7713c935-d82d-4cb0-9d4c-d8851fa7686f",
   "metadata": {},
   "source": [
    "18- Extraire pour l'ensemble des contours, les valeurs en nm de: \n",
    "- hauteurs\n",
    "- largeurs\n",
    "- convexites\n",
    "- x_positions\n",
    "- y_positions\n",
    "- surfaces\n",
    "- ratios_hauteur_largeur\n",
    "\n",
    "Stocker ces résultats dans un pandas dataframe"
   ]
  },
  {
   "cell_type": "code",
   "execution_count": null,
   "id": "ac9bdd3f-05ae-496f-9288-b5785f7c6a19",
   "metadata": {},
   "outputs": [],
   "source": [
    "\n",
    "# Créer des listes vides pour chaque grandeur\n",
    "hauteurs = []\n",
    "largeurs = []\n",
    "convexites = []\n",
    "x_positions = []\n",
    "y_positions = []\n",
    "surfaces = []\n",
    "perimetres = []\n",
    "ratios_hauteur_largeur = []\n",
    "\n",
    "# Parcourir les contours sélectionnés\n",
    "for cnt in contours_selectionnes:\n",
    "    # Calculer les grandeurs pour chaque contour\n",
    "    rect = cv2.minAreaRect(cnt)\n",
    "    box = cv2.boxPoints(rect)\n",
    "    box = np.round(box).astype(int)\n",
    "    center, size, angle = rect\n",
    "    width, height = size\n",
    "\n",
    "    # Mise à l'échelle des résultats\n",
    "    width_scaled = width * ratio\n",
    "    height_scaled = height * ratio\n",
    "\n",
    "    # Calculer la surface\n",
    "    surface = cv2.contourArea(cnt) * ratio * ratio\n",
    "\n",
    "    #calcul du perimetre\n",
    "    # Calculer le périmètre du contour\n",
    "    perimetre = cv2.arcLength(cnt, closed=True)\n",
    "    perimetre_scaled = perimetre*ratio\n",
    "\n",
    "    # Calculer le convex hull\n",
    "    hull = cv2.convexHull(cnt)\n",
    "\n",
    "    # Calculer la convexité en utilisant le ratio de la surface du contour sur la surface du convex hull\n",
    "    convexity_ratio = surface / (cv2.contourArea(hull) * ratio * ratio)\n",
    "\n",
    "    # Calculer le ratio hauteur/largeur\n",
    "    ratio_hauteur_largeur = height_scaled / width_scaled\n",
    "\n",
    "    # Ajouter les résultats aux listes\n",
    "    hauteurs.append(height_scaled)\n",
    "    largeurs.append(width_scaled)\n",
    "    convexites.append(convexity_ratio)\n",
    "    x_positions.append(center[0] * ratio)\n",
    "    y_positions.append(center[1] * ratio)\n",
    "    surfaces.append(surface)\n",
    "    perimetres.append(perimetre_scaled)\n",
    "    ratios_hauteur_largeur.append(ratio_hauteur_largeur)"
   ]
  },
  {
   "cell_type": "code",
   "execution_count": null,
   "id": "bc2d5858-1316-40b0-ab8c-605599e3c635",
   "metadata": {},
   "outputs": [],
   "source": [
    "import pandas as pd\n",
    "# Créer un DataFrame Pandas avec les résultats\n",
    "data = {\n",
    "    'Hauteur (nm)': hauteurs,\n",
    "    'Largeur (nm)': largeurs,\n",
    "    'Ratio Hauteur/Largeur' : ratios_hauteur_largeur,\n",
    "    'Convexité': convexites,\n",
    "    'X Position (nm)': x_positions,\n",
    "    'Y Position (nm)': y_positions,\n",
    "    'Surface (nm²)': surfaces,\n",
    "    'Perimetre (nm)': perimetres\n",
    "}\n",
    "\n",
    "df = pd.DataFrame(data)\n",
    "df.head()"
   ]
  },
  {
   "cell_type": "markdown",
   "id": "0e06836d-5bfc-47c2-96e8-058feded20be",
   "metadata": {},
   "source": [
    "19- Afficher les histogrammes pour chaque grandeur"
   ]
  },
  {
   "cell_type": "code",
   "execution_count": null,
   "id": "810119ec-8c36-4f13-9ca7-3970fccda5b5",
   "metadata": {},
   "outputs": [],
   "source": [
    "df.hist(bins=20, figsize=(12,8), layout=(2, 4)) # bins représente le nombre de barres de l'histogramme\n",
    "plt.show()"
   ]
  },
  {
   "cell_type": "markdown",
   "id": "90d34217-6f91-4a8b-a607-4685464adff7",
   "metadata": {},
   "source": [
    "20- Faire un ajustement par une gaussienne les valeurs de hauteur et de largeur"
   ]
  },
  {
   "cell_type": "code",
   "execution_count": null,
   "id": "d0e73ed0-844b-4baa-85a2-45c26c5ba511",
   "metadata": {},
   "outputs": [],
   "source": [
    "import matplotlib.pyplot as plt\n",
    "from scipy.stats import norm\n",
    "import numpy as np\n",
    "\n",
    "# Nombre de bacs pour l'histogramme\n",
    "bins = 20\n",
    "\n",
    "# Créer une figure avec des sous-graphiques\n",
    "fig, axes = plt.subplots(1, 2, figsize=(12, 6))\n",
    "\n",
    "# Histogramme pour la hauteur\n",
    "hist_height, bin_edges_height, _ = axes[0].hist(df['Hauteur (nm)'], bins=bins, color='blue', edgecolor='black', density=True)\n",
    "axes[0].set_title('Hauteur (nm)')\n",
    "\n",
    "# Ajuster une gaussienne aux données de hauteur\n",
    "mu_height, std_height = norm.fit(df['Hauteur (nm)'])\n",
    "xmin_height, xmax_height = axes[0].get_xlim()\n",
    "x_height = np.linspace(xmin_height, xmax_height, 100)\n",
    "p_height = norm.pdf(x_height, mu_height, std_height)\n",
    "axes[0].plot(x_height, p_height, 'k', linewidth=2)\n",
    "title_height = \"Ajustement gaussien :\\n mu = %.2f,  std = %.2f\" % (mu_height, std_height)\n",
    "axes[0].set_title(title_height)\n",
    "\n",
    "# Histogramme pour la largeur\n",
    "hist_width, bin_edges_width, _ = axes[1].hist(df['Largeur (nm)'], bins=bins, color='green', edgecolor='black', density=True)\n",
    "axes[1].set_title('Largeur (nm)')\n",
    "\n",
    "# Ajuster une gaussienne aux données de largeur\n",
    "mu_width, std_width = norm.fit(df['Largeur (nm)'])\n",
    "xmin_width, xmax_width = axes[1].get_xlim()\n",
    "x_width = np.linspace(xmin_width, xmax_width, 100)\n",
    "p_width = norm.pdf(x_width, mu_width, std_width)\n",
    "axes[1].plot(x_width, p_width, 'k', linewidth=2)\n",
    "title_width = \"Ajustement gaussien :\\n mu = %.2f,  std = %.2f\" % (mu_width, std_width)\n",
    "axes[1].set_title(title_width)\n",
    "\n",
    "# Afficher la figure\n",
    "plt.show()\n"
   ]
  },
  {
   "cell_type": "markdown",
   "id": "3b9c1e10-7541-4672-ac0d-bc74df29949a",
   "metadata": {},
   "source": [
    "21- Afficher une matrice de correlation"
   ]
  },
  {
   "cell_type": "code",
   "execution_count": null,
   "id": "fa01d372-b879-47db-ad7f-2c434ceba0c3",
   "metadata": {},
   "outputs": [],
   "source": [
    "import seaborn as sns\n",
    "# Calculer la matrice de corrélation\n",
    "correlation_matrix = df.corr()\n",
    "\n",
    "# Afficher une heatmap de la matrice de corrélation\n",
    "plt.figure(figsize=(10, 8))\n",
    "sns.heatmap(correlation_matrix, annot=True, cmap='coolwarm', fmt=\".2f\", linewidths=0.5)\n",
    "plt.title('Matrice de Corrélation')\n",
    "plt.show()"
   ]
  },
  {
   "cell_type": "code",
   "execution_count": null,
   "id": "6425de9e-3f28-42ff-93ea-807086b229ea",
   "metadata": {},
   "outputs": [],
   "source": []
  }
 ],
 "metadata": {
  "kernelspec": {
   "display_name": "Python 3 (ipykernel)",
   "language": "python",
   "name": "python3"
  },
  "language_info": {
   "codemirror_mode": {
    "name": "ipython",
    "version": 3
   },
   "file_extension": ".py",
   "mimetype": "text/x-python",
   "name": "python",
   "nbconvert_exporter": "python",
   "pygments_lexer": "ipython3",
   "version": "3.11.7"
  }
 },
 "nbformat": 4,
 "nbformat_minor": 5
}
