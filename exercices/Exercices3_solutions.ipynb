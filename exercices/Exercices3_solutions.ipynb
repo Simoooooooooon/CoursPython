{
 "cells": [
  {
   "cell_type": "markdown",
   "id": "8a432438-9c65-46a9-ac7e-943daeb6fac2",
   "metadata": {
    "tags": []
   },
   "source": [
    "***\n",
    "# **<center>Exercices#3</center>**\n",
    "# ***<center>Fonctions</center>***\n",
    "# ***<center>Aperçu sur les Classes</center>***\n",
    "***"
   ]
  },
  {
   "cell_type": "markdown",
   "id": "8e9e6ddd-18b2-463e-bcda-0853cdf69354",
   "metadata": {},
   "source": [
    "## 1- Exercices Fonctions"
   ]
  },
  {
   "cell_type": "markdown",
   "id": "9d77269c-cfd5-423d-96db-599eb9ff70f2",
   "metadata": {},
   "source": [
    "<u>Exercice 0:</u> *Calcul de moyenne.*  \n",
    "Déclarer une fonction qui permet de calculer une moyenne à partir d'une liste de notes.  \n",
    "Utiliser cette fonction pour calculer les moyennes des élèves suivants: \n",
    "\n",
    "| Prénom  | Notes         |\n",
    "|---------|---------------|\n",
    "| Alice   | 15, 18, 14    |\n",
    "| Bob     | 12, 16, 17, 13|\n",
    "| Charlie | 20, 19        |"
   ]
  },
  {
   "cell_type": "code",
   "execution_count": 1,
   "id": "96dd3bd6-c6f2-41ec-a26e-d559da8147fc",
   "metadata": {
    "tags": []
   },
   "outputs": [],
   "source": [
    "def calcul_moyenne(liste_notes):\n",
    "    somme = sum(liste_notes)\n",
    "    moyenne = somme / len(liste_notes)\n",
    "    return moyenne"
   ]
  },
  {
   "cell_type": "code",
   "execution_count": 2,
   "id": "a5c925ca-3741-488c-98db-5029c14fb401",
   "metadata": {
    "tags": []
   },
   "outputs": [
    {
     "name": "stdout",
     "output_type": "stream",
     "text": [
      "Moyenne de Alice : 15.67\n",
      "Moyenne de Bob : 14.50\n",
      "Moyenne de Charlie : 19.50\n"
     ]
    }
   ],
   "source": [
    "# Données des élèves\n",
    "eleve1_nom = \"Alice\"\n",
    "eleve1_notes = [15, 18, 14]\n",
    "eleve2_nom = \"Bob\"\n",
    "eleve2_notes = [12, 16, 17, 13]\n",
    "eleve3_nom = \"Charlie\"\n",
    "eleve3_notes = [20, 19]\n",
    "\n",
    "# Calcul des moyennes des élèves\n",
    "moyenne_eleve1 = calcul_moyenne(eleve1_notes)\n",
    "moyenne_eleve2 = calcul_moyenne(eleve2_notes)\n",
    "moyenne_eleve3 = calcul_moyenne(eleve3_notes)\n",
    "\n",
    "# Affichage des moyennes des élèves\n",
    "print(\"Moyenne de %s : %.2f\" % (eleve1_nom, moyenne_eleve1))\n",
    "print(\"Moyenne de %s : %.2f\" % (eleve2_nom, moyenne_eleve2))\n",
    "print(\"Moyenne de %s : %.2f\" % (eleve3_nom, moyenne_eleve3))\n"
   ]
  },
  {
   "cell_type": "markdown",
   "id": "bd8b2dae-eb25-4e56-9f3b-0175daccfebd",
   "metadata": {},
   "source": [
    "<u>Exercice 1:</u> *Calcul de moyenne.*  \n",
    "Déclarer une fonction qui calcule une moyenne à partir d'une liste de notes qui seront entrées en argument de la fonction et dont le nombre peut varier.\n",
    "Ecrire une documentation pour la fonction"
   ]
  },
  {
   "cell_type": "code",
   "execution_count": 3,
   "id": "8077320e-ef4a-443b-bb0e-565391fd8ec0",
   "metadata": {
    "tags": []
   },
   "outputs": [],
   "source": [
    "def calcul_moyenne(*args):\n",
    "    '''Cette Fonction Calcule la moyenne à partir d'un nombre variable de notes'''\n",
    "    somme = sum(args)\n",
    "    moyenne = somme / len(args)\n",
    "    return moyenne"
   ]
  },
  {
   "cell_type": "code",
   "execution_count": 4,
   "id": "64d1bccb-dbee-43ad-bb19-7d0b194d4160",
   "metadata": {
    "tags": []
   },
   "outputs": [
    {
     "name": "stdout",
     "output_type": "stream",
     "text": [
      "La moyenne est : 12.17 \n"
     ]
    }
   ],
   "source": [
    "# Test de la fonction\n",
    "resultat = calcul_moyenne(12, 16, 8, 10, 12, 15)\n",
    "print(\"La moyenne est : %.2f \" %(resultat))"
   ]
  },
  {
   "cell_type": "code",
   "execution_count": 5,
   "id": "017dabd0-1725-4a84-a8da-1a820fbecea1",
   "metadata": {
    "tags": []
   },
   "outputs": [
    {
     "name": "stdout",
     "output_type": "stream",
     "text": [
      "Help on function calcul_moyenne in module __main__:\n",
      "\n",
      "calcul_moyenne(*args)\n",
      "    Cette Fonction Calcule la moyenne à partir d'un nombre variable de notes\n",
      "\n"
     ]
    }
   ],
   "source": [
    "help(calcul_moyenne)"
   ]
  },
  {
   "cell_type": "markdown",
   "id": "97fdee26-f7c7-4964-985a-652b9a86a08c",
   "metadata": {},
   "source": [
    "<u>Exercice 2:</u> *Calcul de moyenne.* \n",
    "Déclarez une fonction nommée calcul_moyenne_etudiants qui accepte un nombre variable d'arguments sous forme de paires clé-valeur avec\n",
    "-  clé : nom de l'étudiant (une chaîne) \n",
    "-  valeur : une liste de notes (une liste de nombres à virgule flottante).\n",
    "\n",
    "La fonction doit calculer la moyenne pour chaque étudiant en utilisant leurs notes respectives et stocker les moyennes dans un dictionnaire où la clé est le nom de l'étudiant et la valeur est la moyenne calculée.\n",
    "\n",
    "Ensuite, la fonction doit renvoyer ce dictionnaire de moyennes."
   ]
  },
  {
   "cell_type": "code",
   "execution_count": 6,
   "id": "548c4616-3798-434a-b817-5cb6d5edceb5",
   "metadata": {
    "tags": []
   },
   "outputs": [
    {
     "name": "stdout",
     "output_type": "stream",
     "text": [
      "Alice : 15.667\n",
      "Bob : 14.500\n",
      "Charlie : 19.500\n",
      "Jimmy : 12.333\n"
     ]
    }
   ],
   "source": [
    "def calcul_moyenne_etudiants(**kwargs):\n",
    "    \"\"\"\n",
    "    Calcule la moyenne des notes pour chaque étudiant à partir d'un dictionnaire de notes.\n",
    "\n",
    "    Args:\n",
    "        **kwargs: Un nombre variable d'arguments nommés, où la clé est le nom de l'étudiant\n",
    "                  (une chaîne) et la valeur est une liste de notes (une liste de nombres à virgule flottante).\n",
    "\n",
    "    Returns:\n",
    "        dict: Un dictionnaire où la clé est le nom de l'étudiant et la valeur est la moyenne calculée.\n",
    "    \"\"\"\n",
    "    moyennes = {}  # Initialise un dictionnaire pour stocker les moyennes\n",
    "    \n",
    "    #parcourir tous les étudiants (clés) et leurs listes de notes (valeurs) dans le dictionnaire kwargs \n",
    "    \n",
    "    for nom, notes in kwargs.items():\n",
    "        # Calcule la moyenne pour chaque étudiant\n",
    "        somme = sum(notes)\n",
    "        moyenne = somme / len(notes)\n",
    "        moyennes[nom] = moyenne  # Stocke la moyenne dans le dictionnaire\n",
    "\n",
    "    return moyennes\n",
    "\n",
    "# Données des étudiants\n",
    "resultats = calcul_moyenne_etudiants(Alice=[15, 18, 14], Bob=[12, 16, 17, 13], Charlie=[20, 19], Jimmy = [15,14,8])\n",
    "\n",
    "\n",
    "# Parcours de chaque paire clé-valeur (nom, moyenne) dans le dictionnaire resultats.\n",
    "for nom, moyenne in resultats.items():\n",
    "    print(f\"{nom} : {moyenne:.3f}\")\n"
   ]
  },
  {
   "cell_type": "markdown",
   "id": "b7fdb1f4-0c09-41a7-bf3d-adbce2f54468",
   "metadata": {
    "tags": []
   },
   "source": [
    "<u>Exercice 3:</u> *Variables.*   \n",
    "Que va afficher le code suivant? Pourquoi?"
   ]
  },
  {
   "cell_type": "markdown",
   "id": "9705038e-fdc7-4f02-a15e-dd5c82e673d9",
   "metadata": {
    "tags": []
   },
   "source": [
    "<pre>\n",
    "a = 4\n",
    "b = 2\n",
    "\n",
    "def afficher_variables():\n",
    "    b = 5\n",
    "    print(a)\n",
    "    print(b)\n",
    "\n",
    "afficher_variables()\n",
    "print(b)\n",
    "</pre>"
   ]
  },
  {
   "cell_type": "code",
   "execution_count": 7,
   "id": "c29ebcfe-adcb-47d9-aa92-c216dcc3ce11",
   "metadata": {
    "tags": []
   },
   "outputs": [
    {
     "name": "stdout",
     "output_type": "stream",
     "text": [
      "4\n",
      "5\n",
      "2\n"
     ]
    },
    {
     "ename": "NameError",
     "evalue": "name 'c' is not defined",
     "output_type": "error",
     "traceback": [
      "\u001b[1;31m---------------------------------------------------------------------------\u001b[0m",
      "\u001b[1;31mNameError\u001b[0m                                 Traceback (most recent call last)",
      "Cell \u001b[1;32mIn[7], line 13\u001b[0m\n\u001b[0;32m     11\u001b[0m afficher_variables()\n\u001b[0;32m     12\u001b[0m \u001b[38;5;28mprint\u001b[39m(b)\n\u001b[1;32m---> 13\u001b[0m \u001b[38;5;28mprint\u001b[39m(\u001b[43mc\u001b[49m)\n",
      "\u001b[1;31mNameError\u001b[0m: name 'c' is not defined"
     ]
    }
   ],
   "source": [
    "\n",
    "a = 4 # variable globale\n",
    "b = 2 # variable globale\n",
    "\n",
    "def afficher_variables():\n",
    "    b = 5 # variable globale modifiée par la fonction\n",
    "    c = 12 # variable locale\n",
    "    print(a)\n",
    "    print(b)\n",
    "    \n",
    "\n",
    "afficher_variables()\n",
    "print(b)\n",
    "print(c)"
   ]
  },
  {
   "cell_type": "markdown",
   "id": "5a9a4aaa-5016-410c-886f-e6babab8d608",
   "metadata": {},
   "source": [
    "- Le premier print:  print(a) vient de afficher_variables() la fonction n'a pas modifié la variable, elle ne fait que l'afficher.\n",
    "- Le deuxième print: print(b) vient aussi de afficher_variables() la fonction a ici modifié la variable, elle affiche donc la valeur qui lui a été affectée dans la fonction. \n",
    "- Le troisième print: print(b) à nouveau mais cette fois on est hors de la fonction. La valeur 5 qui avait été affectés dans la fonction a été \"effacée\" quand on est sorti de la fonction\n",
    "- Le quatrième print: print(c) renvoit une erreur car en dehors de la fonction, c n'existe pas"
   ]
  },
  {
   "cell_type": "markdown",
   "id": "c7be7069-9a52-4692-a231-665355cf35ce",
   "metadata": {},
   "source": [
    "<u>Exercice 4:</u> *Variables.*   \n",
    "Dans l'exercice précedent, modifier le code pour ne plus avoir d'erreur."
   ]
  },
  {
   "cell_type": "code",
   "execution_count": 8,
   "id": "3d87917d-6483-4bdd-a0ac-732fadce6f1a",
   "metadata": {
    "tags": []
   },
   "outputs": [
    {
     "name": "stdout",
     "output_type": "stream",
     "text": [
      "4\n",
      "5\n",
      "2\n",
      "12\n"
     ]
    }
   ],
   "source": [
    "a = 4\n",
    "b = 2\n",
    "\n",
    "def afficher_variables():\n",
    "    b = 5\n",
    "    c = 12\n",
    "    print(a)\n",
    "    print(b)\n",
    "    return c #retourner la valeur c\n",
    "    \n",
    "\n",
    "c = afficher_variables() # affecter la valeur retournée par la fonction à c\n",
    "print(b)\n",
    "print(c)"
   ]
  },
  {
   "cell_type": "markdown",
   "id": "3d28b62c-d53e-45bc-8a31-d1998b054d41",
   "metadata": {},
   "source": [
    "<u>Exercice 5:</u> *import.*   \n",
    "Dans un fichier que vous nommerez mesure.py , creer une fonction qui calcule:\n",
    "- La vitesse à partir d'une distance et d'un temps\n",
    "- L'énérgie cinétique à partir de la vitesse et la masse\n"
   ]
  },
  {
   "cell_type": "code",
   "execution_count": 11,
   "id": "82d9edad-e6b6-47d0-b7ba-eee9c085e0d3",
   "metadata": {
    "tags": []
   },
   "outputs": [],
   "source": [
    "#Contenu du fichier mesure.py\n",
    "def vitesse(distance, temps):\n",
    "    \"\"\"\n",
    "    Calcule la vitesse d'un objet en utilisant la formule v = distance / temps.\n",
    "\n",
    "    Arguments:\n",
    "        distance (float): La distance parcourue par l'objet en mètres.\n",
    "        temps (float): Le temps écoulé pour parcourir la distance en secondes.\n",
    "\n",
    "    Returns:\n",
    "        float: La vitesse de l'objet en mètres par seconde.\n",
    "    \"\"\"\n",
    "    v = distance / temps\n",
    "    return v\n",
    "\n",
    "def energie_cinetique(masse, vitesse):\n",
    "    \"\"\"\n",
    "    Calcule l'énergie cinétique d'un objet en utilisant la formule E = (1/2) * masse * vitesse^2.\n",
    "\n",
    "    Args:\n",
    "        masse (float): La masse de l'objet en kilogrammes.\n",
    "        vitesse (float): La vitesse de l'objet en mètres par seconde.\n",
    "\n",
    "    Returns:\n",
    "        float: L'énergie cinétique de l'objet en joules.\n",
    "    \"\"\"\n",
    "    ec = (1/2) * masse * vitesse**2\n",
    "    return ec"
   ]
  },
  {
   "cell_type": "code",
   "execution_count": 12,
   "id": "1a2074aa-33ee-4957-a165-e427b533dadf",
   "metadata": {
    "tags": []
   },
   "outputs": [
    {
     "name": "stdout",
     "output_type": "stream",
     "text": [
      "133.33 km/h\n",
      "Energie cinétique = 823.05  Joules\n"
     ]
    }
   ],
   "source": [
    "import mesure\n",
    "\n",
    "nombre_km = 200\n",
    "temps = 1.5\n",
    "masse = 1200\n",
    "\n",
    "vitesse_kmh = mesure.vitesse(nombre_km,temps)\n",
    "print('%.2f' %vitesse_kmh,'km/h')\n",
    "vitesse_ms = vitesse_kmh * 1000/3600 #conversion km/h en m/s\n",
    "ec = mesure.energie_cinetique(masse,vitesse_ms)\n",
    "ec = ec/1000 #conversion Joules/kJoules\n",
    "print('Energie cinétique = %.2f'%ec,' Joules')\n"
   ]
  },
  {
   "cell_type": "markdown",
   "id": "71aa6d9b-e058-4ac0-a679-7c9ed0af8ab2",
   "metadata": {},
   "source": [
    "Calculer l'energie cinetique:\n",
    "- d'une fiat 500 de 980kg à 80km/h\n",
    "- d'une Audi E-TRON de 2555kg à 50km/h"
   ]
  },
  {
   "cell_type": "code",
   "execution_count": 13,
   "id": "d0c9b73d-b996-445f-bde0-1b4caded8f2f",
   "metadata": {
    "tags": []
   },
   "outputs": [
    {
     "name": "stdout",
     "output_type": "stream",
     "text": [
      "80.0 km/h\n",
      "Energie cinétique Fiat = 241.98 Joules\n"
     ]
    }
   ],
   "source": [
    "# Fiat\n",
    "nombre_km = 80\n",
    "temps = 1\n",
    "masse = 980\n",
    "\n",
    "vitesse_kmh = mesure.vitesse(nombre_km,temps)\n",
    "print(vitesse_kmh,'km/h')\n",
    "vitesse_ms = vitesse_kmh * 1000/3600 #conversion km/h en m/s\n",
    "ec = mesure.energie_cinetique(masse,vitesse_ms)\n",
    "ec = ec/1000 #conversion Joules/kJoules\n",
    "print('Energie cinétique Fiat = {:.2f} Joules'.format(ec))"
   ]
  },
  {
   "cell_type": "code",
   "execution_count": 14,
   "id": "dede0e88-768a-4449-ae60-a11dfc1e0cbb",
   "metadata": {
    "tags": []
   },
   "outputs": [
    {
     "name": "stdout",
     "output_type": "stream",
     "text": [
      "50.0 km/h\n",
      "Energie cinétique Fiat = 246.43 Joules\n"
     ]
    }
   ],
   "source": [
    "# Audi\n",
    "nombre_km = 50\n",
    "temps = 1\n",
    "masse = 2555\n",
    "\n",
    "vitesse_kmh = mesure.vitesse(nombre_km,temps)\n",
    "print(vitesse_kmh,'km/h')\n",
    "vitesse_ms = vitesse_kmh * 1000/3600 #conversion km/h en m/s\n",
    "ec = mesure.energie_cinetique(masse,vitesse_ms)\n",
    "ec = ec/1000 #conversion Joules/kJoules\n",
    "print('Energie cinétique Fiat = {:.2f} Joules'.format(ec))"
   ]
  },
  {
   "cell_type": "markdown",
   "id": "80527205-f7da-4f53-8630-92e9e5d7f1b1",
   "metadata": {
    "tags": []
   },
   "source": [
    "<u>Exercice :6</u> *cercles.*\n",
    "\n",
    "Créez un programme qui permet de calculer et d'afficher les caractéristiques d'un cercle.\n",
    "\n",
    "Définissez les fonctions suivantes :  \n",
    "- calculer_perimetre_cercle(rayon), qui prend en paramètre le rayon du cercle et retourne son périmètre.\n",
    "- calculer_surface_cercle(rayon), qui prend en paramètre le rayon du cercle et retourne sa surface.\n",
    "- afficher_informations_cercle(rayon), qui prend en paramètre le rayon du cercle et affiche les informations sur le cercle:(rayon ,périmètre et surface).\n",
    "\n",
    "Demandez à l'utilisateur de saisir le rayon du cercle.\n",
    "\n",
    "Utilisez la fonction afficher_informations_cercle avec le rayon saisi pour afficher les informations du cercle.\n",
    "\n",
    "La sortie sera de la forme:\n",
    "<pre>\n",
    "Saisissez le rayon du cercle : 5\n",
    "Informations sur le cercle :\n",
    "Rayon : 5\n",
    "Périmètre : 31.4\n",
    "Surface : 78.5\n",
    "</pre>"
   ]
  },
  {
   "cell_type": "code",
   "execution_count": 15,
   "id": "cd5cc71b-2653-420d-b3bd-08d764380c3a",
   "metadata": {
    "tags": []
   },
   "outputs": [
    {
     "name": "stdin",
     "output_type": "stream",
     "text": [
      "Saisissez le rayon du cercle:  8\n"
     ]
    },
    {
     "name": "stdout",
     "output_type": "stream",
     "text": [
      "Informations sur le cercle :\n",
      "Rayon :8.00\n",
      "Périmètre :50.24\n",
      "Surface :200.96\n"
     ]
    }
   ],
   "source": [
    "#Solution\n",
    "\n",
    "# Fonction pour calculer le périmètre d'un cercle\n",
    "def calculer_perimetre_cercle(rayon):\n",
    "    perimetre = 2 * 3.14 * rayon\n",
    "    return perimetre\n",
    "\n",
    "# Fonction pour calculer la surface d'un cercle\n",
    "def calculer_surface_cercle(rayon):\n",
    "    surface = 3.14 * rayon**2\n",
    "    return surface\n",
    "\n",
    "# Fonction pour afficher les informations d'un cercle\n",
    "def afficher_informations_cercle(rayon):\n",
    "    print('Informations sur le cercle :')\n",
    "    print(\"Rayon :%.2f\" %rayon)\n",
    "    print(\"Périmètre :%.2f\" % calculer_perimetre_cercle(rayon))\n",
    "    print(\"Surface :%.2f\" % calculer_surface_cercle(rayon))\n",
    "\n",
    "# Utilisation des fonctions pour un cercle de rayon 5\n",
    "rayon = input(\"Saisissez le rayon du cercle: \")\n",
    "rayon = float(rayon)\n",
    "\n",
    "afficher_informations_cercle(rayon)\n"
   ]
  },
  {
   "cell_type": "markdown",
   "id": "2c20c9af-f0de-444e-a482-69e356949626",
   "metadata": {},
   "source": [
    "## 2- Exercices Classes"
   ]
  },
  {
   "cell_type": "markdown",
   "id": "4e41ced8-b5ff-4414-a9ba-889a0374ab3e",
   "metadata": {},
   "source": [
    "<u>Exercice 7:</u> *Cercles.*\n",
    "\n",
    "Vous souhaitez créer une classe Cercle qui représente un cercle. La classe devrait avoir les fonctionnalités suivantes :\n",
    "\n",
    "- Une méthode __init__ qui initialise le rayon du cercle.\n",
    "- Une méthode calculer_perimetre qui calcule le périmètre du cercle en utilisant la formule 2 * pi * rayon.\n",
    "- Une méthode calculer_surface qui calcule la surface du cercle en utilisant la formule pi * rayon**2.\n",
    "- Une méthode afficher_informations qui affiche les informations du cercle(le rayon, le périmètre et la surface).\n",
    "\n",
    "Vous pouvez utiliser 3.14 comme valeur approchée de pi."
   ]
  },
  {
   "cell_type": "code",
   "execution_count": 16,
   "id": "15981d34-1ef9-4b87-a4b8-20b75b13499a",
   "metadata": {
    "tags": []
   },
   "outputs": [
    {
     "name": "stdout",
     "output_type": "stream",
     "text": [
      "Informations sur le cercle :\n",
      "Rayon : 5\n",
      "Périmètre : 31.400000000000002\n",
      "Surface : 78.5\n"
     ]
    }
   ],
   "source": [
    "class Cercle:\n",
    "    def __init__(self, rayon):\n",
    "        self.rayon = rayon\n",
    "\n",
    "    def calculer_perimetre(self):\n",
    "        perimetre = 2 * 3.14 * self.rayon\n",
    "        return perimetre\n",
    "\n",
    "    def calculer_surface(self):\n",
    "        surface = 3.14 * self.rayon**2\n",
    "        return surface\n",
    "\n",
    "    def afficher_informations(self):\n",
    "        print(\"Informations sur le cercle :\")\n",
    "        print(\"Rayon :\", self.rayon)\n",
    "        print(\"Périmètre :\", self.calculer_perimetre())\n",
    "        print(\"Surface :\", self.calculer_surface())\n",
    "\n",
    "\n",
    "# Utilisation de la classe Cercle\n",
    "cercle = Cercle(5)  # Création d'un cercle avec un rayon de 5\n",
    "cercle.afficher_informations()  # Affichage des informations du cercle\n"
   ]
  },
  {
   "cell_type": "markdown",
   "id": "bfc7ef3b-1900-4d6b-b565-ef1c48d33e4f",
   "metadata": {},
   "source": [
    "<u>Exercice 8:</u> *cercles.*\n",
    "\n",
    "Reprendre le code précedent et ajouter \"unité\" à l'initialisation de manière à pouvoir afficher le résultat dans différentes unités."
   ]
  },
  {
   "cell_type": "code",
   "execution_count": 17,
   "id": "9f01b6bb-be35-488b-ae23-f8443a5f834a",
   "metadata": {
    "tags": []
   },
   "outputs": [
    {
     "name": "stdout",
     "output_type": "stream",
     "text": [
      "Informations sur le cercle :\n",
      "Rayon : 5 cm\n",
      "Périmètre : 31.400000000000002 cm\n",
      "Surface : 78.5 cm²\n"
     ]
    }
   ],
   "source": [
    "class Cercle:\n",
    "    def __init__(self, rayon, unité):\n",
    "        self.rayon = rayon\n",
    "        self.unité = unité\n",
    "\n",
    "    def calculer_perimetre(self):\n",
    "        perimetre = 2 * 3.14 * self.rayon\n",
    "        return perimetre\n",
    "\n",
    "    def calculer_surface(self):\n",
    "        surface = 3.14 * self.rayon**2\n",
    "        return surface\n",
    "\n",
    "    def afficher_informations(self):\n",
    "        print(\"Informations sur le cercle :\")\n",
    "        print(\"Rayon :\", self.rayon, self.unité)\n",
    "        print(\"Périmètre :\", self.calculer_perimetre(), self.unité)\n",
    "        print(\"Surface :\", self.calculer_surface(), self.unité + \"²\")\n",
    "        \n",
    "# Utilisation de la classe Cercle\n",
    "cercle = Cercle(5,'cm')  # Création d'un cercle avec un rayon de 5\n",
    "cercle.afficher_informations()  # Affichage des informations du cercle"
   ]
  },
  {
   "cell_type": "markdown",
   "id": "7e061bad-f8b7-40e4-ab1f-98ed74e7dec3",
   "metadata": {},
   "source": [
    "<u>Exercice 9:</u> *Moyennes.*\n",
    "\n",
    "Reprendre l'exercice Calcul de moyenne de la partie fonctions.  \n",
    "\n",
    "- Initialiser la classe avec nom et notes\n",
    "- Creer des instances 'eleves' pour Alice, Bob et Charlie.   \n",
    "Ces instances seront de la forme: \n",
    "Eleve(\"Nom éléve\", liste de notes)\n"
   ]
  },
  {
   "cell_type": "code",
   "execution_count": 18,
   "id": "4d8181cf-f7bb-4663-9bf4-5eee3247b3b4",
   "metadata": {},
   "outputs": [
    {
     "name": "stdout",
     "output_type": "stream",
     "text": [
      "Moyenne de Alice : 15.67\n",
      "Moyenne de Bob : 14.50\n",
      "Moyenne de Charlie : 19.50\n"
     ]
    }
   ],
   "source": [
    "class Eleve:\n",
    "    def __init__(self, nom, notes):\n",
    "        self.nom = nom\n",
    "        self.notes = notes\n",
    "\n",
    "    def calculer_moyenne(self):\n",
    "        total = sum(self.notes)\n",
    "        moyenne = total / len(self.notes)\n",
    "        return moyenne\n",
    "\n",
    "# Création des instances d'élèves avec leurs notes respectives\n",
    "eleve1 = Eleve(\"Alice\", [15, 18, 14])\n",
    "eleve2 = Eleve(\"Bob\", [12, 16, 17, 13])\n",
    "eleve3 = Eleve(\"Charlie\", [20, 19])\n",
    "\n",
    "# Calcul des moyennes des élèves\n",
    "moyenne_eleve1 = eleve1.calculer_moyenne()\n",
    "moyenne_eleve2 = eleve2.calculer_moyenne()\n",
    "moyenne_eleve3 = eleve3.calculer_moyenne()\n",
    "\n",
    "# Affichage des moyennes des élèves\n",
    "print(\"Moyenne de %s : %.2f\" % (eleve1.nom, moyenne_eleve1))\n",
    "print(\"Moyenne de %s : %.2f\" % (eleve2.nom, moyenne_eleve2))\n",
    "print(\"Moyenne de %s : %.2f\" % (eleve3.nom, moyenne_eleve3))"
   ]
  },
  {
   "cell_type": "markdown",
   "id": "c2e19a45-6d4c-4e61-bbce-20d816a11a7b",
   "metadata": {},
   "source": [
    "remarque: on peut, dans ce code facilement ajouter des paramètres, ce qui aurait été moins pratique dans la version utilisant uniquement des fonctions."
   ]
  },
  {
   "cell_type": "code",
   "execution_count": 19,
   "id": "433e4715-decd-497e-8aed-f0085a608840",
   "metadata": {},
   "outputs": [
    {
     "name": "stdout",
     "output_type": "stream",
     "text": [
      "Moyenne de Alice : 15.67 Maths\n",
      "Moyenne de Bob : 14.50 Physique\n",
      "Moyenne de Charlie : 19.50 Latin\n"
     ]
    }
   ],
   "source": [
    "class Eleve:\n",
    "    def __init__(self, nom, notes,option):\n",
    "        self.nom = nom\n",
    "        self.notes = notes\n",
    "        self.option = option\n",
    "\n",
    "    def calculer_moyenne(self):\n",
    "        total = sum(self.notes)\n",
    "        moyenne = total / len(self.notes)\n",
    "        return moyenne\n",
    "\n",
    "# Création des instances d'élèves avec leurs notes respectives\n",
    "eleve1 = Eleve(\"Alice\", [15, 18, 14],'Maths')\n",
    "eleve2 = Eleve(\"Bob\", [12, 16, 17, 13],'Physique')\n",
    "eleve3 = Eleve(\"Charlie\", [20, 19],'Latin')\n",
    "\n",
    "# Calcul des moyennes des élèves\n",
    "moyenne_eleve1 = eleve1.calculer_moyenne()\n",
    "moyenne_eleve2 = eleve2.calculer_moyenne()\n",
    "moyenne_eleve3 = eleve3.calculer_moyenne()\n",
    "\n",
    "# Affichage des moyennes des élèves\n",
    "print(\"Moyenne de %s : %.2f\" % (eleve1.nom, moyenne_eleve1),eleve1.option)\n",
    "print(\"Moyenne de %s : %.2f\" % (eleve2.nom, moyenne_eleve2),eleve2.option)\n",
    "print(\"Moyenne de %s : %.2f\" % (eleve3.nom, moyenne_eleve3),eleve3.option)\n"
   ]
  },
  {
   "cell_type": "code",
   "execution_count": null,
   "id": "fe7216ae-e8b7-4c05-9944-822f2230cb7c",
   "metadata": {},
   "outputs": [],
   "source": []
  },
  {
   "cell_type": "code",
   "execution_count": null,
   "id": "9ce2523e-799c-4349-8ab8-be75619e838c",
   "metadata": {},
   "outputs": [],
   "source": []
  }
 ],
 "metadata": {
  "kernelspec": {
   "display_name": "Python 3 (ipykernel)",
   "language": "python",
   "name": "python3"
  },
  "language_info": {
   "codemirror_mode": {
    "name": "ipython",
    "version": 3
   },
   "file_extension": ".py",
   "mimetype": "text/x-python",
   "name": "python",
   "nbconvert_exporter": "python",
   "pygments_lexer": "ipython3",
   "version": "3.10.13"
  }
 },
 "nbformat": 4,
 "nbformat_minor": 5
}
