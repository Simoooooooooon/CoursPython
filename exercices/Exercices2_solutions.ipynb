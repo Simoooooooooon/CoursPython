{
 "cells": [
  {
   "cell_type": "markdown",
   "id": "a953a547-8e61-4404-aa73-61af6ac56702",
   "metadata": {},
   "source": [
    "***\n",
    "# **<center>Exercices#2</center>**\n",
    "# ***<center>Structures de Données</center>***\n",
    "# ***<center>Structures Boucles</center>***\n",
    "# ***<center>Gestion des erreurs</center>***\n",
    "***"
   ]
  },
  {
   "cell_type": "markdown",
   "id": "58677869-544c-41e0-bc72-c102f2147b23",
   "metadata": {},
   "source": [
    "## 1- Exercices Structures de données"
   ]
  },
  {
   "cell_type": "markdown",
   "id": "281f3627-ecba-4c8e-9f82-7ed58a744f4b",
   "metadata": {
    "tags": []
   },
   "source": [
    "<u>Exercice 0:</u> *Dernier caractère.*  \n",
    "\n",
    "Écrivez un programme qui demande à l'utilisateur d'entrer une chaîne de caractères et affiche le dernier caractère de cette chaîne."
   ]
  },
  {
   "cell_type": "code",
   "execution_count": 1,
   "id": "642fd4cf-3cb3-433e-b79a-a87493d3f063",
   "metadata": {
    "tags": []
   },
   "outputs": [
    {
     "name": "stdin",
     "output_type": "stream",
     "text": [
      "Entrez une chaîne de caractères :  hgk\n"
     ]
    },
    {
     "name": "stdout",
     "output_type": "stream",
     "text": [
      "Le dernier caractère est : k\n"
     ]
    }
   ],
   "source": [
    "# Demander à l'utilisateur d'entrer une chaîne de caractères\n",
    "chaine = input(\"Entrez une chaîne de caractères : \")\n",
    "\n",
    "# Trouver le dernier caractère de la chaîne\n",
    "dernier_caractere = chaine[-1]\n",
    "\n",
    "# Afficher le dernier caractère\n",
    "print(\"Le dernier caractère est :\", dernier_caractere)\n"
   ]
  },
  {
   "cell_type": "markdown",
   "id": "9df9d337-c962-4ce4-a1a7-97c585d91f2d",
   "metadata": {},
   "source": [
    "<u>Exercice 1:</u> *Selectionner les éléments*   \n",
    "Soit la déclaration suivante:  \n",
    "<pre>X =(11, 22, 33, 44, 55, 66) </pre>\n",
    "- Quel est le type de X? Ecrire la ligne de code qui permet de le vérifier\n",
    "- Creer une structure Y de même type que X contenant les 3 denières valeurs de X\n",
    "- Transformer Y en liste"
   ]
  },
  {
   "cell_type": "markdown",
   "id": "42d036d5-4d5b-4399-b4a4-0c79886da868",
   "metadata": {},
   "source": [
    "- Quel est le type de X? Ecrire la ligne de code qui permet de le vérifier"
   ]
  },
  {
   "cell_type": "code",
   "execution_count": 2,
   "id": "308da84d-d305-49ce-8750-3158e8b6afe3",
   "metadata": {
    "tags": []
   },
   "outputs": [
    {
     "name": "stdout",
     "output_type": "stream",
     "text": [
      "<class 'tuple'>\n"
     ]
    }
   ],
   "source": [
    "#X est un tuple car déclaré entre parenthèses\n",
    "X =(11, 22, 33, 44, 55, 66)\n",
    "print(type(X))"
   ]
  },
  {
   "cell_type": "markdown",
   "id": "48129c79-4726-4145-a749-0e168ac8e044",
   "metadata": {
    "tags": []
   },
   "source": [
    "- Creer une structure Y de même typeque X contenant les 3 denières valeurs de X"
   ]
  },
  {
   "cell_type": "code",
   "execution_count": 3,
   "id": "282ebe46-358d-465a-9bca-1d4ce0f9abbf",
   "metadata": {
    "tags": []
   },
   "outputs": [
    {
     "name": "stdout",
     "output_type": "stream",
     "text": [
      "(44, 55, 66)\n"
     ]
    }
   ],
   "source": [
    "Y = X[-3:]\n",
    "print(Y)"
   ]
  },
  {
   "cell_type": "code",
   "execution_count": 4,
   "id": "83a07729-6c6a-48f0-95b7-2921e4a4bb9f",
   "metadata": {
    "tags": []
   },
   "outputs": [
    {
     "name": "stdout",
     "output_type": "stream",
     "text": [
      "<class 'list'>\n"
     ]
    }
   ],
   "source": [
    "Y = list(Y)\n",
    "print(type(Y))"
   ]
  },
  {
   "cell_type": "markdown",
   "id": "d559e1cf-7d48-4a02-beb8-b71dfebf504c",
   "metadata": {
    "tags": []
   },
   "source": [
    "<u>Exercice 2:</u> *Remplir une liste.*   \n",
    "Ecrire un programme qui demande à l'utilisateur de saisir une chaine de caractère et ajouter ce caractère à une liste. La liste finale aura 3 éléments."
   ]
  },
  {
   "cell_type": "code",
   "execution_count": 5,
   "id": "a2a18272-a0aa-4cd7-9ee3-8ec78cb6d455",
   "metadata": {
    "tags": []
   },
   "outputs": [
    {
     "name": "stdin",
     "output_type": "stream",
     "text": [
      "Entrez une chaîne de caractères :  klutiu\n"
     ]
    },
    {
     "name": "stdout",
     "output_type": "stream",
     "text": [
      "['klutiu']\n"
     ]
    },
    {
     "name": "stdin",
     "output_type": "stream",
     "text": [
      "Entrez une chaîne de caractères :  oiugi\n"
     ]
    },
    {
     "name": "stdout",
     "output_type": "stream",
     "text": [
      "['klutiu', 'oiugi']\n"
     ]
    },
    {
     "name": "stdin",
     "output_type": "stream",
     "text": [
      "Entrez une chaîne de caractères :  jkjlh\n"
     ]
    },
    {
     "name": "stdout",
     "output_type": "stream",
     "text": [
      "['klutiu', 'oiugi', 'jkjlh']\n",
      "C'est fini!\n"
     ]
    }
   ],
   "source": [
    "# Demander à l'utilisateur d'entrer une chaîne de caractères\n",
    "\n",
    "ma_liste = []\n",
    "\n",
    "chaine = input(\"Entrez une chaîne de caractères : \")\n",
    "ma_liste.append(chaine)\n",
    "print(ma_liste)\n",
    "\n",
    "chaine = input(\"Entrez une chaîne de caractères : \")\n",
    "ma_liste.append(chaine)\n",
    "print(ma_liste)\n",
    "\n",
    "chaine = input(\"Entrez une chaîne de caractères : \")\n",
    "ma_liste.append(chaine)\n",
    "print(ma_liste)\n",
    "\n",
    "print(\"C'est fini!\")\n"
   ]
  },
  {
   "cell_type": "markdown",
   "id": "a131795d-8977-48c0-a35c-6e0eabd4a70b",
   "metadata": {},
   "source": [
    "## 2- Exercices Structures boucles"
   ]
  },
  {
   "cell_type": "markdown",
   "id": "c93c6eec-e4e5-40b3-97c6-e0ab20c0ac4d",
   "metadata": {},
   "source": [
    "<u>Exercice 3:</u> *Remplir une liste.*   \n",
    "Ecrire un programme qui demande à l'utilisateur de saisir une chaine de caractère et ajouter ce caractère à une liste. La liste finale aura 3 éléments. \n",
    "Faire 2 versions du code, l'une avec une boucle for, l'autre avec une boucle while"
   ]
  },
  {
   "cell_type": "markdown",
   "id": "b2d57ab6-8fe7-45c1-97dc-c49b95556ed7",
   "metadata": {
    "tags": []
   },
   "source": [
    "Avec boucle for"
   ]
  },
  {
   "cell_type": "code",
   "execution_count": 6,
   "id": "40c63d3a-029f-4486-94ff-c3eb7811893a",
   "metadata": {
    "tags": []
   },
   "outputs": [
    {
     "name": "stdin",
     "output_type": "stream",
     "text": [
      "Entrez une chaîne de caractères :  ghjkkhk\n"
     ]
    },
    {
     "name": "stdout",
     "output_type": "stream",
     "text": [
      "['ghjkkhk']\n"
     ]
    },
    {
     "name": "stdin",
     "output_type": "stream",
     "text": [
      "Entrez une chaîne de caractères :  hgkjg\n"
     ]
    },
    {
     "name": "stdout",
     "output_type": "stream",
     "text": [
      "['ghjkkhk', 'hgkjg']\n"
     ]
    },
    {
     "name": "stdin",
     "output_type": "stream",
     "text": [
      "Entrez une chaîne de caractères :  jk\n"
     ]
    },
    {
     "name": "stdout",
     "output_type": "stream",
     "text": [
      "['ghjkkhk', 'hgkjg', 'jk']\n",
      "C'est fini!\n"
     ]
    }
   ],
   "source": [
    "ma_liste = []\n",
    "\n",
    "for i in range(3): # executer la boucle 3 fois\n",
    "    chaine = input(\"Entrez une chaîne de caractères : \")\n",
    "    ma_liste.append(chaine)\n",
    "    print(ma_liste)\n",
    "\n",
    "print(\"C'est fini!\")\n"
   ]
  },
  {
   "cell_type": "markdown",
   "id": "c7abefce-e5fc-47d7-b30f-56dd135c9a2d",
   "metadata": {},
   "source": [
    "Avec boucle while"
   ]
  },
  {
   "cell_type": "code",
   "execution_count": 7,
   "id": "4ed8c94f-9bbf-4a72-b2fb-df6399fe9c9c",
   "metadata": {
    "tags": []
   },
   "outputs": [
    {
     "name": "stdin",
     "output_type": "stream",
     "text": [
      "Entrez une chaîne de caractères :  hjkhkj\n"
     ]
    },
    {
     "name": "stdout",
     "output_type": "stream",
     "text": [
      "['hjkhkj']\n"
     ]
    },
    {
     "name": "stdin",
     "output_type": "stream",
     "text": [
      "Entrez une chaîne de caractères :  ,;n\n"
     ]
    },
    {
     "name": "stdout",
     "output_type": "stream",
     "text": [
      "['hjkhkj', ',;n']\n"
     ]
    },
    {
     "name": "stdin",
     "output_type": "stream",
     "text": [
      "Entrez une chaîne de caractères :  khlg\n"
     ]
    },
    {
     "name": "stdout",
     "output_type": "stream",
     "text": [
      "['hjkhkj', ',;n', 'khlg']\n",
      "C'est fini!\n"
     ]
    }
   ],
   "source": [
    "ma_liste = []\n",
    "\n",
    "while len(ma_liste)<3:\n",
    "    chaine = input(\"Entrez une chaîne de caractères : \")\n",
    "    ma_liste.append(chaine)\n",
    "    print(ma_liste)\n",
    "print(\"C'est fini!\")"
   ]
  },
  {
   "cell_type": "markdown",
   "id": "98222f34-4561-46c6-9bfc-819a283dda77",
   "metadata": {},
   "source": [
    "<u>Exercice 4:</u> *Nombre premiers.*  \n",
    "Un nombre est premier s'il est divisible uniquement par 1 et par lui même. Ainsi, on peut dire que le nombre k est premier s'il n'est divisible par aucun des nombres compris entre 2 et k-1.  "
   ]
  },
  {
   "cell_type": "code",
   "execution_count": 8,
   "id": "1806ed13-c5c9-44fc-8a5a-89609cfa0b64",
   "metadata": {
    "tags": []
   },
   "outputs": [
    {
     "name": "stdout",
     "output_type": "stream",
     "text": [
      "Nombres premiers trouvés : \n",
      "2 3 5 7 11 13 17 19 23 29 31 37 41 43 47 53 59 61 67 71 73 79 83 89 97 "
     ]
    }
   ],
   "source": [
    "print(\"Nombres premiers trouvés : \")\n",
    "\n",
    "for k in range(1,100) :\n",
    "    premier = True\n",
    "    for v in range(2,k) :\n",
    "        if k%v == 0 :\n",
    "            premier = False\n",
    "    if premier and k>1 : # il faut enlever 1 qui est divisible ?\n",
    "         print(k,end=\" \")"
   ]
  },
  {
   "cell_type": "markdown",
   "id": "2d5b93a8-86b9-45af-9a83-ba88ad2fa6c7",
   "metadata": {},
   "source": [
    "<u>Exercice 5:</u> *boucle For imbriquées.*  \n",
    "\n",
    "Écrivez un programme qui affiche les tables de multiplication de 1 à 10. Le programme doit utiliser des boucles for imbriquées pour parcourir les nombres de 1 à 10 (inclus).  \n",
    "L'affichage sera de la forme:  \n",
    "\n",
    "|   | 0 | 1 | 2 | 3 | 4 | 5 | 6 | 7 | 8 | 9 | 10 |\n",
    "|---|---|---|---|---|---|---|---|---|---|---|----|\n",
    "| 0 | 0 | 0 | 0 | 0 | 0 | 0 | 0 | 0 | 0 | 0 | 0  |\n",
    "| 1 | 1 | 2 | 3 | 4 | 5 | 6 | 7 | 8 | 9 | 10 | 11 |\n",
    "| 2 | 2 | 4 | 6 | 8 | 10 | 12 | 14 | 16 | 18 | 20 | 22 |\n",
    "| 3 | 3 | 6 | 9 | 12 | 15 | 18 | 21 | 24 | 27 | 30 | 33 |\n",
    "| 4 | 4 | 8 | 12 | 16 | 20 | 24 | 28 | 32 | 36 | 40 | 44 |\n",
    "| 5 | 5 | 10 | 15 | 20 | 25 | 30 | 35 | 40 | 45 | 50 | 55 |\n",
    "| 6 | 6 | 12 | 18 | 24 | 30 | 36 | 42 | 48 | 54 | 60 | 66 |\n",
    "| 7 | 7 | 14 | 21 | 28 | 35 | 42 | 49 | 56 | 63 | 70 | 77 |\n",
    "| 8 | 8 | 16 | 24 | 32 | 40 | 48 | 56 | 64 | 72 | 80 | 88 |\n",
    "| 9 | 9 | 18 | 27 | 36 | 45 | 54 | 63 | 72 | 81 | 90 | 99 |\n",
    "| 10 | 10 | 20 | 30 | 40 | 50 | 60 | 70 | 80 | 90 | 100 | 110 |\n",
    "\n",
    "Pour éviter un retour à la ligne apres chaque print on pourra utiliser la syntaxe print(XX, end=\"\\t\")\n"
   ]
  },
  {
   "cell_type": "code",
   "execution_count": 9,
   "id": "e7e7d2e6-dafc-4e03-86bf-a920fc87809f",
   "metadata": {},
   "outputs": [
    {
     "name": "stdout",
     "output_type": "stream",
     "text": [
      "Table de multiplication :\n",
      "0\t0\t0\t0\t0\t0\t0\t0\t0\t0\t \n",
      "1\t2\t3\t4\t5\t6\t7\t8\t9\t10\t \n",
      "2\t4\t6\t8\t10\t12\t14\t16\t18\t20\t \n",
      "3\t6\t9\t12\t15\t18\t21\t24\t27\t30\t \n",
      "4\t8\t12\t16\t20\t24\t28\t32\t36\t40\t \n",
      "5\t10\t15\t20\t25\t30\t35\t40\t45\t50\t \n",
      "6\t12\t18\t24\t30\t36\t42\t48\t54\t60\t \n",
      "7\t14\t21\t28\t35\t42\t49\t56\t63\t70\t \n",
      "8\t16\t24\t32\t40\t48\t56\t64\t72\t80\t \n",
      "9\t18\t27\t36\t45\t54\t63\t72\t81\t90\t \n",
      "10\t20\t30\t40\t50\t60\t70\t80\t90\t100\t \n"
     ]
    }
   ],
   "source": [
    "print(\"Table de multiplication :\")\n",
    "for i in range(0, 11):\n",
    "    for j in range(1, 11):\n",
    "         print(i * j, end=\"\\t\")\n",
    "\n",
    "    print(' ')"
   ]
  },
  {
   "cell_type": "markdown",
   "id": "9011ed48-10fd-43bb-a2ea-e6dc39d49720",
   "metadata": {},
   "source": [
    "## 3- Exercices Gestion des erreurs"
   ]
  },
  {
   "cell_type": "markdown",
   "id": "a7901c23-f506-4974-8d1e-2674f815e82e",
   "metadata": {},
   "source": [
    "<u>Exercice 6:</u> *gestion erreurs.* \n",
    "\n",
    "Écrivez un programme qui demande à l'utilisateur d'entrer deux nombres entiers. Utilisez la gestion des erreurs pour vous assurer que l'utilisateur entre effectivement des nombres entiers. Si l'utilisateur entre une valeur invalide, affichez un message d'erreur approprié et redemandez-lui de saisir les nombres. Répétez ce processus jusqu'à ce que l'utilisateur entre des nombres valides. Une fois que l'utilisateur entre des nombres valides, affichez leur somme.\n"
   ]
  },
  {
   "cell_type": "code",
   "execution_count": 10,
   "id": "3da7123c-aaed-49a8-8048-6d5510c23b6a",
   "metadata": {
    "tags": []
   },
   "outputs": [
    {
     "name": "stdin",
     "output_type": "stream",
     "text": [
      "Entrez le premier nombre entier :  5\n",
      "Entrez le deuxième nombre entier :  \n"
     ]
    },
    {
     "name": "stdout",
     "output_type": "stream",
     "text": [
      "Erreur : Vous devez entrer des nombres entiers valides. Réessayez.\n"
     ]
    },
    {
     "name": "stdin",
     "output_type": "stream",
     "text": [
      "Entrez le premier nombre entier :  5\n",
      "Entrez le deuxième nombre entier :  5\n"
     ]
    },
    {
     "name": "stdout",
     "output_type": "stream",
     "text": [
      "La somme de 5 et 5 est égale à 10.\n",
      "Programme terminé.\n"
     ]
    }
   ],
   "source": [
    "while True:\n",
    "    try:\n",
    "        nombre1 = int(input(\"Entrez le premier nombre entier : \")) #tenter de convertir un nombre en int. Possible seulement si c'est un int\n",
    "        nombre2 = int(input(\"Entrez le deuxième nombre entier : \"))\n",
    "        somme = nombre1 + nombre2\n",
    "        print(f\"La somme de {nombre1} et {nombre2} est égale à {somme}.\")\n",
    "        break  # Sort de la boucle si les entrées sont valides\n",
    "    except:\n",
    "        print(\"Erreur : Vous devez entrer des nombres entiers valides. Réessayez.\")\n",
    "\n",
    "print(\"Programme terminé.\")\n"
   ]
  },
  {
   "cell_type": "markdown",
   "id": "a041da9b-c4ea-45c1-8437-c7373b751d16",
   "metadata": {},
   "source": [
    "## 4- Exercices Synthèse"
   ]
  },
  {
   "cell_type": "markdown",
   "id": "65ec72ff-fb95-4ec7-a296-eea8426b0a38",
   "metadata": {
    "tags": []
   },
   "source": [
    "<u>Exercice 7:</u> *Tri croissant.*  \n",
    "\n",
    "Écrivez un programme qui demande à l'utilisateur d'entrer une chaîne de caractères. \n",
    "- Verifier si cette chaine contient des chiffres. \n",
    "- Si cette chaine contient des chiffres vérifier si elle contient des caractères qui ne sont pas des chiffres\n",
    "- Si elle contient des caractères qui ne sont pas des chiffres, les supprimer\n",
    "- Classer ces chiffres par ordre décroissant\n"
   ]
  },
  {
   "cell_type": "markdown",
   "id": "5de82eb6-7971-4014-93a4-84d4198c48f6",
   "metadata": {
    "tags": []
   },
   "source": [
    "- Verifier si cette chaine contient des chiffres. "
   ]
  },
  {
   "cell_type": "code",
   "execution_count": 11,
   "id": "92dc237b-5d99-47b2-81bc-f78fb2acc287",
   "metadata": {
    "tags": []
   },
   "outputs": [
    {
     "name": "stdin",
     "output_type": "stream",
     "text": [
      "Entrez une chaîne de caractères :  hjghjk\n"
     ]
    },
    {
     "name": "stdout",
     "output_type": "stream",
     "text": [
      "La chaine ne contient pas de chiffres \n"
     ]
    }
   ],
   "source": [
    "# Demander à l'utilisateur d'entrer une chaîne de caractères\n",
    "chaine = input(\"Entrez une chaîne de caractères : \")\n",
    "\n",
    "contient_chiffres = False\n",
    "for char in chaine:\n",
    "    if (char == '0' or char == '1' or char == '2'or char == '3'or char == '4'or char == '5'\n",
    "                or char == '6'or char == '7'or char == '8'or char == '9'):\n",
    "        contient_chiffres = True \n",
    "        \n",
    "if contient_chiffres:\n",
    "    print('La chaine contient un ou des chiffres ')\n",
    "else:\n",
    "    print('La chaine ne contient pas de chiffres ')"
   ]
  },
  {
   "cell_type": "markdown",
   "id": "0e99975a-45d9-4b8b-8ea8-7722b6eeb7ee",
   "metadata": {},
   "source": [
    "- Si cette chaine contient des chiffres vérifier si elle contient des caractères qui ne sont pas des chiffres"
   ]
  },
  {
   "cell_type": "code",
   "execution_count": 12,
   "id": "f293c37d-fc95-44d4-9a80-6a502b6e1fc6",
   "metadata": {
    "tags": []
   },
   "outputs": [
    {
     "name": "stdin",
     "output_type": "stream",
     "text": [
      "Entrez une chaîne de caractères :  hjlkh5\n"
     ]
    },
    {
     "name": "stdout",
     "output_type": "stream",
     "text": [
      "La chaine contient des chiffres \n",
      "La chaine contient d'autres caractères\n"
     ]
    }
   ],
   "source": [
    "# Demander à l'utilisateur d'entrer une chaîne de caractères\n",
    "chaine = input(\"Entrez une chaîne de caractères : \")\n",
    "\n",
    "contient_chiffres = False\n",
    "contient_autres = False   #Variable qui changera d'état si la condition est respectée\n",
    "\n",
    "\n",
    "for char in chaine:\n",
    "    if (char == '0' or char == '1' or char == '2'or char == '3'or char == '4'or char == '5'\n",
    "                or char == '6'or char == '7'or char == '8'or char == '9'):\n",
    "        contient_chiffres = True \n",
    "    if (char != '0' and char != '1' and char != '2' and char != '3' and char != '4' and char != '5' ###\n",
    "            and char != '6' and char != '7' and char != '8' and char != '9'):                       ###\n",
    "            contient_autres = True      # si le caractere est autre chose qu'un chiffre, variable passe à True\n",
    "        \n",
    "if contient_chiffres:\n",
    "    print('La chaine contient des chiffres ')\n",
    "else:\n",
    "    print('La chaine ne contient pas de chiffres ')\n",
    "    \n",
    "if contient_autres:                                                                                  ###\n",
    "    print(\"La chaine contient d'autres caractères\")                                                   ###\n",
    "else:                                                                                                ###\n",
    "    print(\"La chaine ne contient pas d'autres caracteres\")                                            ###"
   ]
  },
  {
   "cell_type": "markdown",
   "id": "1804cf1a-7664-4485-af19-ce9cc0ab8288",
   "metadata": {},
   "source": [
    "- Si elle contient des caractères qui ne sont pas des chiffres, les supprimer"
   ]
  },
  {
   "cell_type": "code",
   "execution_count": 13,
   "id": "d784c6fc-7fc9-4761-83c5-4fd5b6ecda51",
   "metadata": {
    "tags": []
   },
   "outputs": [
    {
     "name": "stdin",
     "output_type": "stream",
     "text": [
      "Entrez une chaîne de caractères (avec dec chiffres et d'autres caractères) :  khj+\n"
     ]
    },
    {
     "name": "stdout",
     "output_type": "stream",
     "text": [
      "La chaine ne contient pas de chiffres \n",
      "La chaine contient d'autres caractères qui sont:  ['k', 'h', 'j', '+']\n",
      "La chaine avec uniquement les chiffres:  \n"
     ]
    }
   ],
   "source": [
    "# Demander à l'utilisateur d'entrer une chaîne de caractères\n",
    "chaine = input(\"Entrez une chaîne de caractères (avec dec chiffres et d'autres caractères) : \")\n",
    "\n",
    "contient_chiffres = False\n",
    "contient_autres = False\n",
    "\n",
    "liste_autres_caracteres = [] #liste vide qui servira à collecter les caracteres qui ne sont pas des chiffres\n",
    "\n",
    "\n",
    "for char in chaine:\n",
    "    if (char == '0' or char == '1' or char == '2'or char == '3'or char == '4'or char == '5'\n",
    "                or char == '6'or char == '7'or char == '8'or char == '9'):\n",
    "        contient_chiffres = True \n",
    "    if (char != '0' and char != '1' and char != '2' and char != '3' and char != '4' and char != '5'\n",
    "            and char != '6' and char != '7' and char != '8' and char != '9'):                       \n",
    "            contient_autres = True \n",
    "            liste_autres_caracteres.append(char) # ajouter les caracteres qui ne sont pas des chiffres à la liste\n",
    "        \n",
    "if contient_chiffres:\n",
    "    print('La chaine contient des chiffres ')\n",
    "else:\n",
    "    print('La chaine ne contient pas de chiffres ')\n",
    "    \n",
    "if contient_autres:                                                                                  \n",
    "    print(\"La chaine contient d'autres caractères qui sont: \",liste_autres_caracteres) ###\n",
    "else:                                                                                                \n",
    "    print(\"La chaine ne contient pas d'autres caracteres\")   \n",
    "\n",
    "    \n",
    "\n",
    "for char in liste_autres_caracteres: # Parcourir liste des caracteres qui ne sont pas des chiffres\n",
    "    chaine = chaine.replace(char, '') #remplacer les caraceres pas.. rien , dans la chaine initiale\n",
    "print('La chaine avec uniquement les chiffres: ',chaine)"
   ]
  },
  {
   "cell_type": "markdown",
   "id": "877b0ebb-fd30-4b0c-97a2-06d37f5c1b79",
   "metadata": {
    "tags": []
   },
   "source": [
    "- Classer ces chiffres par ordre décroissant"
   ]
  },
  {
   "cell_type": "code",
   "execution_count": 14,
   "id": "b9ac9459-03a0-4b9c-88d3-edc16e13c2ba",
   "metadata": {
    "tags": []
   },
   "outputs": [
    {
     "name": "stdout",
     "output_type": "stream",
     "text": [
      "[]\n",
      "[]\n",
      "Nouvelle chaine triée :  \n"
     ]
    }
   ],
   "source": [
    "liste_chaine = list(chaine) #convertir la chaine en liste pour avoir accès aux fonctions de tri\n",
    "print(liste_chaine)\n",
    "liste_chaine_triee = sorted(liste_chaine, reverse=True) # tri en ordre inverse\n",
    "\n",
    "print(liste_chaine_triee)\n",
    "nouvelle_chaine = ''\n",
    "\n",
    "for item in liste_chaine_triee: #convertir la liste en chaine , si on avait utilisé un changement de type, on aurait eu de caracteres comme' [ ...\n",
    "    nouvelle_chaine = nouvelle_chaine+item\n",
    "print('Nouvelle chaine triée : ',nouvelle_chaine)\n",
    "    "
   ]
  },
  {
   "cell_type": "markdown",
   "id": "58d65313-4e32-41d2-a470-72f07b4b189f",
   "metadata": {},
   "source": [
    "Code complet:"
   ]
  },
  {
   "cell_type": "code",
   "execution_count": 15,
   "id": "2087f625-cffa-4786-bd0a-985ac130b814",
   "metadata": {},
   "outputs": [
    {
     "name": "stdin",
     "output_type": "stream",
     "text": [
      "Entrez une chaîne de caractères :  hjlkhlk65\n"
     ]
    },
    {
     "name": "stdout",
     "output_type": "stream",
     "text": [
      "La chaine contient des chiffres \n",
      "La chaine contient d'autres caractères qui sont:  ['h', 'j', 'l', 'k', 'h', 'l', 'k']\n",
      "65\n",
      "['6', '5']\n",
      "['6', '5']\n",
      "Nouvelle chaine triée :  65\n"
     ]
    }
   ],
   "source": [
    "# Demander à l'utilisateur d'entrer une chaîne de caractères\n",
    "chaine = input(\"Entrez une chaîne de caractères : \")\n",
    "\n",
    "contient_chiffres = False\n",
    "contient_autres = False\n",
    "\n",
    "liste_autres_caracteres = [] #liste vide qui servira à collecter les caracteres qui ne sont pas des chiffres\n",
    "\n",
    "\n",
    "for char in chaine:\n",
    "    if (char == '0' or char == '1' or char == '2'or char == '3'or char == '4'or char == '5'\n",
    "                or char == '6'or char == '7'or char == '8'or char == '9'):\n",
    "        contient_chiffres = True \n",
    "    if (char != '0' and char != '1' and char != '2' and char != '3' and char != '4' and char != '5'\n",
    "            and char != '6' and char != '7' and char != '8' and char != '9'):                       \n",
    "            contient_autres = True \n",
    "            liste_autres_caracteres.append(char) # ajouter les caracteres qui ne sont pas des chiffres à la liste\n",
    "        \n",
    "if contient_chiffres:\n",
    "    print('La chaine contient des chiffres ')\n",
    "else:\n",
    "    print('La chaine ne contient pas de chiffres ')\n",
    "    \n",
    "if contient_autres:                                                                                  \n",
    "    print(\"La chaine contient d'autres caractères qui sont: \",liste_autres_caracteres) ###\n",
    "else:                                                                                                \n",
    "    print(\"La chaine ne contient pas d'autres caracteres\")   \n",
    "\n",
    "    \n",
    "\n",
    "for char in liste_autres_caracteres: # Parcourir liste des caracteres qui ne sont pas des chiffres\n",
    "    chaine = chaine.replace(char, '') #remplacer les caraceres pas.. rien , dans la chaine initiale\n",
    "print(chaine)\n",
    "\n",
    "liste_chaine = list(chaine) #convertir la chaine en liste pour avoir accès aux fonctions de tri\n",
    "print(liste_chaine)\n",
    "liste_chaine_triee = sorted(liste_chaine, reverse=True) # tri en ordre inverse\n",
    "\n",
    "print(liste_chaine_triee)\n",
    "nouvelle_chaine = ''\n",
    "\n",
    "for item in liste_chaine_triee: #convertir la liste en chaine , si on avait utilisé un changement de type, on aurait eu de caracteres comme' [ ...\n",
    "    nouvelle_chaine = nouvelle_chaine+item\n",
    "print('Nouvelle chaine triée : ',nouvelle_chaine)"
   ]
  },
  {
   "cell_type": "markdown",
   "id": "0375f786-a7e0-4fa1-9a10-ce935a4843f8",
   "metadata": {},
   "source": [
    "Remarque pour les conditions chiffre ou autre caractere on aurait pu utiliser .isdigit(), ça serait plus élégant..."
   ]
  },
  {
   "cell_type": "code",
   "execution_count": 16,
   "id": "fef62a03-d983-48e7-821e-096f2493073c",
   "metadata": {
    "tags": []
   },
   "outputs": [
    {
     "name": "stdin",
     "output_type": "stream",
     "text": [
      "Entrez une chaîne de caractères :  uyiu6oh98\n"
     ]
    },
    {
     "name": "stdout",
     "output_type": "stream",
     "text": [
      "La chaine contient des chiffres \n",
      "La chaine contient d'autres caractères qui sont:  ['u', 'y', 'i', 'u', 'o', 'h']\n",
      "698\n",
      "['6', '9', '8']\n",
      "['9', '8', '6']\n",
      "Nouvelle chaine triée :  986\n"
     ]
    }
   ],
   "source": [
    "# Demander à l'utilisateur d'entrer une chaîne de caractères\n",
    "chaine = input(\"Entrez une chaîne de caractères : \")\n",
    "\n",
    "contient_chiffres = False\n",
    "contient_autres = False\n",
    "\n",
    "liste_autres_caracteres = [] #liste vide qui servira à collecter les caracteres qui ne sont pas des chiffres\n",
    "\n",
    "\n",
    "for char in chaine:\n",
    "    if char.isdigit():\n",
    "        contient_chiffres = True \n",
    "    else:                    \n",
    "            contient_autres = True \n",
    "            liste_autres_caracteres.append(char) # ajouter les caracteres qui ne sont pas des chiffres à la liste\n",
    "        \n",
    "if contient_chiffres:\n",
    "    print('La chaine contient des chiffres ')\n",
    "else:\n",
    "    print('La chaine ne contient pas de chiffres ')\n",
    "    \n",
    "if contient_autres:                                                                                  \n",
    "    print(\"La chaine contient d'autres caractères qui sont: \",liste_autres_caracteres) ###\n",
    "else:                                                                                                \n",
    "    print(\"La chaine ne contient pas d'autres caracteres\")   \n",
    "\n",
    "    \n",
    "\n",
    "for char in liste_autres_caracteres: # Parcourir liste des caracteres qui ne sont pas des chiffres\n",
    "    chaine = chaine.replace(char, '') #remplacer les caraceres pas.. rien , dans la chaine initiale\n",
    "print(chaine)\n",
    "\n",
    "liste_chaine = list(chaine) #convertir la chaine en liste pour avoir accès aux fonctions de tri\n",
    "print(liste_chaine)\n",
    "liste_chaine_triee = sorted(liste_chaine, reverse=True) # tri en ordre inverse\n",
    "\n",
    "print(liste_chaine_triee)\n",
    "nouvelle_chaine = ''\n",
    "\n",
    "for item in liste_chaine_triee: #convertir la liste en chaine , si on avait utilisé un changement de type, on aurait eu de caracteres comme' [ ...\n",
    "    nouvelle_chaine = nouvelle_chaine+item\n",
    "print('Nouvelle chaine triée : ',nouvelle_chaine)\n"
   ]
  },
  {
   "cell_type": "markdown",
   "id": "c43093ce-100a-4883-a9e5-a60f9bd49c80",
   "metadata": {},
   "source": [
    "<u>Exercice 8 : Liste de courses.</u>\n",
    "\n",
    "Écrire un programme qui permet à un utilisateur de gérer une liste de courses. Le programme devrait permettre à l'utilisateur d'ajouter des articles, de les supprimer, de les afficher, et de vérifier si un article est présent dans la liste.\n",
    "\n",
    "*Les étapes seront :*\n",
    "\n",
    "- *Partie 1 : Création du Menu*\n",
    "\n",
    "  Le menu doit commencer par un message d'accueil et permettre à l'utilisateur de choisir :\n",
    "\n",
    "  - Avec la touche 1 : Ajouter des articles à la liste.\n",
    "  - Avec la touche 2 : Supprimer des articles de la liste.\n",
    "  - Avec la touche 3 : Afficher la liste de courses.\n",
    "  - Avec la touche 4 : Vérifier si un article est dans la liste.\n",
    "  - Avec la touche 5 : Quitter le programme.\n",
    "</p>\n",
    "\n",
    "- *Partie 2 : Ajout d'articles*\n",
    "\n",
    "  Quand l'utilisateur choisit 'Ajouter des articles à la liste':\n",
    "  - Demandez lui d'entrer le nombre d'articles \n",
    "  - Ajouter les articles saisis par l'utilisateur\n",
    "  \n",
    "  \n",
    "  Quand l'utilisateur choisit 'Afficher la liste de courses': Afficher la liste. Si elle est vide, afficher le message 'La liste est vide'\n",
    "  \n",
    "- *Partie 3 : Suppression d'articles*  \n",
    "\n",
    "  Implementer la partie 'Supprimer des articles de la liste'\n",
    "  \n",
    "- *Partie 4 : Vérification d'articles*   \n",
    "\n",
    "  Implementer la partie 'Vérifier si un article est dans la liste.'\n"
   ]
  },
  {
   "cell_type": "code",
   "execution_count": 17,
   "id": "54e6c363-f3e7-4f3f-a329-2af0b0792b8d",
   "metadata": {
    "tags": []
   },
   "outputs": [
    {
     "name": "stdout",
     "output_type": "stream",
     "text": [
      "*****************************************************\n",
      "Bienvenue dans le gestionnaire de liste de courses !\n",
      "Menu d'options :\n",
      "1. Ajouter des articles à la liste\n",
      "2. Supprimer des articles de la liste\n",
      "3. Afficher la liste de courses\n",
      "4. Vérifier si un article est dans la liste\n",
      "5. Quitter le programme\n"
     ]
    },
    {
     "name": "stdin",
     "output_type": "stream",
     "text": [
      "Choisissez une option (1/2/3/4/5) :  5\n"
     ]
    },
    {
     "name": "stdout",
     "output_type": "stream",
     "text": [
      "Merci d'avoir utilisé le gestionnaire de liste de courses. Au revoir !\n"
     ]
    }
   ],
   "source": [
    "# Partie 1: Création du menu\n",
    "liste_courses = []\n",
    "\n",
    "while True:\n",
    "    # Afficher le menu\n",
    "    print(\"*****************************************************\")\n",
    "    print(\"Bienvenue dans le gestionnaire de liste de courses !\")\n",
    "    print(\"Menu d'options :\")\n",
    "    print(\"1. Ajouter des articles à la liste\")\n",
    "    print(\"2. Supprimer des articles de la liste\")\n",
    "    print(\"3. Afficher la liste de courses\")\n",
    "    print(\"4. Vérifier si un article est dans la liste\")\n",
    "    print(\"5. Quitter le programme\")\n",
    "\n",
    "    # Demander à l'utilisateur de choisir une option\n",
    "    choix = input(\"Choisissez une option (1/2/3/4/5) : \")\n",
    "\n",
    "    # Gérer les choix de l'utilisateur\n",
    "    if choix == \"1\":\n",
    "        # Partie 2 : Ajouter un article à la liste (à implémenter)\n",
    "        print('Ajout')\n",
    "    elif choix == \"2\":\n",
    "        # Partie 3 : Supprimer un article de la liste (à implémenter)\n",
    "        print('Suppression')\n",
    "    elif choix == \"3\":\n",
    "        # Partie 4 : Afficher la liste de courses (à implémenter)\n",
    "        print('Affichage')\n",
    "    elif choix == \"4\":\n",
    "        # Partie 5 : Vérifier si un article est dans la liste (à implémenter)\n",
    "        print('Vérification présence')\n",
    "    elif choix == \"5\":\n",
    "        # Partie 6 : Quitter le programme\n",
    "        print(\"Merci d'avoir utilisé le gestionnaire de liste de courses. Au revoir !\")\n",
    "        break\n",
    "    else:\n",
    "        print(\"Choix invalide. Veuillez choisir une option valide (1/2/3/4/5).\")\n"
   ]
  },
  {
   "cell_type": "code",
   "execution_count": 51,
   "id": "9d04a789-01c2-4acc-8fc5-9d45b247733b",
   "metadata": {
    "tags": []
   },
   "outputs": [
    {
     "name": "stdout",
     "output_type": "stream",
     "text": [
      "*****************************************************\n",
      "Bienvenue dans le gestionnaire de liste de courses !\n",
      "Menu d'options :\n",
      "1. Ajouter des articles à la liste\n",
      "2. Supprimer des articles de la liste\n",
      "3. Afficher la liste de courses\n",
      "4. Vérifier si un article est dans la liste\n",
      "5. Quitter le programme\n"
     ]
    },
    {
     "name": "stdin",
     "output_type": "stream",
     "text": [
      "Choisissez une option (1/2/3/4/5) :  3\n"
     ]
    },
    {
     "name": "stdout",
     "output_type": "stream",
     "text": [
      "La liste est vide\n",
      "*****************************************************\n",
      "Bienvenue dans le gestionnaire de liste de courses !\n",
      "Menu d'options :\n",
      "1. Ajouter des articles à la liste\n",
      "2. Supprimer des articles de la liste\n",
      "3. Afficher la liste de courses\n",
      "4. Vérifier si un article est dans la liste\n",
      "5. Quitter le programme\n"
     ]
    },
    {
     "name": "stdin",
     "output_type": "stream",
     "text": [
      "Choisissez une option (1/2/3/4/5) :  1\n",
      "Combien d'articles souhaitez-vous ajouter à la liste ?  1\n",
      "Entrez l'article #1 :  radis\n"
     ]
    },
    {
     "name": "stdout",
     "output_type": "stream",
     "text": [
      "1 articles ajoutés à la liste.\n",
      "*****************************************************\n",
      "Bienvenue dans le gestionnaire de liste de courses !\n",
      "Menu d'options :\n",
      "1. Ajouter des articles à la liste\n",
      "2. Supprimer des articles de la liste\n",
      "3. Afficher la liste de courses\n",
      "4. Vérifier si un article est dans la liste\n",
      "5. Quitter le programme\n"
     ]
    },
    {
     "name": "stdin",
     "output_type": "stream",
     "text": [
      "Choisissez une option (1/2/3/4/5) :  3\n"
     ]
    },
    {
     "name": "stdout",
     "output_type": "stream",
     "text": [
      "La liste actuelle est:  ['radis']\n",
      "*****************************************************\n",
      "Bienvenue dans le gestionnaire de liste de courses !\n",
      "Menu d'options :\n",
      "1. Ajouter des articles à la liste\n",
      "2. Supprimer des articles de la liste\n",
      "3. Afficher la liste de courses\n",
      "4. Vérifier si un article est dans la liste\n",
      "5. Quitter le programme\n"
     ]
    },
    {
     "name": "stdin",
     "output_type": "stream",
     "text": [
      "Choisissez une option (1/2/3/4/5) :  5\n"
     ]
    },
    {
     "name": "stdout",
     "output_type": "stream",
     "text": [
      "Merci d'avoir utilisé le gestionnaire de liste de courses. Au revoir !\n"
     ]
    }
   ],
   "source": [
    "# Partie 2: Ajout d'articles\n",
    "liste_courses = []\n",
    "\n",
    "while True:\n",
    "    # Afficher le menu\n",
    "    print(\"*****************************************************\")\n",
    "    print(\"Bienvenue dans le gestionnaire de liste de courses !\")\n",
    "    print(\"Menu d'options :\")\n",
    "    print(\"1. Ajouter des articles à la liste\")\n",
    "    print(\"2. Supprimer des articles de la liste\")\n",
    "    print(\"3. Afficher la liste de courses\")\n",
    "    print(\"4. Vérifier si un article est dans la liste\")\n",
    "    print(\"5. Quitter le programme\")\n",
    "\n",
    "    # Demander à l'utilisateur de choisir une option\n",
    "    choix = input(\"Choisissez une option (1/2/3/4/5) : \")\n",
    "\n",
    "    # Gérer les choix de l'utilisateur\n",
    "    if choix == \"1\":\n",
    "        nombre_articles = int(input(\"Combien d'articles souhaitez-vous ajouter à la liste ? \"))\n",
    "    \n",
    "        # Utiliser une boucle pour saisir les articles et les ajouter à la liste\n",
    "        for i in range(nombre_articles):\n",
    "            article = input(f\"Entrez l'article #{i + 1} : \")\n",
    "            liste_courses.append(article)\n",
    "    \n",
    "        print(f\"{nombre_articles} articles ajoutés à la liste.\")\n",
    "    elif choix == \"2\":\n",
    "        # Partie 3 : Supprimer un article de la liste (à implémenter)\n",
    "        print('Suppression')\n",
    "    elif choix == \"3\":\n",
    "        if len(liste_courses)== 0:\n",
    "            print('La liste est vide')\n",
    "        else:\n",
    "            print('La liste actuelle est: ',liste_courses)\n",
    "    elif choix == \"4\":\n",
    "        # Partie 5 : Vérifier si un article est dans la liste (à implémenter)\n",
    "        print('Vérification présence')\n",
    "    elif choix == \"5\":\n",
    "        # Partie 6 : Quitter le programme\n",
    "        print(\"Merci d'avoir utilisé le gestionnaire de liste de courses. Au revoir !\")\n",
    "        break\n",
    "    else:\n",
    "        print(\"Choix invalide. Veuillez choisir une option valide (1/2/3/4/5).\")\n"
   ]
  },
  {
   "cell_type": "code",
   "execution_count": 18,
   "id": "2a3e46f3-08ad-4776-ae15-6e9b04c5b58b",
   "metadata": {
    "tags": []
   },
   "outputs": [
    {
     "name": "stdout",
     "output_type": "stream",
     "text": [
      "*****************************************************\n",
      "Bienvenue dans le gestionnaire de liste de courses !\n",
      "Menu d'options :\n",
      "1. Ajouter des articles à la liste\n",
      "2. Supprimer des articles de la liste\n",
      "3. Afficher la liste de courses\n",
      "4. Vérifier si un article est dans la liste\n",
      "5. Quitter le programme\n"
     ]
    },
    {
     "name": "stdin",
     "output_type": "stream",
     "text": [
      "Choisissez une option (1/2/3/4/5) :  5\n"
     ]
    },
    {
     "name": "stdout",
     "output_type": "stream",
     "text": [
      "Merci d'avoir utilisé le gestionnaire de liste de courses. Au revoir !\n"
     ]
    }
   ],
   "source": [
    "# Partie 3: Suppression d'articles\n",
    "liste_courses = []\n",
    "\n",
    "while True:\n",
    "    # Afficher le menu\n",
    "    print(\"*****************************************************\")\n",
    "    print(\"Bienvenue dans le gestionnaire de liste de courses !\")\n",
    "    print(\"Menu d'options :\")\n",
    "    print(\"1. Ajouter des articles à la liste\")\n",
    "    print(\"2. Supprimer des articles de la liste\")\n",
    "    print(\"3. Afficher la liste de courses\")\n",
    "    print(\"4. Vérifier si un article est dans la liste\")\n",
    "    print(\"5. Quitter le programme\")\n",
    "\n",
    "    # Demander à l'utilisateur de choisir une option\n",
    "    choix = input(\"Choisissez une option (1/2/3/4/5) : \")\n",
    "\n",
    "    # Gérer les choix de l'utilisateur\n",
    "    if choix == \"1\":\n",
    "        nombre_articles = int(input(\"Combien d'articles souhaitez-vous ajouter à la liste ? \"))\n",
    "    \n",
    "        # Utiliser une boucle pour saisir les articles et les ajouter à la liste\n",
    "        for i in range(nombre_articles):\n",
    "            article = input(f\"Entrez l'article #{i + 1} : \")\n",
    "            liste_courses.append(article)\n",
    "    \n",
    "        print(f\"{nombre_articles} articles ajoutés à la liste.\")\n",
    "    elif choix == \"2\":\n",
    "        article_a_supprimer = input(\"Entrez l'article que vous souhaitez supprimer : \")\n",
    "    \n",
    "        if article_a_supprimer in liste_courses:\n",
    "            liste_courses.remove(article_a_supprimer)\n",
    "            print(f\"{article_a_supprimer} a été supprimé de la liste.\")\n",
    "        else:\n",
    "            print(f\"{article_a_supprimer} n'est pas dans la liste.\")\n",
    "        \n",
    "    elif choix == \"3\":\n",
    "        if len(liste_courses)== 0:\n",
    "            print('La liste est vide')\n",
    "        else:\n",
    "            print('La liste actuelle est: ',liste_courses)\n",
    "    elif choix == \"4\":\n",
    "        # Partie 5 : Vérifier si un article est dans la liste (à implémenter)\n",
    "        print('Vérification présence')\n",
    "    elif choix == \"5\":\n",
    "        # Partie 6 : Quitter le programme\n",
    "        print(\"Merci d'avoir utilisé le gestionnaire de liste de courses. Au revoir !\")\n",
    "        break\n",
    "    else:\n",
    "        print(\"Choix invalide. Veuillez choisir une option valide (1/2/3/4/5).\")"
   ]
  },
  {
   "cell_type": "code",
   "execution_count": 20,
   "id": "159e6beb-5b73-4e7e-9151-1f44764d4797",
   "metadata": {
    "tags": []
   },
   "outputs": [
    {
     "name": "stdout",
     "output_type": "stream",
     "text": [
      "*****************************************************\n",
      "Bienvenue dans le gestionnaire de liste de courses !\n",
      "Menu d'options :\n",
      "1. Ajouter des articles à la liste\n",
      "2. Supprimer des articles de la liste\n",
      "3. Afficher la liste de courses\n",
      "4. Vérifier si un article est dans la liste\n",
      "5. Quitter le programme\n"
     ]
    },
    {
     "name": "stdin",
     "output_type": "stream",
     "text": [
      "Choisissez une option (1/2/3/4/5) :  5\n"
     ]
    },
    {
     "name": "stdout",
     "output_type": "stream",
     "text": [
      "Merci d'avoir utilisé le gestionnaire de liste de courses. Au revoir !\n"
     ]
    }
   ],
   "source": [
    "# Partie 4: Vérification d'articles\n",
    "liste_courses = []\n",
    "\n",
    "while True:\n",
    "    # Afficher le menu\n",
    "    print(\"*****************************************************\")\n",
    "    print(\"Bienvenue dans le gestionnaire de liste de courses !\")\n",
    "    print(\"Menu d'options :\")\n",
    "    print(\"1. Ajouter des articles à la liste\")\n",
    "    print(\"2. Supprimer des articles de la liste\")\n",
    "    print(\"3. Afficher la liste de courses\")\n",
    "    print(\"4. Vérifier si un article est dans la liste\")\n",
    "    print(\"5. Quitter le programme\")\n",
    "\n",
    "    # Demander à l'utilisateur de choisir une option\n",
    "    choix = input(\"Choisissez une option (1/2/3/4/5) : \")\n",
    "\n",
    "    # Gérer les choix de l'utilisateur\n",
    "    if choix == \"1\":\n",
    "        nombre_articles = int(input(\"Combien d'articles souhaitez-vous ajouter à la liste ? \"))\n",
    "    \n",
    "        # Utiliser une boucle pour saisir les articles et les ajouter à la liste\n",
    "        for i in range(nombre_articles):\n",
    "            article = input(f\"Entrez l'article #{i + 1} : \")\n",
    "            liste_courses.append(article)\n",
    "    \n",
    "        print(f\"{nombre_articles} articles ajoutés à la liste.\")\n",
    "    elif choix == \"2\":\n",
    "        article_a_supprimer = input(\"Entrez l'article que vous souhaitez supprimer : \")\n",
    "    \n",
    "        if article_a_supprimer in liste_courses:\n",
    "            liste_courses.remove(article_a_supprimer)\n",
    "            print(f\"{article_a_supprimer} a été supprimé de la liste.\")\n",
    "        else:\n",
    "            print(f\"{article_a_supprimer} n'est pas dans la liste.\")\n",
    "        \n",
    "    elif choix == \"3\":\n",
    "        if len(liste_courses)== 0:\n",
    "            print('La liste est vide')\n",
    "        else:\n",
    "            print('La liste actuelle est: ',liste_courses)\n",
    "    elif choix == \"4\":\n",
    "        article_a_verifier = input(\"Entrez l'article que vous souhaitez vérifier : \")\n",
    "        if article_a_verifier in liste_courses:\n",
    "            print(f\"{article_a_verifier} est dans la liste.\")\n",
    "        else:\n",
    "            print(f\"{article_a_verifier} n'est pas dans la liste.\")\n",
    "    elif choix == \"5\":\n",
    "        # Partie 6 : Quitter le programme\n",
    "        print(\"Merci d'avoir utilisé le gestionnaire de liste de courses. Au revoir !\")\n",
    "        break\n",
    "    else:\n",
    "        print(\"Choix invalide. Veuillez choisir une option valide (1/2/3/4/5).\")"
   ]
  },
  {
   "cell_type": "code",
   "execution_count": null,
   "id": "b4b86527-2da8-4a18-869a-9887c6771e2f",
   "metadata": {},
   "outputs": [],
   "source": []
  },
  {
   "cell_type": "code",
   "execution_count": null,
   "id": "f1b6980f-6d00-4cc7-bf27-219771067344",
   "metadata": {},
   "outputs": [],
   "source": []
  }
 ],
 "metadata": {
  "kernelspec": {
   "display_name": "Python 3 (ipykernel)",
   "language": "python",
   "name": "python3"
  },
  "language_info": {
   "codemirror_mode": {
    "name": "ipython",
    "version": 3
   },
   "file_extension": ".py",
   "mimetype": "text/x-python",
   "name": "python",
   "nbconvert_exporter": "python",
   "pygments_lexer": "ipython3",
   "version": "3.10.13"
  }
 },
 "nbformat": 4,
 "nbformat_minor": 5
}
