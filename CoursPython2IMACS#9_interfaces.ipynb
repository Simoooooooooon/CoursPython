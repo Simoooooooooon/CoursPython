{
 "cells": [
  {
   "cell_type": "markdown",
   "id": "7eabf2be-df5e-4ed9-b4c4-ee6a2d23c641",
   "metadata": {},
   "source": [
    "***\n",
    "# **<center>COURS PYTHON 2IMACS #9</center>**\n",
    "# ***<center>Interfaces graphiques</center>***\n",
    "\n",
    "***"
   ]
  },
  {
   "cell_type": "markdown",
   "id": "bad71043-cd66-4924-bdd4-c47f12806c70",
   "metadata": {},
   "source": [
    "Jusqu'à maintenant, nous avons essentiellemeent utilisé des jupyter notebooks qui sont très pratiques pour l'exploration de données. Cependant dans certains cas, il peut être interessant d'ajouter à nos programmes une interface graphique, dans le cas où notre programme serait amené à être utilisé par de nombreuses personnes par exemple."
   ]
  },
  {
   "cell_type": "markdown",
   "id": "415fb2b8-b558-4733-80b6-471558e61e50",
   "metadata": {},
   "source": [
    "Lancer Spyder"
   ]
  },
  {
   "cell_type": "markdown",
   "id": "f94ce4e2-5a0a-4ec5-a840-3c79723aef16",
   "metadata": {},
   "source": [
    "![spyder](pyqt/Capture2.png)"
   ]
  },
  {
   "cell_type": "markdown",
   "id": "48f35d8a-8781-4f98-aba9-e210ff5d267d",
   "metadata": {},
   "source": [
    "Lancer designer à partir de la fenêtre anaconda prompt"
   ]
  },
  {
   "cell_type": "markdown",
   "id": "5809c6a6-1ee3-4000-995b-290c9982bddf",
   "metadata": {
    "tags": []
   },
   "source": [
    "![prompt](pyqt/Capture3.png)"
   ]
  },
  {
   "cell_type": "markdown",
   "id": "de1c68e9-8019-4f5e-a4b4-79d8a9f23782",
   "metadata": {
    "tags": []
   },
   "source": [
    "![designer](pyqt/Capture1.png)"
   ]
  },
  {
   "cell_type": "markdown",
   "id": "5c0032a5-596e-4a8d-a549-dba91b561da4",
   "metadata": {
    "tags": []
   },
   "source": [
    "Créer une nouvelle MainWindow"
   ]
  },
  {
   "cell_type": "markdown",
   "id": "77d65928-291d-4431-b528-69ede45b94d9",
   "metadata": {
    "tags": []
   },
   "source": [
    "![designer](pyqt/Capture4.png)"
   ]
  },
  {
   "cell_type": "markdown",
   "id": "d3118403-85bd-42be-bf15-8707e1c3a3cb",
   "metadata": {},
   "source": [
    "Et la sauver sous ui0.ui"
   ]
  },
  {
   "cell_type": "markdown",
   "id": "57cbadf4-394f-4fa9-a489-0940eb75975b",
   "metadata": {
    "tags": []
   },
   "source": [
    "![designer](pyqt/Capture5.png)"
   ]
  },
  {
   "cell_type": "markdown",
   "id": "a5614464-0e16-47a6-b85e-6a161fd8d5c9",
   "metadata": {},
   "source": [
    "Dans spyder coller le code suivant et enregistrer le fichier sous le nom \"interfaces0.py\" dans LE MÊME DOSSIER que ui0.ui"
   ]
  },
  {
   "cell_type": "code",
   "execution_count": null,
   "id": "15f764d1-517b-4313-821f-a5cf071fea65",
   "metadata": {
    "tags": []
   },
   "outputs": [],
   "source": [
    "import sys\n",
    "from PyQt5 import   QtWidgets, uic\n",
    "\n",
    "\n",
    "qtCreatorFile = \"ui0.ui\" \n",
    "Ui_MainWindow, QtBaseClass = uic.loadUiType(qtCreatorFile)\n",
    "\n",
    "\n",
    "class MyWindow(QtWidgets.QMainWindow, Ui_MainWindow):\n",
    "    def __init__(self):\n",
    "        QtWidgets.QMainWindow.__init__(self)\n",
    "        Ui_MainWindow.__init__(self)\n",
    "        self.setupUi(self)\n",
    "        \n",
    "\n",
    "\n",
    "if __name__ == \"__main__\":\n",
    "    app = QtWidgets.QApplication(sys.argv)\n",
    "    window = MyWindow()\n",
    "    window.show()\n",
    "    sys.exit(app.exec_())"
   ]
  },
  {
   "cell_type": "markdown",
   "id": "bf6d2cb5-ba2b-455f-a90d-d8b2e8b8b5a2",
   "metadata": {},
   "source": [
    "    import sys : Importe le module système sys qui fournit un accès à certaines variables utilisées ou maintenues par l'interpréteur et à des fonctions qui interagissent fortement avec l'interpréteur.\n",
    "\n",
    "    from PyQt5 import QtWidgets, uic : Importe les modules QtWidgets et uic de la bibliothèque PyQt5. QtWidgets contient des classes pour créer des interfaces graphiques, tandis que uic est utilisé pour charger l'interface utilisateur à partir d'un fichier .ui généré par Qt Designer.\n",
    "\n",
    "    qtCreatorFile = \"ui0.ui\" : Spécifie le nom du fichier .ui généré par Qt Designer. Assurez-vous de mettre le bon nom de fichier ici.\n",
    "\n",
    "    Ui_MainWindow, QtBaseClass = uic.loadUiType(qtCreatorFile) : Charge l'interface utilisateur à partir du fichier .ui et renvoie deux classes : Ui_MainWindow qui représente la fenêtre principale de l'interface utilisateur, et QtBaseClass qui est une classe de base pour créer la fenêtre principale de l'application.\n",
    "\n",
    "    class MyWindow(QtWidgets.QMainWindow, Ui_MainWindow): : Définit une nouvelle classe MyWindow qui hérite à la fois de la classe QtWidgets.QMainWindow et de la classe Ui_MainWindow.\n",
    "\n",
    "    def __init__(self): : Définit le constructeur de la classe MyWindow.\n",
    "\n",
    "    QtWidgets.QMainWindow.__init__(self) : Initialise la classe parente QtWidgets.QMainWindow.\n",
    "\n",
    "    Ui_MainWindow.__init__(self) : Initialise la classe parente Ui_MainWindow pour configurer l'interface utilisateur.\n",
    "\n",
    "    self.setupUi(self) : Configure l'interface utilisateur à l'intérieur de la fenêtre principale.\n",
    "\n",
    "    if __name__ == \"__main__\": : Vérifie si le script est exécuté directement et non importé en tant que module.\n",
    "\n",
    "    app = QtWidgets.QApplication(sys.argv) : Crée une instance de l'application Qt. sys.argv est une liste d'arguments de ligne de commande, et QApplication les utilise pour initialiser l'application.\n",
    "\n",
    "    window = MyWindow() : Crée une instance de la classe MyWindow.\n",
    "\n",
    "    window.show() : Affiche la fenêtre à l'écran.\n",
    "\n",
    "    sys.exit(app.exec_()) : Exécute la boucle principale de l'application Qt jusqu'à ce que l'application se termine, puis renvoie le code de sortie approprié."
   ]
  },
  {
   "cell_type": "markdown",
   "id": "e425e7b8-1d3c-42c8-b971-d153e6bb499a",
   "metadata": {
    "tags": []
   },
   "source": [
    "Et éxecuter:"
   ]
  },
  {
   "cell_type": "markdown",
   "id": "2cf006a3-278b-425f-a67f-3750059f2d21",
   "metadata": {
    "tags": []
   },
   "source": [
    "![designer](pyqt/Capture6.png)"
   ]
  },
  {
   "cell_type": "markdown",
   "id": "f0857fa4-b6c6-4e5e-8605-c59ab85ab103",
   "metadata": {
    "tags": []
   },
   "source": [
    "Vous devriez obtenir une fenêtre"
   ]
  },
  {
   "cell_type": "markdown",
   "id": "a3b5fa96-da64-4dee-a70d-86d3b0f3b34c",
   "metadata": {},
   "source": [
    "![designer](pyqt/Capture7.png)"
   ]
  },
  {
   "cell_type": "markdown",
   "id": "6c86cf95-9a97-4194-9892-d8256f6bbd4b",
   "metadata": {},
   "source": [
    "Dans certaines configurations, pour relancer par la suite, vous pourriez avoir besoin de redemarrer le noyau c'est dû à une mauvaise fermeture de la fenêtre:"
   ]
  },
  {
   "cell_type": "markdown",
   "id": "0a133f9a-3e0f-42e0-aae8-27ad78d7b0f0",
   "metadata": {},
   "source": [
    "![designer](pyqt/Capture8.png)"
   ]
  },
  {
   "cell_type": "markdown",
   "id": "629cf964-0e21-4c59-b321-2a5436d53405",
   "metadata": {},
   "source": [
    "Pour éviter cela, ajouter un bouton 'Quit'. Pour celà retourner dans designer et faire glisser un 'Push Buton' sur la fenêtre. \n",
    "Modifier le 'Object Name ' en 'Quit', ça sera le nom de notre boutton, c'est comme ça qu'on pourra l'appeler dans le code.\n",
    "Enregistrer le fichier ui.\n",
    "On peut aussi double cliquer sur le boutone et changer son texte (l'appeler 'Quit' par exemple)"
   ]
  },
  {
   "cell_type": "markdown",
   "id": "b47a011a-1986-4ed3-bb73-2f234e9438b0",
   "metadata": {},
   "source": [
    "![designer](pyqt/Capture9.png)"
   ]
  },
  {
   "cell_type": "markdown",
   "id": "c38dd763-6c40-4d75-9bf6-8f942a65e1c3",
   "metadata": {
    "tags": []
   },
   "source": [
    "![designer](pyqt/Capture10.png)"
   ]
  },
  {
   "cell_type": "markdown",
   "id": "da30e6df-5667-496c-8729-301b31e57170",
   "metadata": {},
   "source": [
    "Modifier le code. "
   ]
  },
  {
   "cell_type": "code",
   "execution_count": null,
   "id": "c3fa5186-d386-47a6-ba64-faba707db7b0",
   "metadata": {},
   "outputs": [],
   "source": [
    "import sys\n",
    "from PyQt5 import   QtWidgets, uic\n",
    "\n",
    "\n",
    "qtCreatorFile = \"ui0.ui\" # Enter file here.\n",
    "Ui_MainWindow, QtBaseClass = uic.loadUiType(qtCreatorFile)\n",
    "\n",
    "\n",
    "class MyWindow(QtWidgets.QMainWindow, Ui_MainWindow):\n",
    "    def __init__(self):\n",
    "        QtWidgets.QMainWindow.__init__(self)\n",
    "        Ui_MainWindow.__init__(self)\n",
    "        self.setupUi(self)\n",
    "        \n",
    "        self.pushButton_quit.clicked.connect(self.quit)       \n",
    "        \n",
    "    def quit(self):   \n",
    "        self.close()\n",
    " \n",
    "if __name__ == \"__main__\":\n",
    "    app = QtWidgets.QApplication(sys.argv)\n",
    "    window = MyWindow()\n",
    "    window.show()\n",
    "    sys.exit(app.exec_())\n",
    "    "
   ]
  },
  {
   "cell_type": "markdown",
   "id": "20521ba4-e490-4a17-926c-23433d323361",
   "metadata": {},
   "source": [
    "On a ajouté la fonction quit qui contient les instructions pour quitter correctement la fenêtre:"
   ]
  },
  {
   "cell_type": "code",
   "execution_count": null,
   "id": "fcba3de8-aa27-42e2-90d1-730ed358c31b",
   "metadata": {},
   "outputs": [],
   "source": [
    "    def quit(self):   \n",
    "        self.close()"
   ]
  },
  {
   "cell_type": "markdown",
   "id": "54ee214c-d437-48ca-a1d4-5c7fd4c56081",
   "metadata": {},
   "source": [
    "et on a relié le bouton (self.pushButton_quit) à la fonction (self.quit)"
   ]
  },
  {
   "cell_type": "code",
   "execution_count": null,
   "id": "0461f81a-5359-4e90-aca4-786223edb407",
   "metadata": {},
   "outputs": [],
   "source": [
    "self.pushButton_quit.clicked.connect(self.quit)"
   ]
  },
  {
   "cell_type": "markdown",
   "id": "b9ed6c32-3a1c-4835-9981-7f5ed5478705",
   "metadata": {},
   "source": [
    "Ajouter maintenant un menu File -> Open (il faut faire double clic pour modifier)"
   ]
  },
  {
   "cell_type": "markdown",
   "id": "cd9bf270-257c-4d0b-8e90-3847e4ccea46",
   "metadata": {
    "tags": []
   },
   "source": [
    "![designer](pyqt/Capture11.png)"
   ]
  },
  {
   "cell_type": "markdown",
   "id": "e8a732f8-aa9d-43f0-943c-b92844916e94",
   "metadata": {},
   "source": [
    "Modifier le code, d'abord définissons une fonction ouvrir"
   ]
  },
  {
   "cell_type": "code",
   "execution_count": null,
   "id": "76f4c848-8202-467d-9271-5c4ff25274aa",
   "metadata": {},
   "outputs": [],
   "source": [
    "def ouvrir(self):\n",
    "        options = QFileDialog.Options()\n",
    "        fileName, _ = QFileDialog.getOpenFileName(self, \"Ouvrir un fichier\", \"\", \"Tous les fichiers (*);;Fichiers texte (*.txt)\", options=options)\n",
    "        if fileName:\n",
    "            print(\"Fichier sélectionné :\", fileName)"
   ]
  },
  {
   "cell_type": "markdown",
   "id": "e21a6bbd-420d-4253-9151-5909d615cc3d",
   "metadata": {},
   "source": [
    "Importer les compléments de librairie pour la boite de dialogue:"
   ]
  },
  {
   "cell_type": "code",
   "execution_count": null,
   "id": "03e85273-34b6-4e98-8da0-4293ad8cd2c5",
   "metadata": {},
   "outputs": [],
   "source": [
    "from PyQt5.QtWidgets import QFileDialog"
   ]
  },
  {
   "cell_type": "markdown",
   "id": "ead901ec-d20d-4a06-8a7f-069714238381",
   "metadata": {},
   "source": [
    "Puis relier la fonction à l'action du menu"
   ]
  },
  {
   "cell_type": "code",
   "execution_count": null,
   "id": "7295b7c1-5113-4a03-8d9a-239c05518944",
   "metadata": {},
   "outputs": [],
   "source": [
    " self.actionOpen.triggered.connect(self.ouvrir)"
   ]
  },
  {
   "cell_type": "markdown",
   "id": "21a027b6-4ecc-4d7b-aed0-c4275c416c59",
   "metadata": {},
   "source": [
    "Une fois que ceci fonctionne essayons de mettre une réelle fonction d'ouverture de fichier"
   ]
  },
  {
   "cell_type": "code",
   "execution_count": null,
   "id": "6dd3c356-9414-4685-a4cb-6baf3f6f4507",
   "metadata": {},
   "outputs": [],
   "source": [
    "def ouvrir(self):\n",
    "        options = QFileDialog.Options()\n",
    "        fileName, _ = QFileDialog.getOpenFileName(self, \"Ouvrir un fichier\", \"\", \"Tous les fichiers (*);;Fichiers texte (*.txt)\", options=options)\n",
    "        if fileName:\n",
    "            print(\"Fichier sélectionné :\", fileName)\n",
    "            with open(fileName, \"r\") as file:\n",
    "                contenu = file.read()\n",
    "                print(\"Contenu du fichier :\", contenu)"
   ]
  },
  {
   "cell_type": "markdown",
   "id": "bc34360b-da87-442e-af34-58f3a41aa064",
   "metadata": {},
   "source": [
    "Et essayer d'ouvrir un fichier texte créés ou chapitre précédent"
   ]
  },
  {
   "cell_type": "markdown",
   "id": "7bcbff4c-5268-4333-8847-63f1e32fec70",
   "metadata": {
    "tags": []
   },
   "source": [
    "Lire maintenant les contenus du fichier texte (choisir un fichier de 2 colonnes avec comme séparation une tabulation, les fichiers de exercice 1 par exemple)"
   ]
  },
  {
   "cell_type": "code",
   "execution_count": 3,
   "id": "9810ddc7-aacd-44ab-883e-9ac0a1c88e51",
   "metadata": {
    "tags": []
   },
   "outputs": [],
   "source": [
    "import pandas as pd"
   ]
  },
  {
   "cell_type": "code",
   "execution_count": 4,
   "id": "a67940d5-356b-4b62-b8a8-c6241456d83b",
   "metadata": {
    "tags": []
   },
   "outputs": [],
   "source": [
    " def ouvrir(self):\n",
    "        options = QFileDialog.Options()\n",
    "        fileName, _ = QFileDialog.getOpenFileName(self, \"Ouvrir un fichier\", \"\", \"Fichiers texte (*.txt)\", options=options)\n",
    "        if fileName:\n",
    "            print(\"Fichier sélectionné :\", fileName)\n",
    "            df = pd.read_csv(fileName, sep='\\t', header=0, usecols=[0, 1])\n",
    "            data = df.values\n",
    "            print(\"Données extraites :\", data)"
   ]
  },
  {
   "cell_type": "markdown",
   "id": "6653416c-271a-4b2c-a947-adfc32a75500",
   "metadata": {},
   "source": [
    "Ajoutons maintenant un Graphique. Pour celà commencer pas faire glisser un Widget (dans la rubriqye containers). Modifier son Object name en plot_widget"
   ]
  },
  {
   "cell_type": "markdown",
   "id": "0bb49e24-2fc7-481a-8eee-1f64985249a9",
   "metadata": {},
   "source": [
    "![designer](pyqt/Capture14.png)"
   ]
  },
  {
   "cell_type": "markdown",
   "id": "98150ab3-9ea2-4bff-82ea-892fae70bcda",
   "metadata": {},
   "source": [
    "Une fois que le widget est en place dans la fenetre, clic droit pour le promouvoir, c'est a dire le transformer en objet graphique pyqtgraph"
   ]
  },
  {
   "cell_type": "markdown",
   "id": "04cedfc3-f81f-4e83-8dd5-7c9a3b7f35be",
   "metadata": {
    "tags": []
   },
   "source": [
    "![designer](pyqt/Capture12.png)"
   ]
  },
  {
   "cell_type": "markdown",
   "id": "07515103-f9e8-45c1-bd3a-e13221874de7",
   "metadata": {},
   "source": [
    "Remplir le nom de la classe promue et fichier d'en tête comme ci-dessous. Ajouter / Promouvoir"
   ]
  },
  {
   "cell_type": "markdown",
   "id": "79f5b14f-e62c-415d-9f59-51ce14495764",
   "metadata": {},
   "source": [
    "![designer](pyqt/Capture13.png)"
   ]
  },
  {
   "cell_type": "markdown",
   "id": "b60314a9-c079-42b8-9197-353800575dd5",
   "metadata": {},
   "source": [
    "modifier le code python:"
   ]
  },
  {
   "cell_type": "code",
   "execution_count": 1,
   "id": "ceb364a4-cf38-4bf8-a37b-f87c3c5c691d",
   "metadata": {},
   "outputs": [
    {
     "ename": "ModuleNotFoundError",
     "evalue": "No module named 'pyqtgraph'",
     "output_type": "error",
     "traceback": [
      "\u001b[1;31m---------------------------------------------------------------------------\u001b[0m",
      "\u001b[1;31mModuleNotFoundError\u001b[0m                       Traceback (most recent call last)",
      "Cell \u001b[1;32mIn[1], line 2\u001b[0m\n\u001b[0;32m      1\u001b[0m \u001b[38;5;66;03m#importer la bibliothèque pyqtgraph\u001b[39;00m\n\u001b[1;32m----> 2\u001b[0m \u001b[38;5;28;01mimport\u001b[39;00m \u001b[38;5;21;01mpyqtgraph\u001b[39;00m \u001b[38;5;28;01mas\u001b[39;00m \u001b[38;5;21;01mpg\u001b[39;00m\n",
      "\u001b[1;31mModuleNotFoundError\u001b[0m: No module named 'pyqtgraph'"
     ]
    }
   ],
   "source": [
    "#importer la bibliothèque pyqtgraph\n",
    "import pyqtgraph as pg"
   ]
  },
  {
   "cell_type": "code",
   "execution_count": null,
   "id": "ea637846-e01e-4599-b950-ecfbbe9224b8",
   "metadata": {},
   "outputs": [],
   "source": [
    "#ajouter une fonction plot\n",
    " def plot(self):\n",
    "        self.plot_widget.plot(self.data, pen=pg.mkPen(color='r', width=2))  # Tracer les données data dans le widget appelé plot_widget dans notre ui"
   ]
  },
  {
   "cell_type": "markdown",
   "id": "023da6ed-5ea3-4b71-a999-c12a89ff97a6",
   "metadata": {},
   "source": [
    "modifier la fonction ouvrir en ajoutant:"
   ]
  },
  {
   "cell_type": "code",
   "execution_count": null,
   "id": "f2d677c0-649f-4f6d-9724-7a058975a061",
   "metadata": {},
   "outputs": [],
   "source": [
    "self.data = df.values # on ajoute self pour pouvoir utiliser la variable dans une autre fonction de la classe\n",
    "self.plot()  # on appelle la fonction qui trace le graph pour que le graph soit ploté quand on ouvre le fichier"
   ]
  },
  {
   "cell_type": "markdown",
   "id": "91656582-332a-4067-866e-673752df8625",
   "metadata": {},
   "source": [
    "A cette étape le code complet est (interfaces3.py) :"
   ]
  },
  {
   "cell_type": "code",
   "execution_count": 2,
   "id": "1d0f3bf0-d57e-4cca-a903-ce56975e7dfc",
   "metadata": {},
   "outputs": [
    {
     "ename": "FileNotFoundError",
     "evalue": "[Errno 2] No such file or directory: 'ui0.ui'",
     "output_type": "error",
     "traceback": [
      "\u001b[1;31m---------------------------------------------------------------------------\u001b[0m",
      "\u001b[1;31mFileNotFoundError\u001b[0m                         Traceback (most recent call last)",
      "Cell \u001b[1;32mIn[2], line 9\u001b[0m\n\u001b[0;32m      5\u001b[0m \u001b[38;5;28;01mimport\u001b[39;00m \u001b[38;5;21;01mpyqtgraph\u001b[39;00m \u001b[38;5;28;01mas\u001b[39;00m \u001b[38;5;21;01mpg\u001b[39;00m\n\u001b[0;32m      8\u001b[0m qtCreatorFile \u001b[38;5;241m=\u001b[39m \u001b[38;5;124m\"\u001b[39m\u001b[38;5;124mui0.ui\u001b[39m\u001b[38;5;124m\"\u001b[39m \u001b[38;5;66;03m# Enter file here.\u001b[39;00m\n\u001b[1;32m----> 9\u001b[0m Ui_MainWindow, QtBaseClass \u001b[38;5;241m=\u001b[39m \u001b[43muic\u001b[49m\u001b[38;5;241;43m.\u001b[39;49m\u001b[43mloadUiType\u001b[49m\u001b[43m(\u001b[49m\u001b[43mqtCreatorFile\u001b[49m\u001b[43m)\u001b[49m\n\u001b[0;32m     12\u001b[0m \u001b[38;5;28;01mclass\u001b[39;00m \u001b[38;5;21;01mMyWindow\u001b[39;00m(QtWidgets\u001b[38;5;241m.\u001b[39mQMainWindow, Ui_MainWindow):\n\u001b[0;32m     13\u001b[0m     \u001b[38;5;28;01mdef\u001b[39;00m \u001b[38;5;21m__init__\u001b[39m(\u001b[38;5;28mself\u001b[39m):\n",
      "File \u001b[1;32m~\\Anaconda3\\envs\\cours2imacs\\lib\\site-packages\\PyQt5\\uic\\__init__.py:203\u001b[0m, in \u001b[0;36mloadUiType\u001b[1;34m(uifile, from_imports, resource_suffix, import_from)\u001b[0m\n\u001b[0;32m    200\u001b[0m     \u001b[38;5;28;01mfrom\u001b[39;00m \u001b[38;5;21;01m.\u001b[39;00m\u001b[38;5;21;01mport_v2\u001b[39;00m\u001b[38;5;21;01m.\u001b[39;00m\u001b[38;5;21;01mstring_io\u001b[39;00m \u001b[38;5;28;01mimport\u001b[39;00m StringIO\n\u001b[0;32m    202\u001b[0m code_string \u001b[38;5;241m=\u001b[39m StringIO()\n\u001b[1;32m--> 203\u001b[0m winfo \u001b[38;5;241m=\u001b[39m \u001b[43mcompiler\u001b[49m\u001b[38;5;241;43m.\u001b[39;49m\u001b[43mUICompiler\u001b[49m\u001b[43m(\u001b[49m\u001b[43m)\u001b[49m\u001b[38;5;241;43m.\u001b[39;49m\u001b[43mcompileUi\u001b[49m\u001b[43m(\u001b[49m\u001b[43muifile\u001b[49m\u001b[43m,\u001b[49m\u001b[43m \u001b[49m\u001b[43mcode_string\u001b[49m\u001b[43m,\u001b[49m\u001b[43m \u001b[49m\u001b[43mfrom_imports\u001b[49m\u001b[43m,\u001b[49m\n\u001b[0;32m    204\u001b[0m \u001b[43m        \u001b[49m\u001b[43mresource_suffix\u001b[49m\u001b[43m,\u001b[49m\u001b[43m \u001b[49m\u001b[43mimport_from\u001b[49m\u001b[43m)\u001b[49m\n\u001b[0;32m    206\u001b[0m ui_globals \u001b[38;5;241m=\u001b[39m {}\n\u001b[0;32m    207\u001b[0m exec(code_string\u001b[38;5;241m.\u001b[39mgetvalue(), ui_globals)\n",
      "File \u001b[1;32m~\\Anaconda3\\envs\\cours2imacs\\lib\\site-packages\\PyQt5\\uic\\Compiler\\compiler.py:111\u001b[0m, in \u001b[0;36mUICompiler.compileUi\u001b[1;34m(self, input_stream, output_stream, from_imports, resource_suffix, import_from)\u001b[0m\n\u001b[0;32m    109\u001b[0m \u001b[38;5;28;01mdef\u001b[39;00m \u001b[38;5;21mcompileUi\u001b[39m(\u001b[38;5;28mself\u001b[39m, input_stream, output_stream, from_imports, resource_suffix, import_from):\n\u001b[0;32m    110\u001b[0m     createCodeIndenter(output_stream)\n\u001b[1;32m--> 111\u001b[0m     w \u001b[38;5;241m=\u001b[39m \u001b[38;5;28;43mself\u001b[39;49m\u001b[38;5;241;43m.\u001b[39;49m\u001b[43mparse\u001b[49m\u001b[43m(\u001b[49m\u001b[43minput_stream\u001b[49m\u001b[43m,\u001b[49m\u001b[43m \u001b[49m\u001b[43mresource_suffix\u001b[49m\u001b[43m)\u001b[49m\n\u001b[0;32m    113\u001b[0m     \u001b[38;5;28mself\u001b[39m\u001b[38;5;241m.\u001b[39mfactory\u001b[38;5;241m.\u001b[39m_cpolicy\u001b[38;5;241m.\u001b[39m_writeOutImports()\n\u001b[0;32m    115\u001b[0m     \u001b[38;5;28;01mfor\u001b[39;00m res \u001b[38;5;129;01min\u001b[39;00m \u001b[38;5;28mself\u001b[39m\u001b[38;5;241m.\u001b[39m_resources:\n",
      "File \u001b[1;32m~\\Anaconda3\\envs\\cours2imacs\\lib\\site-packages\\PyQt5\\uic\\uiparser.py:1020\u001b[0m, in \u001b[0;36mUIParser.parse\u001b[1;34m(self, filename, resource_suffix)\u001b[0m\n\u001b[0;32m   1006\u001b[0m \u001b[38;5;66;03m# The order in which the different branches are handled is important.\u001b[39;00m\n\u001b[0;32m   1007\u001b[0m \u001b[38;5;66;03m# The widget tree handler relies on all custom widgets being known, and\u001b[39;00m\n\u001b[0;32m   1008\u001b[0m \u001b[38;5;66;03m# in order to create the connections, all widgets have to be populated.\u001b[39;00m\n\u001b[0;32m   1009\u001b[0m branchHandlers \u001b[38;5;241m=\u001b[39m (\n\u001b[0;32m   1010\u001b[0m     (\u001b[38;5;124m\"\u001b[39m\u001b[38;5;124mlayoutdefault\u001b[39m\u001b[38;5;124m\"\u001b[39m, \u001b[38;5;28mself\u001b[39m\u001b[38;5;241m.\u001b[39mreadDefaults),\n\u001b[0;32m   1011\u001b[0m     (\u001b[38;5;124m\"\u001b[39m\u001b[38;5;124mclass\u001b[39m\u001b[38;5;124m\"\u001b[39m,         \u001b[38;5;28mself\u001b[39m\u001b[38;5;241m.\u001b[39mclassname),\n\u001b[1;32m   (...)\u001b[0m\n\u001b[0;32m   1017\u001b[0m     (\u001b[38;5;124m\"\u001b[39m\u001b[38;5;124mresources\u001b[39m\u001b[38;5;124m\"\u001b[39m,     \u001b[38;5;28mself\u001b[39m\u001b[38;5;241m.\u001b[39mreadResources),\n\u001b[0;32m   1018\u001b[0m )\n\u001b[1;32m-> 1020\u001b[0m document \u001b[38;5;241m=\u001b[39m \u001b[43mparse\u001b[49m\u001b[43m(\u001b[49m\u001b[43mfilename\u001b[49m\u001b[43m)\u001b[49m\n\u001b[0;32m   1021\u001b[0m root \u001b[38;5;241m=\u001b[39m document\u001b[38;5;241m.\u001b[39mgetroot()\n\u001b[0;32m   1023\u001b[0m \u001b[38;5;28;01mif\u001b[39;00m root\u001b[38;5;241m.\u001b[39mtag \u001b[38;5;241m!=\u001b[39m \u001b[38;5;124m'\u001b[39m\u001b[38;5;124mui\u001b[39m\u001b[38;5;124m'\u001b[39m:\n",
      "File \u001b[1;32m~\\Anaconda3\\envs\\cours2imacs\\lib\\xml\\etree\\ElementTree.py:1222\u001b[0m, in \u001b[0;36mparse\u001b[1;34m(source, parser)\u001b[0m\n\u001b[0;32m   1213\u001b[0m \u001b[38;5;250m\u001b[39m\u001b[38;5;124;03m\"\"\"Parse XML document into element tree.\u001b[39;00m\n\u001b[0;32m   1214\u001b[0m \n\u001b[0;32m   1215\u001b[0m \u001b[38;5;124;03m*source* is a filename or file object containing XML data,\u001b[39;00m\n\u001b[1;32m   (...)\u001b[0m\n\u001b[0;32m   1219\u001b[0m \n\u001b[0;32m   1220\u001b[0m \u001b[38;5;124;03m\"\"\"\u001b[39;00m\n\u001b[0;32m   1221\u001b[0m tree \u001b[38;5;241m=\u001b[39m ElementTree()\n\u001b[1;32m-> 1222\u001b[0m \u001b[43mtree\u001b[49m\u001b[38;5;241;43m.\u001b[39;49m\u001b[43mparse\u001b[49m\u001b[43m(\u001b[49m\u001b[43msource\u001b[49m\u001b[43m,\u001b[49m\u001b[43m \u001b[49m\u001b[43mparser\u001b[49m\u001b[43m)\u001b[49m\n\u001b[0;32m   1223\u001b[0m \u001b[38;5;28;01mreturn\u001b[39;00m tree\n",
      "File \u001b[1;32m~\\Anaconda3\\envs\\cours2imacs\\lib\\xml\\etree\\ElementTree.py:569\u001b[0m, in \u001b[0;36mElementTree.parse\u001b[1;34m(self, source, parser)\u001b[0m\n\u001b[0;32m    567\u001b[0m close_source \u001b[38;5;241m=\u001b[39m \u001b[38;5;28;01mFalse\u001b[39;00m\n\u001b[0;32m    568\u001b[0m \u001b[38;5;28;01mif\u001b[39;00m \u001b[38;5;129;01mnot\u001b[39;00m \u001b[38;5;28mhasattr\u001b[39m(source, \u001b[38;5;124m\"\u001b[39m\u001b[38;5;124mread\u001b[39m\u001b[38;5;124m\"\u001b[39m):\n\u001b[1;32m--> 569\u001b[0m     source \u001b[38;5;241m=\u001b[39m \u001b[38;5;28;43mopen\u001b[39;49m\u001b[43m(\u001b[49m\u001b[43msource\u001b[49m\u001b[43m,\u001b[49m\u001b[43m \u001b[49m\u001b[38;5;124;43m\"\u001b[39;49m\u001b[38;5;124;43mrb\u001b[39;49m\u001b[38;5;124;43m\"\u001b[39;49m\u001b[43m)\u001b[49m\n\u001b[0;32m    570\u001b[0m     close_source \u001b[38;5;241m=\u001b[39m \u001b[38;5;28;01mTrue\u001b[39;00m\n\u001b[0;32m    571\u001b[0m \u001b[38;5;28;01mtry\u001b[39;00m:\n",
      "\u001b[1;31mFileNotFoundError\u001b[0m: [Errno 2] No such file or directory: 'ui0.ui'"
     ]
    }
   ],
   "source": [
    "import sys\n",
    "from PyQt5 import  QtWidgets, uic\n",
    "from PyQt5.QtWidgets import QFileDialog\n",
    "import pandas as pd\n",
    "import pyqtgraph as pg\n",
    "\n",
    "\n",
    "qtCreatorFile = \"ui0.ui\" # Enter file here.\n",
    "Ui_MainWindow, QtBaseClass = uic.loadUiType(qtCreatorFile)\n",
    "\n",
    "\n",
    "class MyWindow(QtWidgets.QMainWindow, Ui_MainWindow):\n",
    "    def __init__(self):\n",
    "        QtWidgets.QMainWindow.__init__(self)\n",
    "        Ui_MainWindow.__init__(self)\n",
    "        self.setupUi(self)\n",
    "        \n",
    "        self.pushButton_quit.clicked.connect(self.quit)\n",
    "        self.actionOpen.triggered.connect(self.ouvrir)\n",
    "        \n",
    "        \n",
    "\n",
    "    def quit(self):   \n",
    "        self.close()\n",
    "        \n",
    "    def ouvrir(self):\n",
    "        options = QFileDialog.Options()\n",
    "        fileName, _ = QFileDialog.getOpenFileName(self, \"Ouvrir un fichier\", \"\", \"Fichiers texte (*.txt)\", options=options)\n",
    "        if fileName:\n",
    "            print(\"Fichier sélectionné :\", fileName)\n",
    "            df = pd.read_csv(fileName, sep='\\t', header=0, usecols=[0, 1])\n",
    "            self.data = df.values # on ajoute self pour pouvoir utiliser la variable dans une autre fonction de la classe\n",
    "            print(\"Données extraites :\", self.data)\n",
    "            self.plot()  # on appelle la fonction qui trace le graph\n",
    "\n",
    "    def plot(self):\n",
    "        self.plot_widget.plot(self.data, pen=pg.mkPen(color='r', width=2))  # Tracer les données (x, y)\n",
    "\n",
    "if __name__ == \"__main__\":\n",
    "    app = QtWidgets.QApplication(sys.argv)\n",
    "    window = MyWindow()\n",
    "    window.show()\n",
    "    sys.exit(app.exec_())\n"
   ]
  },
  {
   "cell_type": "markdown",
   "id": "78bb2b5e-2a74-4160-a96a-bc921b652782",
   "metadata": {},
   "source": [
    "Ajouter maintenant une liste déroulante (Combo Box dans la rubrique Input Widget). Dans 'Input Widget', selectionner et faire glisser dans la fenêtre une 'ComboBox' et modifier son nom en 'Ma_comboBox' Un double clic sur la combo box dans la fenêtre permet de faire apparaitre la fenetre suivante. Avec le '+' vert ajouter les lignes:\n",
    "- Minimum\n",
    "- Maximum\n",
    "- Moyenne\n",
    "- Ecart Type"
   ]
  },
  {
   "cell_type": "markdown",
   "id": "b5dc96b7-5bfc-489a-98f0-12bedbbfc562",
   "metadata": {},
   "source": [
    "![designer](pyqt/Capture15.png)"
   ]
  },
  {
   "cell_type": "markdown",
   "id": "45be3732-09a9-41d2-b8c0-a0e207484a78",
   "metadata": {},
   "source": [
    "![designer](pyqt/Capture16.png)"
   ]
  },
  {
   "cell_type": "markdown",
   "id": "d69aa1c8-9047-48e0-999a-5e187e8ee02e",
   "metadata": {
    "tags": []
   },
   "source": [
    "Il faut maintenant changer le code python. Commencer par Ajouter dans l'initialisation de la classe la connexion la connextion de la ComboBox à une fonction calculs.  "
   ]
  },
  {
   "cell_type": "code",
   "execution_count": null,
   "id": "9c6a5f71-8a11-427c-b6d4-6caa47ca9853",
   "metadata": {},
   "outputs": [],
   "source": [
    "# Connexion du signal activated de la combobox à la fonction calculs\n",
    "self.Ma_comboBox.activated.connect(self.calculs)"
   ]
  },
  {
   "cell_type": "markdown",
   "id": "116735c2-fea1-44e5-b064-86ae0e3a6402",
   "metadata": {},
   "source": [
    "Et definir la fonction qui calculera nos differentes grandeurs. (Il faudra ajouter l'importation de numpy)"
   ]
  },
  {
   "cell_type": "code",
   "execution_count": null,
   "id": "bc512669-d4c2-4d2c-ae97-64841d872be2",
   "metadata": {},
   "outputs": [],
   "source": [
    "def calculs(self):\n",
    "       # Accéder à la deuxième colonne du numpy array\n",
    "       selected_item = self.Ma_comboBox.currentText()\n",
    "\n",
    "       # Effectuer les calculs en fonction de l'élément sélectionné\n",
    "       if selected_item == \"Minimum\":\n",
    "           result = np.min(self.data[:, 1])\n",
    "       elif selected_item == \"Maximum\":\n",
    "           result = np.max(self.data[:, 1])\n",
    "       elif selected_item == \"Moyenne\":\n",
    "           result = np.mean(self.data[:, 1])\n",
    "       elif selected_item == \"Écart type\":\n",
    "           result = np.std(self.data[:, 1])\n",
    "       else:\n",
    "           result = None\n",
    "       print(result)"
   ]
  },
  {
   "cell_type": "markdown",
   "id": "d75a2495-383a-430a-8721-99312715667e",
   "metadata": {},
   "source": [
    "Nous avons maintenant un programme qui affiche les differentes valeurs à partir d'une fonction print. Le résultat n'apparait pas dans notre fenetre, pour régler ce problème, Ajouter également également une 'label' dans 'Display' Widget et changer le ObjectName en 'Ma_label'\n",
    "Modifier la fonction calculs de maniere à faire un affichage par notre label."
   ]
  },
  {
   "cell_type": "code",
   "execution_count": null,
   "id": "b96666bd-b73e-42ed-9a5c-ff76be886c7c",
   "metadata": {},
   "outputs": [],
   "source": [
    "      def calculs(self):\n",
    "    # Récupérer la sélection de la combobox\n",
    "        selected_item = self.Ma_comboBox.currentText()\n",
    "\n",
    "        # Effectuer les calculs en fonction de l'élément sélectionné\n",
    "        if selected_item == \"Minimum\":\n",
    "            result = np.min(self.data[:, 1])\n",
    "        elif selected_item == \"Maximum\":\n",
    "            result = np.max(self.data[:, 1])\n",
    "        elif selected_item == \"Moyenne\":\n",
    "            result = np.mean(self.data[:, 1])\n",
    "        elif selected_item == \"Ecart Type\":\n",
    "            result = np.std(self.data[:, 1])\n",
    "        else:\n",
    "            result = None\n",
    "\n",
    "        # Afficher le résultat dans le label\n",
    "        if result is not None:\n",
    "            texte_affichage = selected_item+': '+\": {:.3f}\".format(result)\n",
    "            print(texte_affichage)\n",
    "            self.Ma_label.setText(texte_affichage)\n",
    "        else:\n",
    "            self.Ma_label.setText(\"\")"
   ]
  },
  {
   "cell_type": "markdown",
   "id": "e8789dfa-6753-47af-80e4-1dc0ac8c18a3",
   "metadata": {},
   "source": [
    "A ce stade, le programme est fonctionnel, mais la présentation de la fenêtre est loin d'être optimale. Les alignement des boutons et des widgets ne sont pas parfaits et lorsque que l'on réduit la dimension de la fenêtre, une partie devient inaccessible. Pour régler ce problème, nous allons utiliser les layouts:\n",
    " - Selectionner un 'Horizontal Layout' et le faire glisser dans la fenêtre\n",
    " - Faire glisser dans ce layout la combo box, le label et le bouton quit\n",
    " - Selectionner un 'Vertical Layout' et le faire glisser dans la fenêtre\n",
    " - Faire glisser dans ce layout le layout horizontal que l'on vient de faire et le graph widget\n",
    "\n",
    "Selectionner ensuite \"Mettre en page dans une grille\""
   ]
  },
  {
   "cell_type": "markdown",
   "id": "fdad4d72-e47c-4d8c-b570-ae45337a4d4e",
   "metadata": {},
   "source": [
    "![designer](pyqt/Capture20.png)"
   ]
  },
  {
   "cell_type": "markdown",
   "id": "9f5bd33e-1436-405c-9b11-1dd86e27afc3",
   "metadata": {},
   "source": [
    "On doit obtenir une fenêtre qui doit ressembler à ceci:"
   ]
  },
  {
   "cell_type": "markdown",
   "id": "003d0560-024f-423b-a432-8803bc722da8",
   "metadata": {
    "tags": []
   },
   "source": [
    "![designer](pyqt/Capture19.png)"
   ]
  },
  {
   "cell_type": "markdown",
   "id": "b180dfa4-f724-407b-82bd-aa8ec7e53057",
   "metadata": {},
   "source": [
    "C'est 'presque parfait' il ne reste qu'à ajouter un titre à la fenêtre et une icone. Ces deux opérations pourraient se faire dans designer, mais on va choisir de les coder. On peut signaler que l'ensemble de l'interface utilisateur aurait pu être codée en python, et que l'utilisation de designer n'est pas indispensable, c'est simplement plus pratique et plu rapide.\n",
    "Ajouter au code les deux lignes suivantes  dans l'initialisation de la classe MyWindow,"
   ]
  },
  {
   "cell_type": "code",
   "execution_count": 4,
   "id": "9218c1b6-7893-44b4-8628-08a07afcbc97",
   "metadata": {},
   "outputs": [
    {
     "ename": "NameError",
     "evalue": "name 'self' is not defined",
     "output_type": "error",
     "traceback": [
      "\u001b[1;31m---------------------------------------------------------------------------\u001b[0m",
      "\u001b[1;31mNameError\u001b[0m                                 Traceback (most recent call last)",
      "Cell \u001b[1;32mIn[4], line 2\u001b[0m\n\u001b[0;32m      1\u001b[0m \u001b[38;5;66;03m#Modifier le titre de la fenêtre:\u001b[39;00m\n\u001b[1;32m----> 2\u001b[0m \u001b[38;5;28;43mself\u001b[39;49m\u001b[38;5;241m.\u001b[39msetWindowTitle(\u001b[38;5;124m\"\u001b[39m\u001b[38;5;124mMon Premier Programme Avec Interface\u001b[39m\u001b[38;5;124m\"\u001b[39m)\n\u001b[0;32m      4\u001b[0m \u001b[38;5;66;03m# Ajouter une icône à la fenêtre\u001b[39;00m\n\u001b[0;32m      5\u001b[0m icon \u001b[38;5;241m=\u001b[39m QtGui\u001b[38;5;241m.\u001b[39mQIcon(\u001b[38;5;124m\"\u001b[39m\u001b[38;5;124mpyqt/poisson.png\u001b[39m\u001b[38;5;124m\"\u001b[39m)  \u001b[38;5;66;03m# Spécifiez le chemin vers votre icône\u001b[39;00m\n",
      "\u001b[1;31mNameError\u001b[0m: name 'self' is not defined"
     ]
    }
   ],
   "source": [
    "#Modifier le titre de la fenêtre:\n",
    "self.setWindowTitle(\"Mon Premier Programme Avec Interface\")\n",
    "        \n",
    "# Ajouter une icône à la fenêtre\n",
    "icon = QtGui.QIcon(\"pyqt/poisson.png\")  # Spécifiez le chemin vers votre icône\n",
    "self.setWindowIcon(icon)"
   ]
  },
  {
   "cell_type": "markdown",
   "id": "705ee64b-54c4-44b0-8999-a9cce0ea3654",
   "metadata": {},
   "source": [
    "il faudra également penser a ajouter un import "
   ]
  },
  {
   "cell_type": "code",
   "execution_count": null,
   "id": "4a36fa60-9858-4ea7-836f-8f9f3a6a9f79",
   "metadata": {},
   "outputs": [],
   "source": [
    "from PyQt5 import  QtGui"
   ]
  },
  {
   "cell_type": "markdown",
   "id": "622772cf-348d-4b6b-afd1-654db5edc229",
   "metadata": {},
   "source": [
    "Le code final est donc:"
   ]
  },
  {
   "cell_type": "code",
   "execution_count": null,
   "id": "831f700b-4227-454e-94fc-979817dac531",
   "metadata": {},
   "outputs": [],
   "source": [
    "\n",
    "import sys\n",
    "from PyQt5 import  QtWidgets, uic, QtGui\n",
    "from PyQt5.QtWidgets import QFileDialog\n",
    "import pandas as pd\n",
    "import pyqtgraph as pg\n",
    "import numpy as np\n",
    "\n",
    "\n",
    "qtCreatorFile = \"mon_interface.ui\" # Enter file here.\n",
    "Ui_MainWindow, QtBaseClass = uic.loadUiType(qtCreatorFile)\n",
    "\n",
    "\n",
    "class MyWindow(QtWidgets.QMainWindow, Ui_MainWindow):\n",
    "    def __init__(self):\n",
    "        QtWidgets.QMainWindow.__init__(self)\n",
    "        Ui_MainWindow.__init__(self)\n",
    "        self.setupUi(self)\n",
    "        \n",
    "        self.pushButton_quit.clicked.connect(self.quit)\n",
    "        self.actionOpen.triggered.connect(self.ouvrir)\n",
    "        \n",
    "        # Connexion du signal activated de la combobox à la fonction calculs\n",
    "        self.Ma_comboBox.activated.connect(self.calculs)\n",
    "        \n",
    "        #Modifier le titre de la fenêtre:\n",
    "        self.setWindowTitle(\"Mon Premier Programme Avec Interface\")\n",
    "                \n",
    "        # Ajouter une icône à la fenêtre\n",
    "        # self.setWindowIcon(QtGui.QIcon('poisson.png'))\n",
    "        icon = QtGui.QIcon(\"pyqt/poisson.png\")  # Spécifiez le chemin vers votre icône\n",
    "        self.setWindowIcon(icon)\n",
    "\n",
    "    def quit(self):   \n",
    "         \n",
    "        self.close()\n",
    "        \n",
    "    def ouvrir(self):\n",
    "        options = QFileDialog.Options()\n",
    "        fileName, _ = QFileDialog.getOpenFileName(self, \"Ouvrir un fichier\", \"\", \"Fichiers texte (*.txt)\", options=options)\n",
    "        if fileName:\n",
    "            print(\"Fichier sélectionné :\", fileName)\n",
    "            df = pd.read_csv(fileName, sep='\\t', header=0, usecols=[0, 1])\n",
    "            self.data = df.values # on ajoute self pour pouvoir utiliser la variable dans une autre fonction de la classe\n",
    "            print(\"Données extraites :\", self.data.shape)\n",
    "            self.plot()  # on appelle la fonction qui trace le graph\n",
    "       \n",
    "    def plot(self):\n",
    "         \n",
    "        self.plot_widget.plot(self.data, pen=pg.mkPen(color='r', width=2))  # Tracer les données (x, y)\n",
    "\n",
    "    def calculs(self):\n",
    "    # Récupérer la sélection de la combobox\n",
    "        selected_item = self.Ma_comboBox.currentText()\n",
    "\n",
    "        # Effectuer les calculs en fonction de l'élément sélectionné\n",
    "        if selected_item == \"Minimum\":\n",
    "            result = np.min(self.data[:, 1])\n",
    "        elif selected_item == \"Maximum\":\n",
    "            result = np.max(self.data[:, 1])\n",
    "        elif selected_item == \"Moyenne\":\n",
    "            result = np.mean(self.data[:, 1])\n",
    "        elif selected_item == \"Ecart Type\":\n",
    "            result = np.std(self.data[:, 1])\n",
    "        else:\n",
    "            result = None\n",
    "\n",
    "        # Afficher le résultat dans le label\n",
    "        if result is not None:\n",
    "            texte_affichage = selected_item+': '+\": {:.3f}\".format(result)\n",
    "            print(texte_affichage)\n",
    "            self.Ma_label.setText(texte_affichage)\n",
    "        else:\n",
    "            self.Ma_label.setText(\"\")\n",
    "\n",
    "if __name__ == \"__main__\":\n",
    "    app = QtWidgets.QApplication(sys.argv)\n",
    "    window = MyWindow()\n",
    "    window.show()\n",
    "    sys.exit(app.exec_())\n"
   ]
  }
 ],
 "metadata": {
  "kernelspec": {
   "display_name": "Python 3 (ipykernel)",
   "language": "python",
   "name": "python3"
  },
  "language_info": {
   "codemirror_mode": {
    "name": "ipython",
    "version": 3
   },
   "file_extension": ".py",
   "mimetype": "text/x-python",
   "name": "python",
   "nbconvert_exporter": "python",
   "pygments_lexer": "ipython3",
   "version": "3.10.13"
  }
 },
 "nbformat": 4,
 "nbformat_minor": 5
}
